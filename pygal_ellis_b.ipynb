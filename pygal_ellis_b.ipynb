{
 "cells": [
  {
   "cell_type": "markdown",
   "metadata": {},
   "source": [
    "# Brandon Ellis Spotlight\n",
    "\n",
    "## Pygal data visualizaiton library\n",
    "\n",
    "Pygal is a data visualiation tool that offers interactive plots that can be embedded in to web browsers. What differentiates Pygal from other interactive visualization libraries is the ability to output charts as SVGs. The only downfall to being able to create SVG as an output is if you are using hundreds of thousands of data points, you will have trouble rendering the SVG to be a clear image.\n",
    "\n",
    "### Pygal Setup\n",
    "1. Install Pygal using \"pip install pygal\"\n",
    "2. To render the charts in the browser you have to install lxml using \"conda install --name cs489 -c anaconda lxml=3.6.4\"\n",
    "\n"
   ]
  },
  {
   "cell_type": "markdown",
   "metadata": {},
   "source": [
    "### The data\n",
    "I used the dc comic characters from the github five thirty eight files. Since this data set gives distinguishing characteristics for all of the comic characters I wanted to evaluate these with this package library, and eventually try to see if there were key characteristics separating Good Characters from Bad Characters."
   ]
  },
  {
   "cell_type": "code",
   "execution_count": 3,
   "metadata": {
    "collapsed": false
   },
   "outputs": [],
   "source": [
    "import pandas as pd\n",
    "# data source - https://github.com/fivethirtyeight/data/blob/master/comic-characters/dc-wikia-data.csv\n",
    "dc_df = pd.read_csv(\"../dc-wikia-data.csv\")\n",
    "dc_df\n",
    "\n",
    "import pygal"
   ]
  },
  {
   "cell_type": "markdown",
   "metadata": {},
   "source": [
    "## Example of the outputs\n",
    "\n",
    "Here is an example 2 different ways to output the files, via SVG file, or through the browser.\n",
    "Note that the .render_in_browser() requires lxml to be installed. Please refer to the Setup description above for install instructions."
   ]
  },
  {
   "cell_type": "code",
   "execution_count": 4,
   "metadata": {
    "collapsed": false
   },
   "outputs": [
    {
     "name": "stdout",
     "output_type": "stream",
     "text": [
      "file:///var/folders/__/61br4kn94fg9cf63qy5qqx1r0000gn/T/tmpJIc2N8.html\n"
     ]
    }
   ],
   "source": [
    "import pygal                                                       # First import pygal\n",
    "bar_chart = pygal.Bar()                                            # Then create a bar graph object\n",
    "bar_chart.add('Fibonacci', [0, 1, 1, 2, 3, 5, 8, 13, 21, 34, 55])  # Add some values\n",
    "#bar_chart.render_to_file('bar_chart.svg') # render file to svg then open it with broser\n",
    "bar_chart.render_in_browser() # render the chart to your default browser"
   ]
  },
  {
   "cell_type": "markdown",
   "metadata": {},
   "source": [
    "### Number of Good Characters vs Bad Characters vs Nuetral Characters "
   ]
  },
  {
   "cell_type": "code",
   "execution_count": 5,
   "metadata": {
    "collapsed": false
   },
   "outputs": [],
   "source": [
    "# number Good guys vs Bad Guys by decades\n",
    "# grabbing the data \n",
    "\n",
    "def find_decade(x): # function to bucket the characters by decades in format [x,y)\n",
    "    if((x >=  1930) & (x < 1940)):\n",
    "        return 0\n",
    "    if((x >= 1940) & (x < 1950)):\n",
    "        return 1\n",
    "    if((x >= 1950) & (x < 1960)):\n",
    "        return 2\n",
    "    if((x >= 1960) & (x < 1970)):\n",
    "        return 3\n",
    "    if((x >= 1970) & (x < 1980)):\n",
    "        return 4\n",
    "    if((x >= 1980) & (x < 1990)):\n",
    "        return 5\n",
    "    if((x >= 1990) & (x < 2000)):\n",
    "        return 6\n",
    "    if((x >= 2000) & (x < 2010)):\n",
    "        return 7\n",
    "    if((x >= 2010) & (x < 2020)):\n",
    "        return 8\n",
    "\n",
    "good_by_dec = [0,0,0,0,0,0,0,0,0]\n",
    "bad_by_dec = [0,0,0,0,0,0,0,0,0]\n",
    "neut_by_dec = [0,0,0,0,0,0,0,0,0]\n",
    "error = 0\n",
    "    \n",
    "for index, row in dc_df.iterrows():\n",
    "    #find the decade charcater was in\n",
    "    decade = find_decade(dc_df['YEAR'][index])\n",
    "    if decade is None:\n",
    "        error += 1\n",
    "    elif(row['ALIGN']==\"Good Characters\"):\n",
    "        good_by_dec[decade] = good_by_dec[decade] + 1\n",
    "    elif(row['ALIGN']==\"Bad Characters\"):\n",
    "        bad_by_dec[decade] = bad_by_dec[decade] + 1\n",
    "    elif(row['ALIGN']==\"Neutral Characters\"): #nuetral characters\n",
    "        neut_by_dec[decade] = neut_by_dec[decade] + 1\n",
    "        "
   ]
  },
  {
   "cell_type": "markdown",
   "metadata": {},
   "source": [
    "##### Graphing number of characters by alignment into decades"
   ]
  },
  {
   "cell_type": "code",
   "execution_count": 4,
   "metadata": {
    "collapsed": false
   },
   "outputs": [
    {
     "name": "stdout",
     "output_type": "stream",
     "text": [
      "file:///var/folders/__/61br4kn94fg9cf63qy5qqx1r0000gn/T/tmpfyPJFm.html\n"
     ]
    }
   ],
   "source": [
    "#how many good guys vs bad guys vs neutral guys\n",
    "\n",
    "# create a bar graph object\n",
    "dec_chart = pygal.Bar(title=\"Character numbers by decades\",x_title=\"Decades (format [start, finish))\",  y_title=\"# of characters\")\n",
    "\n",
    "# You can also create the title through attributes of the pygal.Bar object type like so..\n",
    "#dec_chart.title = \"Character numbers by decades\"\n",
    "\n",
    "dec_chart.x_labels = ['\\'30-\\'40','\\'40-\\'50','\\'50-\\'60','\\'60-\\'70','\\'70-\\'80','\\'80-\\'90','\\'90-\\'00','\\'00-\\'10','\\'10-\\'20']\n",
    "dec_chart.add('Bad Characters', bad_by_dec)  # Add some values\n",
    "dec_chart.add('Good Characters', good_by_dec)  # Add some values\n",
    "dec_chart.add('Neutral Charac', neut_by_dec)  # Add some values\n",
    "dec_chart.render_in_browser()"
   ]
  },
  {
   "cell_type": "markdown",
   "metadata": {},
   "source": [
    "## Determine if characteristics of comic characters help determine if they are good, bad, or nuetral\n",
    "\n",
    "To do this, I tried to find distinguishing features from the data set given.\n",
    "\n",
    "First I looked at Eye Color, then Sexual Orientation.\n",
    "\n",
    "Lastly, I combined all of the data I thought would be relevant to help determine dinstinguishing charactersists by plotting data into a Radar chart.\n",
    "\n",
    "##### Grabbing data for Eye Color and Sexual Orientation:"
   ]
  },
  {
   "cell_type": "code",
   "execution_count": 6,
   "metadata": {
    "collapsed": false
   },
   "outputs": [],
   "source": [
    "# Grabbing data for Eye color\n",
    "\n",
    "dc_df['EYE'].unique()\n",
    "#blue, brown, green, purple, black, white, red, \n",
    "#photocellular, hazel, amber, yellow, nan, grey, pink, violet, gold, orange, auburn hair\n",
    "\n",
    "def find_color(x):\n",
    "    if x == 'Blue Eyes':\n",
    "        return 0\n",
    "    elif (x == 'Brown Eyes') | (x == 'Hazel Eyes'):\n",
    "        return 1\n",
    "    elif x == 'Green Eyes':\n",
    "        return 2\n",
    "    elif (x == 'Purple Eyes') | (x == 'Violet Eyes'):\n",
    "        return 3\n",
    "    elif x == 'Black Eyes':\n",
    "        return 4\n",
    "    elif x == 'White Eyes':\n",
    "        return 5\n",
    "    elif x == 'Red Eyes':\n",
    "        return 6\n",
    "    elif (x == 'Amber Eyes') | (x == 'Orange Eyes'):\n",
    "        return 7\n",
    "    elif (x == 'Yellow Eyes') | (x == 'Gold Eyes'):\n",
    "        return 8\n",
    "    elif x == 'Grey Eyes':\n",
    "        return 9\n",
    "    elif x == 'Pink Eyes':\n",
    "        return 10\n",
    "    else:\n",
    "        return -1\n",
    "    \n",
    "def find_sex(x):\n",
    "    if x == 'Male Characters':\n",
    "        return 0 #0 = good, 0+1 = bad\n",
    "    elif x == 'Female Characters':\n",
    "        return 2 #2 = good, 2+1 = bad\n",
    "    elif x == 'Genderless Characters':\n",
    "        return 4 # \"other\"\n",
    "    elif x == 'Transgender Characters':\n",
    "        return 4 # \"other\"\n",
    "    else:\n",
    "        return -1\n",
    "\n",
    "good_chr_eyes = [0,0,0,0,0,0,0,0,0,0,0]\n",
    "bad_chr_eyes = [0,0,0,0,0,0,0,0,0,0,0]\n",
    "neut_chr_eyes = [0,0,0,0,0,0,0,0,0,0,0]\n",
    "eye_error = 0\n",
    "\n",
    "\n",
    "sex_of_char = [0,0,0,0,0]\n",
    "sex_error = 0\n",
    "character_total = 0\n",
    "\n",
    "\n",
    "\n",
    "for index, row in dc_df.iterrows():\n",
    "    eyecolor = find_color(row['EYE'])\n",
    "    sex_chr = find_sex(row['SEX'])\n",
    "    if eyecolor == -1:\n",
    "        eye_error += 1\n",
    "    elif row['ALIGN'] == 'Good Characters':\n",
    "        good_chr_eyes[eyecolor] += 1\n",
    "    elif row['ALIGN'] == 'Bad Characters':\n",
    "        bad_chr_eyes[eyecolor] += 1\n",
    "    elif row['ALIGN'] == 'Neutral Characters':\n",
    "        neut_chr_eyes[eyecolor] += 1\n",
    "        \n",
    "    if sex_chr == -1:\n",
    "        sex_error += 1\n",
    "    elif sex_chr == 4:\n",
    "        sex_of_char[sex_chr] += 1\n",
    "        character_total += 1\n",
    "    elif row['ALIGN'] == 'Good Characters':\n",
    "        sex_of_char[sex_chr] += 1\n",
    "        character_total += 1\n",
    "    elif row['ALIGN'] == 'Bad Characters':\n",
    "        sex_of_char[sex_chr+1] += 1\n",
    "        character_total += 1\n"
   ]
  },
  {
   "cell_type": "markdown",
   "metadata": {},
   "source": [
    "#### Graphing the data about the eye color\n",
    "I also want to note that Pygal is very customizable. In Pygal there is a style attribute for all of the charts, and the style attribute can be given either built-in styles by the library package or user defined styles.\n",
    "\n",
    "Here in this example you can toggle between the two lines where I define the pygal.HorizontalBar to see an example of the 2 different built-in stlyes.\n",
    "\n",
    "You can see other built-in stlyes at: http://www.pygal.org/en/stable/documentation/builtin_styles.html\n",
    "\n",
    "For general styling refer to: http://www.pygal.org/en/stable/documentation/styles.html"
   ]
  },
  {
   "cell_type": "code",
   "execution_count": 7,
   "metadata": {
    "collapsed": false
   },
   "outputs": [
    {
     "name": "stdout",
     "output_type": "stream",
     "text": [
      "file:///var/folders/__/61br4kn94fg9cf63qy5qqx1r0000gn/T/tmpblWDzi.html\n"
     ]
    }
   ],
   "source": [
    "#built-in styles imports\n",
    "from pygal.style import DarkStyle\n",
    "from pygal.style import DarkSolarizedStyle\n",
    "\n",
    "#Toggle here to view 2 different built-in types\n",
    "#eye_dot = pygal.HorizontalBar(style=DarkStyle)\n",
    "eye_dot = pygal.HorizontalBar(style=DarkSolarizedStyle)\n",
    "\n",
    "eye_dot.title = 'Eye Color Association with Character Alignment'\n",
    "eye_dot.x_labels = ['Blue', 'Brown/Hazel', 'Green', 'Purple/Violet', 'Black', 'White', 'Red', 'Orange/Amber', 'Yellow/Gold', 'Grey', 'Pink']\n",
    "eye_dot.add('Bad',bad_chr_eyes)\n",
    "eye_dot.add('Good',good_chr_eyes)\n",
    "eye_dot.add('Neutral', neut_chr_eyes)\n",
    "eye_dot.render_in_browser()\n",
    "\n",
    "#notes about chart\n",
    "    # red & black standout for bad characters\n",
    "    #brown/hazel & blue standout for good characters"
   ]
  },
  {
   "cell_type": "markdown",
   "metadata": {},
   "source": [
    "#### Notes from chart:\n",
    "I want to note that the colors red & black standout for bad characters while brown/hazel & blue standout for good characters\n",
    "\n",
    "##### Plotting sexual Orientation Data\n",
    "If you refer to: http://www.pygal.org/en/stable/documentation/types/pie.html\n",
    "One interesting thing that I found out was you are able to mix and match some of the attributes of different graph types. In other words here I used both \"half pie\" and \"inner radius\" in one chart to show that this is accepted.\n",
    "\n",
    "I did not test it with other chart types but maybe you can check that out and see how much more is avaiable."
   ]
  },
  {
   "cell_type": "code",
   "execution_count": 8,
   "metadata": {
    "collapsed": false
   },
   "outputs": [
    {
     "name": "stdout",
     "output_type": "stream",
     "text": [
      "file:///var/folders/__/61br4kn94fg9cf63qy5qqx1r0000gn/T/tmpBq17QH.html\n"
     ]
    }
   ],
   "source": [
    "#table with sexual orientation\n",
    "from pygal.style import LightStyle\n",
    "\n",
    "sex_orientation = pygal.Pie(inner_radius=.4, half_pie=True, style=LightStyle)\n",
    "sex_orientation.title = 'Sexual Orientation of Characters (in %)'\n",
    "sex_orientation.add('Good Male', sex_of_char[0]/float(character_total)*100)\n",
    "sex_orientation.add('Bad Male', sex_of_char[1]/float(character_total)*100)\n",
    "sex_orientation.add('Good Female', sex_of_char[2]/float(character_total)*100)\n",
    "sex_orientation.add('Bad Female', sex_of_char[3]/float(character_total)*100)\n",
    "sex_orientation.add('Other Bad/Good', sex_of_char[4]/float(character_total)*100)\n",
    "sex_orientation.render_in_browser()"
   ]
  },
  {
   "cell_type": "markdown",
   "metadata": {},
   "source": [
    "#### Notes from chart:\n",
    "From this data I cannot really conclude with anything specific except that a majority of the characters are Male.\n",
    "\n",
    "\n",
    "##### Grabbing data for Radar Chart:\n",
    "In this chart I used the properties:\n",
    "1. brown/blue eyes\n",
    "2. living\n",
    "3. male\n",
    "4. Public ID\n",
    "5. Red & Black Eyes\n",
    "6. Deceased\n",
    "7. Female\n",
    "8. Secret ID\n",
    "\n",
    "for Good Characters, Bad Characters, and Nuetral Characters individually. This way I can compare the results from the three to try and determine key features in these aligmnet characters to better guess what a new character might be."
   ]
  },
  {
   "cell_type": "code",
   "execution_count": 9,
   "metadata": {
    "collapsed": false
   },
   "outputs": [],
   "source": [
    "# gather information for the Radar Chart below\n",
    "\n",
    "# indeces meaning\n",
    "    # 0 - brown/blue eyes\n",
    "    # 1 - living\n",
    "    # 2 - male\n",
    "    # 3 - Public ID\n",
    "    # 4 - Red & Black Eyes\n",
    "    # 5 - Deceased\n",
    "    # 6 - Female\n",
    "    # 7 - Secret ID\n",
    "\n",
    "radar_good = [0,0,0,0,0,0,0,0]\n",
    "radar_bad = [0,0,0,0,0,0,0,0]\n",
    "radar_nuet = [0,0,0,0,0,0,0,0]\n",
    "\n",
    "def fill_array(row, array):\n",
    "    if (row['EYE'] == 'Brown Eyes') | (row['EYE'] == 'Blue Eyes'):\n",
    "        array[0] += 1\n",
    "    if (row['ALIVE'] == 'Living Characters'):\n",
    "        array[1] += 1\n",
    "    if (row['SEX'] == 'Male Characters'):\n",
    "        array[2] += 1\n",
    "    if (row['ID'] == 'Public Identity'):\n",
    "        array[3] += 1\n",
    "    if (row['EYE'] == 'Red Eyes') | (row['EYE'] == 'Black Eyes'):\n",
    "        array[4] += 1\n",
    "    if (row['ALIVE'] == 'Deceased Characters'):\n",
    "        array[5] += 1\n",
    "    if (row['SEX'] == 'Female Characters'):\n",
    "        array[6] += 1\n",
    "    if (row['ID'] == 'Secret Identity'):\n",
    "        array[7] += 1\n",
    "\n",
    "for index, row in dc_df.iterrows():\n",
    "    if row['ALIGN'] == 'Good Characters':\n",
    "        fill_array(row, radar_good)\n",
    "    elif row['ALIGN'] == 'Bad Characters':\n",
    "        fill_array(row, radar_bad)\n",
    "    elif row['ALIGN'] == 'Neutral Characters':\n",
    "        fill_array(row, radar_nuet)\n",
    "        "
   ]
  },
  {
   "cell_type": "markdown",
   "metadata": {},
   "source": [
    "#### Graphing the data onto a Radar Plot"
   ]
  },
  {
   "cell_type": "code",
   "execution_count": 11,
   "metadata": {
    "collapsed": false
   },
   "outputs": [
    {
     "name": "stdout",
     "output_type": "stream",
     "text": [
      "file:///var/folders/__/61br4kn94fg9cf63qy5qqx1r0000gn/T/tmptc9nmc.html\n"
     ]
    }
   ],
   "source": [
    "\n",
    "# Style allows you to custom the syle for the chart\n",
    "from pygal.style import Style\n",
    "\n",
    "# EXAMPLE of creating your custom stlying.\n",
    "# source - http://www.pygal.org/en/stable/documentation/custom_styles.html\n",
    "custom_style = Style(\n",
    "    background = '#464851',\n",
    "    plot_background = 'transparent',\n",
    "    foreground = '#eaebed',\n",
    "    foreground_strong='#c2c2c4',\n",
    "    foreground_subtle='#c2c2c4',\n",
    "    opacity='0',\n",
    "    opacity_hover='.9',\n",
    "    transition='400ms ease-in',\n",
    "    colors = ('#ff3728', '#33cc33','#ff9933')\n",
    ")\n",
    "\n",
    "char_radar = pygal.Radar(style=custom_style, fill=True)\n",
    "char_radar.title = 'Character Radar Chart'\n",
    "char_radar.x_labels = ['Brown & Blue Eyes', 'Living', 'Male', 'Public ID', 'Red & Black Eyes', 'Deceased', 'Female', 'Secret ID']\n",
    "char_radar.add('Bad', radar_bad)\n",
    "char_radar.add('Good', radar_good)\n",
    "char_radar.add('Neutral', radar_nuet)\n",
    "char_radar.render_in_browser()"
   ]
  },
  {
   "cell_type": "markdown",
   "metadata": {},
   "source": [
    "##### Conclusion from charts: \n",
    "I was unable to determine key characteristics between Good, Bad, and Nuetral Characters from the data given. BOO :/\n",
    "\n",
    "\n",
    "## Embedding Pygal into HTML pages\n",
    "\n",
    "It's super easy to embed these charts/graphs into html pages the simplest way is to simply export the chart/graph as a SVG file and then use the figure and embed tags as shown below\n",
    "\n",
    "source: http://www.pygal.org/en/stable/documentation/web.html\n",
    "\n",
    "##### NOTE: You have to be sure to put \"image/svg+xml\"  in the type attribute for this to work properly"
   ]
  },
  {
   "cell_type": "raw",
   "metadata": {},
   "source": [
    "<html>\n",
    "  <head>\n",
    "    <!-- ... -->\n",
    "  </head>\n",
    "  <body>\n",
    "    <figure>\n",
    "      <embed type=\"image/svg+xml\" src=\"/mysvg.svg\" />\n",
    "    </figure>\n",
    "  </body>\n",
    "</html>"
   ]
  },
  {
   "cell_type": "code",
   "execution_count": 11,
   "metadata": {
    "collapsed": false
   },
   "outputs": [
    {
     "data": {
      "text/html": [
       "<!DOCTYPE html><html><head><h1>Html Page with Pygal</h1><br></head><body><figure><embed type=\"image/svg+xml\" src=\"dot.svg\" /></figure></body></html>"
      ],
      "text/plain": [
       "<IPython.core.display.HTML object>"
      ]
     },
     "metadata": {},
     "output_type": "display_data"
    }
   ],
   "source": [
    "# this uses the example dot graph from: http://www.pygal.org/en/stable/documentation/types/dot.html\n",
    "from IPython.core.display import display, HTML\n",
    "display(HTML('<!DOCTYPE html><html><head><h1>Html Page with Pygal</h1><br></head><body><figure><embed type=\"image/svg+xml\" src=\"dot.svg\" /></figure></body></html>'))"
   ]
  },
  {
   "cell_type": "markdown",
   "metadata": {},
   "source": [
    "### Sources:\n",
    "1. https://github.com/fivethirtyeight/data/blob/master/comic-characters/dc-wikia-data.csv\n",
    "2. http://www.pygal.org/en/stable/index.html\n",
    "3. https://anaconda.org/anaconda/lxml"
   ]
  },
  {
   "cell_type": "code",
   "execution_count": null,
   "metadata": {
    "collapsed": true
   },
   "outputs": [],
   "source": []
  }
 ],
 "metadata": {
  "anaconda-cloud": {},
  "kernelspec": {
   "display_name": "Python [conda env:cs489]",
   "language": "python",
   "name": "conda-env-cs489-py"
  },
  "language_info": {
   "codemirror_mode": {
    "name": "ipython",
    "version": 2
   },
   "file_extension": ".py",
   "mimetype": "text/x-python",
   "name": "python",
   "nbconvert_exporter": "python",
   "pygments_lexer": "ipython2",
   "version": "2.7.12"
  }
 },
 "nbformat": 4,
 "nbformat_minor": 1
}
