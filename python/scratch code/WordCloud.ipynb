{
 "cells": [
  {
   "cell_type": "code",
   "execution_count": 23,
   "metadata": {
    "collapsed": true
   },
   "outputs": [],
   "source": [
    "#Function to read in stop words\n",
    "def stopword_file_to_list(file_name):\n",
    "    f = open(\"../StopWordLists/\" + file_name)\n",
    "    file_text = f.read()\n",
    "    return file_text.split(\"\\r\")\n",
    "\n",
    "#Remove words in list from string\n",
    "def remove_words(s,words_to_remove):\n",
    "    word_list = s.split()\n",
    "    resultwords  = [word for word in word_list if word.lower() not in words_to_remove]\n",
    "    result = ' '.join(resultwords)\n",
    "    return result\n",
    "\n",
    "comprehensive_stopword_list = stopword_file_to_list(\"comprehensive_stopwords.txt\")\n",
    "comprehensive_stopword_list.append(\"trump\")\n",
    "comprehensive_stopword_list.append(\"trumps\")\n",
    "comprehensive_stopword_list.append(\"donald\")\n",
    "comprehensive_stopword_list.append(\"j.\")\n",
    "comprehensive_stopword_list.append(\"hillary\")\n",
    "comprehensive_stopword_list.append(\"clinton\")\n",
    "comprehensive_stopword_list.append(\"clintons\")\n",
    "comprehensive_stopword_list.append(\"clintonphoto\")\n",
    "comprehensive_stopword_list.append(\"president\")\n",
    "comprehensive_stopword_list.append(\"new\")\n",
    "comprehensive_stopword_list.append(\"york\")\n",
    "comprehensive_stopword_list.append(\"time\")\n",
    "comprehensive_stopword_list.append(\"times\")\n",
    "comprehensive_stopword_list.append(\"cnn\")\n",
    "comprehensive_stopword_list.append(\"wall\")\n",
    "comprehensive_stopword_list.append(\"street\")\n",
    "comprehensive_stopword_list.append(\"journal\")\n",
    "comprehensive_stopword_list.append(\"election\")\n",
    "comprehensive_stopword_list.append(\"will\")\n",
    "comprehensive_stopword_list.append(\"breaking\")\n",
    "comprehensive_stopword_list.append(\"new\")\n",
    "comprehensive_stopword_list.append(\"news\")\n",
    "comprehensive_stopword_list.append(\"tweet\")\n",
    "comprehensive_stopword_list.append(\"writes\")\n",
    "comprehensive_stopword_list.append(\"cbsn\")\n",
    "\n"
   ]
  },
  {
   "cell_type": "code",
   "execution_count": 2,
   "metadata": {
    "collapsed": true
   },
   "outputs": [],
   "source": [
    "# for \"grab em by the pussy\" word cloud\n",
    "comprehensive_stopword_list.append(\"bill\")\n",
    "comprehensive_stopword_list.append(\"presidential\")\n",
    "comprehensive_stopword_list.append(\"day\")\n",
    "comprehensive_stopword_list.append(\"well\")\n",
    "comprehensive_stopword_list.append(\"going\")\n",
    "comprehensive_stopword_list.append(\"debate\")\n",
    "comprehensive_stopword_list.append(\"campaign\")\n",
    "comprehensive_stopword_list.append(\"second\")\n",
    "comprehensive_stopword_list.append(\"republican\")"
   ]
  },
  {
   "cell_type": "code",
   "execution_count": 17,
   "metadata": {
    "collapsed": true
   },
   "outputs": [],
   "source": [
    "# for \"email scandal\" word cloud\n",
    "comprehensive_stopword_list.append(\"bill\")\n",
    "comprehensive_stopword_list.append(\"mike\")\n",
    "comprehensive_stopword_list.append(\"presidential\")\n",
    "comprehensive_stopword_list.append(\"candidate\")\n",
    "comprehensive_stopword_list.append(\"american\")\n",
    "comprehensive_stopword_list.append(\"nominee\")\n",
    "comprehensive_stopword_list.append(\"secretary\")\n",
    "comprehensive_stopword_list.append(\"state\")\n",
    "# comprehensive_stopword_list.append(\"day\")\n",
    "# comprehensive_stopword_list.append(\"well\")\n",
    "# comprehensive_stopword_list.append(\"going\")\n",
    "# comprehensive_stopword_list.append(\"debate\")\n",
    "comprehensive_stopword_list.append(\"campaign\")\n",
    "# comprehensive_stopword_list.append(\"second\")\n",
    "# comprehensive_stopword_list.append(\"republican\")"
   ]
  },
  {
   "cell_type": "code",
   "execution_count": 24,
   "metadata": {
    "collapsed": true
   },
   "outputs": [],
   "source": [
    "# for \"democratic convention\" word cloud\n",
    "comprehensive_stopword_list.append(\"bill\")\n",
    "comprehensive_stopword_list.append(\"mike\")\n",
    "comprehensive_stopword_list.append(\"presidential\")\n",
    "comprehensive_stopword_list.append(\"candidate\")\n",
    "comprehensive_stopword_list.append(\"american\")\n",
    "comprehensive_stopword_list.append(\"nominee\")\n",
    "comprehensive_stopword_list.append(\"secretary\")\n",
    "comprehensive_stopword_list.append(\"state\")\n",
    "comprehensive_stopword_list.append(\"day\")\n",
    "comprehensive_stopword_list.append(\"well\")\n",
    "comprehensive_stopword_list.append(\"going\")\n",
    "comprehensive_stopword_list.append(\"debate\")\n",
    "comprehensive_stopword_list.append(\"campaign\")\n",
    "comprehensive_stopword_list.append(\"second\")\n",
    "comprehensive_stopword_list.append(\"republican\")\n",
    "comprehensive_stopword_list.append(\"democratic\")\n",
    "comprehensive_stopword_list.append(\"national\")\n",
    "comprehensive_stopword_list.append(\"convention\")\n",
    "comprehensive_stopword_list.append(\"dnc\")\n",
    "comprehensive_stopword_list.append(\"obama\")\n",
    "comprehensive_stopword_list.append(\"bernie\")\n",
    "comprehensive_stopword_list.append(\"sanders\")\n",
    "comprehensive_stopword_list.append(\"kaine\")\n",
    "comprehensive_stopword_list.append(\"rnc\")\n",
    "comprehensive_stopword_list.append(\"ted\")\n",
    "comprehensive_stopword_list.append(\"cruz\")\n",
    "comprehensive_stopword_list.append(\"party\")\n",
    "comprehensive_stopword_list.append(\"gop\")\n",
    "comprehensive_stopword_list.append(\"night\")\n",
    "comprehensive_stopword_list.append(\"watch\")\n",
    "comprehensive_stopword_list.append(\"rncincle\")\n",
    "comprehensive_stopword_list.append(\"tonight\")\n",
    "comprehensive_stopword_list.append(\"live\")\n",
    "comprehensive_stopword_list.append(\"crowd\")\n",
    "comprehensive_stopword_list.append(\"stage\")\n",
    "comprehensive_stopword_list.append(\"moment\")\n",
    "comprehensive_stopword_list.append(\"cleveland\")\n",
    "comprehensive_stopword_list.append(\"jr\")\n",
    "comprehensive_stopword_list.append(\"united\")\n",
    "comprehensive_stopword_list.append(\"states\")\n",
    "comprehensive_stopword_list.append(\"america\")\n",
    "comprehensive_stopword_list.append(\"nomination\")\n",
    "comprehensive_stopword_list.append(\"people\")"
   ]
  },
  {
   "cell_type": "markdown",
   "metadata": {},
   "source": [
    "# Wordcloud Example"
   ]
  },
  {
   "cell_type": "code",
   "execution_count": 2,
   "metadata": {
    "collapsed": false
   },
   "outputs": [],
   "source": [
    "from os import path\n",
    "import matplotlib.pyplot as plt\n",
    "from wordcloud import WordCloud\n",
    "import re\n",
    "\n",
    "# get the posts from ____ news outlet into a text file and change path below\n",
    "data_path = '../Data Viz/Wordcloud/nyt_text_test.txt'\n",
    "\n",
    "# Read the whole text.\n",
    "text = open(data_path).read()\n",
    "text = re.sub('[,\\.!?\\'-]','',text)\n",
    "# remove stop words from text\n",
    "\n",
    "text_wo_stopwords = remove_words(text, comprehensive_stopword_list)\n",
    "#print text_wo_stopwords\n",
    "\n",
    "wordcloud = WordCloud().generate(text_wo_stopwords)\n",
    "# Open a plot of the generated image.\n",
    "plt.imshow(wordcloud)\n",
    "plt.axis(\"off\")\n",
    "plt.show()"
   ]
  },
  {
   "cell_type": "code",
   "execution_count": null,
   "metadata": {
    "collapsed": true
   },
   "outputs": [],
   "source": []
  },
  {
   "cell_type": "markdown",
   "metadata": {
    "collapsed": false
   },
   "source": [
    "# Reading in Data"
   ]
  },
  {
   "cell_type": "code",
   "execution_count": 3,
   "metadata": {
    "collapsed": false
   },
   "outputs": [],
   "source": [
    "import re\n",
    "import pandas as pd\n",
    "import json\n",
    "import numpy as np\n",
    "\n",
    "cbs_df = pd.read_csv('../Facebook_RAW/CBSNews_facebook_statuses.csv')\n",
    "cnn_df = pd.read_csv('../Facebook_RAW/cnn_facebook_statuses.csv')\n",
    "fox_df = pd.read_csv('../Facebook_RAW/FoxNews_facebook_statuses.csv')\n",
    "msnbc_df = pd.read_csv('../Facebook_RAW/msnbc_facebook_statuses.csv')\n",
    "nyt_df = pd.read_csv('../Facebook_RAW/nytimes_facebook_statuses.csv')\n",
    "usatoday_df = pd.read_csv('../Facebook_RAW/usatoday_facebook_statuses.csv')\n",
    "wsj_df = pd.read_csv('../Facebook_RAW/wsj_facebook_statuses.csv')\n",
    "\n",
    "\n",
    "# removing \\n characters\n",
    "cbs_df['status_message'] = cbs_df['status_message'].apply(lambda x: x.replace(\"\\n\", \"\"))\n",
    "cnn_df['status_message'] = cnn_df['status_message'].apply(lambda x: x.replace(\"\\n\", \"\"))\n",
    "fox_df['status_message'] = fox_df['status_message'].apply(lambda x: x.replace(\"\\n\", \"\"))\n",
    "msnbc_df['status_message'] = msnbc_df['status_message'].apply(lambda x: x.replace(\"\\n\", \"\"))\n",
    "nyt_df['status_message'] = nyt_df['status_message'].apply(lambda x: x.replace(\"\\n\", \"\"))\n",
    "usatoday_df['status_message'] = usatoday_df['status_message'].apply(lambda x: x.replace(\"\\n\", \"\"))\n",
    "wsj_df['status_message'] = wsj_df['status_message'].apply(lambda x: x.replace(\"\\n\", \"\"))\n",
    "\n",
    "# removing hyperlinks within text\n",
    "cbs_df['status_message'] = cbs_df['status_message'].apply(lambda x: re.sub(r'(?i)\\b((?:https?://|www\\d{0,3}[.]|[a-z0-9.\\-]+[.][a-z]{2,4}     /)(?:[^\\s()<>]+|\\(([^\\s()<>]+|(\\([^\\s()<>]+\\)))*\\))+(?:\\(([^\\s()<>]+|(\\([^\\s()<>]+\\)))*\\)|[^\\s`!()\\[\\]{};:\\'\".,<>?«»“”‘’]))', '', x))\n",
    "cnn_df['status_message'] = cnn_df['status_message'].apply(lambda x: re.sub(r'(?i)\\b((?:https?://|www\\d{0,3}[.]|[a-z0-9.\\-]+[.][a-z]{2,4}     /)(?:[^\\s()<>]+|\\(([^\\s()<>]+|(\\([^\\s()<>]+\\)))*\\))+(?:\\(([^\\s()<>]+|(\\([^\\s()<>]+\\)))*\\)|[^\\s`!()\\[\\]{};:\\'\".,<>?«»“”‘’]))', '', x))\n",
    "fox_df['status_message'] = fox_df['status_message'].apply(lambda x: re.sub(r'(?i)\\b((?:https?://|www\\d{0,3}[.]|[a-z0-9.\\-]+[.][a-z]{2,4}     /)(?:[^\\s()<>]+|\\(([^\\s()<>]+|(\\([^\\s()<>]+\\)))*\\))+(?:\\(([^\\s()<>]+|(\\([^\\s()<>]+\\)))*\\)|[^\\s`!()\\[\\]{};:\\'\".,<>?«»“”‘’]))', '', x))\n",
    "msnbc_df['status_message'] = msnbc_df['status_message'].apply(lambda x: re.sub(r'(?i)\\b((?:https?://|www\\d{0,3}[.]|[a-z0-9.\\-]+[.][a-z]{2,4}     /)(?:[^\\s()<>]+|\\(([^\\s()<>]+|(\\([^\\s()<>]+\\)))*\\))+(?:\\(([^\\s()<>]+|(\\([^\\s()<>]+\\)))*\\)|[^\\s`!()\\[\\]{};:\\'\".,<>?«»“”‘’]))', '', x))\n",
    "nyt_df['status_message'] = nyt_df['status_message'].apply(lambda x: re.sub(r'(?i)\\b((?:https?://|www\\d{0,3}[.]|[a-z0-9.\\-]+[.][a-z]{2,4}     /)(?:[^\\s()<>]+|\\(([^\\s()<>]+|(\\([^\\s()<>]+\\)))*\\))+(?:\\(([^\\s()<>]+|(\\([^\\s()<>]+\\)))*\\)|[^\\s`!()\\[\\]{};:\\'\".,<>?«»“”‘’]))', '', x))\n",
    "usatoday_df['status_message'] = usatoday_df['status_message'].apply(lambda x: re.sub(r'(?i)\\b((?:https?://|www\\d{0,3}[.]|[a-z0-9.\\-]+[.][a-z]{2,4}     /)(?:[^\\s()<>]+|\\(([^\\s()<>]+|(\\([^\\s()<>]+\\)))*\\))+(?:\\(([^\\s()<>]+|(\\([^\\s()<>]+\\)))*\\)|[^\\s`!()\\[\\]{};:\\'\".,<>?«»“”‘’]))', '', x))\n",
    "wsj_df['status_message'] = wsj_df['status_message'].apply(lambda x: re.sub(r'(?i)\\b((?:https?://|www\\d{0,3}[.]|[a-z0-9.\\-]+[.][a-z]{2,4}     /)(?:[^\\s()<>]+|\\(([^\\s()<>]+|(\\([^\\s()<>]+\\)))*\\))+(?:\\(([^\\s()<>]+|(\\([^\\s()<>]+\\)))*\\)|[^\\s`!()\\[\\]{};:\\'\".,<>?«»“”‘’]))', '', x))\n",
    "    \n",
    "    \n",
    "# removing rows of data where 'status_message' is NaN\n",
    "cbs_df = cbs_df.dropna(subset=['status_message'])\n",
    "cnn_df = cnn_df.dropna(subset=['status_message'])\n",
    "fox_df = fox_df.dropna(subset=['status_message'])\n",
    "msnbc_df = msnbc_df.dropna(subset=['status_message'])\n",
    "nyt_df = nyt_df.dropna(subset=['status_message'])\n",
    "usatoday_df = usatoday_df.dropna(subset=['status_message'])\n",
    "wsj_df = wsj_df.dropna(subset=['status_message'])"
   ]
  },
  {
   "cell_type": "markdown",
   "metadata": {},
   "source": [
    "# Helper function"
   ]
  },
  {
   "cell_type": "code",
   "execution_count": 4,
   "metadata": {
    "collapsed": false
   },
   "outputs": [],
   "source": [
    "# adds a column to each row classifying it in a \"group\" (trump, clinton, other)\n",
    "def classify_post (row):\n",
    "    status = row['status_message'].lower()\n",
    "    #status = row['texts'].lower()\n",
    "    \n",
    "    if (('donald' in status) or ('trump' in status)) and (('hillary' in status) or ('clinton' in status)) :\n",
    "        return 'other'\n",
    "    elif ('donald' in status) or ('trump' in status) :\n",
    "        return 'trump'\n",
    "    elif ('hillary' in status) or ('clinton' in status) :\n",
    "        return 'clinton'\n",
    "    else:\n",
    "        return 'other'\n",
    "\n",
    "# start_date/end_date = 'xx-xx-xx' 'year-month-day'\n",
    "def create_text(df, start_date, end_date):\n",
    "    start_year = start_date[0:4]\n",
    "    start_month = start_date[5:7]\n",
    "    start_day = start_date[8:10]\n",
    "    end_year = end_date[0:4]\n",
    "    end_month = end_date[5:7]\n",
    "    end_day = end_date[8:10]\n",
    "    text = \"\"\n",
    "    \n",
    "    for index, rows in df.iterrows():\n",
    "        if (rows['status_published'][0:4] == start_year) or (rows['status_published'][0:4] == end_year):\n",
    "            if (rows['status_published'][5:7] >= start_month) and (rows['status_published'][5:7] <= end_month):\n",
    "                if (rows['status_published'][8:10] >= start_day) and (rows['status_published'][8:10] <= end_day):\n",
    "                    # posts that fall in time frame start_date - end_date\n",
    "                    text += \" \"\n",
    "                    text += rows['status_message']\n",
    "    return text"
   ]
  },
  {
   "cell_type": "code",
   "execution_count": 5,
   "metadata": {
    "collapsed": false
   },
   "outputs": [],
   "source": [
    "# classify posts as trump - clinton - other\n",
    "cbs_df['candidate_label'] = cbs_df.apply (lambda row: classify_post (row),axis=1)\n",
    "cnn_df['candidate_label'] = cnn_df.apply (lambda row: classify_post (row),axis=1) \n",
    "fox_df['candidate_label'] = fox_df.apply (lambda row: classify_post (row),axis=1)\n",
    "msnbc_df['candidate_label'] = msnbc_df.apply (lambda row: classify_post (row),axis=1) \n",
    "nyt_df['candidate_label'] = nyt_df.apply (lambda row: classify_post (row),axis=1)\n",
    "usatoday_df['candidate_label'] = usatoday_df.apply (lambda row: classify_post (row),axis=1)\n",
    "wsj_df['candidate_label'] = wsj_df.apply (lambda row: classify_post (row),axis=1)\n",
    "\n",
    "# dataframes of only Clinton posts\n",
    "cbs_clinton = cbs_df.loc[(cbs_df['candidate_label'] == 'clinton')]\n",
    "cnn_clinton = cnn_df.loc[(cnn_df['candidate_label'] == 'clinton')]\n",
    "fox_clinton = fox_df.loc[(fox_df['candidate_label'] == 'clinton')]\n",
    "msnbc_clinton = msnbc_df.loc[(msnbc_df['candidate_label'] == 'clinton')]\n",
    "nyt_clinton = nyt_df.loc[(nyt_df['candidate_label'] == 'clinton')]\n",
    "usatoday_clinton = usatoday_df.loc[(usatoday_df['candidate_label'] == 'clinton')]\n",
    "wsj_clinton = wsj_df.loc[(wsj_df['candidate_label'] == 'clinton')]"
   ]
  },
  {
   "cell_type": "markdown",
   "metadata": {},
   "source": [
    "# Wordcloud: \"Grab em by the p****y\" posts (Oct 7, 2016 — Oct 14, 2016)"
   ]
  },
  {
   "cell_type": "code",
   "execution_count": 4,
   "metadata": {
    "collapsed": true
   },
   "outputs": [],
   "source": [
    "text = create_text(cbs_df, '2016-10-07', '2016-10-14')\n",
    "text += create_text(cnn_df, '2016-10-07', '2016-10-14')\n",
    "text += create_text(fox_df, '2016-10-07', '2016-10-14')\n",
    "text += create_text(msnbc_df, '2016-10-07', '2016-10-14')\n",
    "text += create_text(nyt_df, '2016-10-07', '2016-10-14')\n",
    "text += create_text(usatoday_df, '2016-10-07', '2016-10-14')\n",
    "text += create_text(wsj_df, '2016-10-07', '2016-10-14')"
   ]
  },
  {
   "cell_type": "code",
   "execution_count": 5,
   "metadata": {
    "collapsed": false
   },
   "outputs": [],
   "source": [
    "# \"grab em by the p***y\" wordcloud\n",
    "import re\n",
    "\n",
    "# strip non alphanumerc characters\n",
    "text = re.sub(r'\\W+', ' ', text)\n",
    "# remove stopwords\n",
    "text_wo_stopwords = remove_words(text, comprehensive_stopword_list)\n",
    "\n",
    "import matplotlib.pyplot as plt\n",
    "from wordcloud import WordCloud\n",
    "\n",
    "wordcloud = WordCloud().generate(text_wo_stopwords)\n",
    "# Open a plot of the generated image.\n",
    "plt.imshow(wordcloud)\n",
    "plt.axis(\"off\")\n",
    "plt.show()"
   ]
  },
  {
   "cell_type": "code",
   "execution_count": 12,
   "metadata": {
    "collapsed": true
   },
   "outputs": [],
   "source": []
  },
  {
   "cell_type": "markdown",
   "metadata": {
    "collapsed": true
   },
   "source": [
    "# Wordcloud: email scandal"
   ]
  },
  {
   "cell_type": "code",
   "execution_count": 22,
   "metadata": {
    "collapsed": true
   },
   "outputs": [],
   "source": [
    "start_date = '2016-09-01'\n",
    "end_date = '2016-09-13'\n",
    "text = create_text(cbs_clinton, start_date, end_date)\n",
    "text += create_text(cnn_clinton, start_date, end_date)\n",
    "text += create_text(fox_clinton, start_date, end_date)\n",
    "text += create_text(msnbc_clinton, start_date, end_date)\n",
    "text += create_text(nyt_clinton, start_date, end_date)\n",
    "text += create_text(usatoday_clinton, start_date, end_date)\n",
    "text += create_text(wsj_clinton, start_date, end_date)"
   ]
  },
  {
   "cell_type": "code",
   "execution_count": 26,
   "metadata": {
    "collapsed": true
   },
   "outputs": [],
   "source": [
    "# \"email scandal\" wordcloud\n",
    "import re\n",
    "\n",
    "# strip non alphanumerc characters\n",
    "text = re.sub(r'\\W+', ' ', text)\n",
    "# remove stopwords\n",
    "text_wo_stopwords = remove_words(text, comprehensive_stopword_list)\n",
    "\n",
    "import matplotlib.pyplot as plt\n",
    "from wordcloud import WordCloud\n",
    "\n",
    "wordcloud = WordCloud().generate(text_wo_stopwords)\n",
    "# Open a plot of the generated image.\n",
    "plt.imshow(wordcloud)\n",
    "plt.axis(\"off\")\n",
    "plt.show()"
   ]
  },
  {
   "cell_type": "code",
   "execution_count": null,
   "metadata": {
    "collapsed": true
   },
   "outputs": [],
   "source": []
  },
  {
   "cell_type": "code",
   "execution_count": null,
   "metadata": {
    "collapsed": true
   },
   "outputs": [],
   "source": []
  },
  {
   "cell_type": "markdown",
   "metadata": {},
   "source": [
    "# Wordcloud: Democratic convention"
   ]
  },
  {
   "cell_type": "code",
   "execution_count": 20,
   "metadata": {
    "collapsed": true
   },
   "outputs": [],
   "source": [
    "start_date = '2016-07-24'\n",
    "end_date = '2016-07-29'\n",
    "text = create_text(cbs_df, start_date, end_date)\n",
    "text += create_text(cnn_df, start_date, end_date)\n",
    "text += create_text(fox_df, start_date, end_date)\n",
    "text += create_text(msnbc_df, start_date, end_date)\n",
    "text += create_text(nyt_df, start_date, end_date)\n",
    "text += create_text(usatoday_df, start_date, end_date)\n",
    "text += create_text(wsj_df, start_date, end_date)"
   ]
  },
  {
   "cell_type": "code",
   "execution_count": null,
   "metadata": {
    "collapsed": true
   },
   "outputs": [],
   "source": [
    "# \"edemocratic convention\" wordcloud\n",
    "import re\n",
    "\n",
    "# strip non alphanumerc characters\n",
    "text = re.sub(r'\\W+', ' ', text)\n",
    "# remove stopwords\n",
    "text_wo_stopwords = remove_words(text, comprehensive_stopword_list)\n",
    "\n",
    "import matplotlib.pyplot as plt\n",
    "from wordcloud import WordCloud\n",
    "\n",
    "wordcloud = WordCloud().generate(text_wo_stopwords)\n",
    "# Open a plot of the generated image.\n",
    "plt.imshow(wordcloud)\n",
    "plt.axis(\"off\")\n",
    "plt.show()"
   ]
  },
  {
   "cell_type": "code",
   "execution_count": null,
   "metadata": {
    "collapsed": true
   },
   "outputs": [],
   "source": []
  },
  {
   "cell_type": "code",
   "execution_count": null,
   "metadata": {
    "collapsed": true
   },
   "outputs": [],
   "source": []
  },
  {
   "cell_type": "markdown",
   "metadata": {},
   "source": [
    "# Wordcloud: Republican convention"
   ]
  },
  {
   "cell_type": "code",
   "execution_count": 19,
   "metadata": {
    "collapsed": true
   },
   "outputs": [],
   "source": [
    "start_date = '2016-07-17'\n",
    "end_date = '2016-07-22'\n",
    "text = create_text(cbs_df, start_date, end_date)\n",
    "text += create_text(cnn_df, start_date, end_date)\n",
    "text += create_text(fox_df, start_date, end_date)\n",
    "text += create_text(msnbc_df, start_date, end_date)\n",
    "text += create_text(nyt_df, start_date, end_date)\n",
    "text += create_text(usatoday_df, start_date, end_date)\n",
    "text += create_text(wsj_df, start_date, end_date)"
   ]
  },
  {
   "cell_type": "code",
   "execution_count": 14,
   "metadata": {
    "collapsed": true
   },
   "outputs": [],
   "source": [
    "# \"republican convention\" wordcloud\n",
    "import re\n",
    "\n",
    "# strip non alphanumerc characters\n",
    "text = re.sub(r'\\W+', ' ', text)\n",
    "# remove stopwords\n",
    "text_wo_stopwords = remove_words(text, comprehensive_stopword_list)\n",
    "\n",
    "import matplotlib.pyplot as plt\n",
    "from wordcloud import WordCloud\n",
    "\n",
    "wordcloud = WordCloud().generate(text_wo_stopwords)\n",
    "# Open a plot of the generated image.\n",
    "plt.imshow(wordcloud)\n",
    "plt.axis(\"off\")\n",
    "plt.show()"
   ]
  },
  {
   "cell_type": "code",
   "execution_count": null,
   "metadata": {
    "collapsed": true
   },
   "outputs": [],
   "source": []
  }
 ],
 "metadata": {
  "anaconda-cloud": {},
  "kernelspec": {
   "display_name": "Python [conda root]",
   "language": "python",
   "name": "conda-root-py"
  },
  "language_info": {
   "codemirror_mode": {
    "name": "ipython",
    "version": 2
   },
   "file_extension": ".py",
   "mimetype": "text/x-python",
   "name": "python",
   "nbconvert_exporter": "python",
   "pygments_lexer": "ipython2",
   "version": "2.7.12"
  }
 },
 "nbformat": 4,
 "nbformat_minor": 1
}
