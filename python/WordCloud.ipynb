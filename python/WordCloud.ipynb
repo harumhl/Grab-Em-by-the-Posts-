{
 "cells": [
  {
   "cell_type": "code",
   "execution_count": 1,
   "metadata": {
    "collapsed": true
   },
   "outputs": [],
   "source": [
    "#Function to read in stop words\n",
    "def stopword_file_to_list(file_name):\n",
    "    f = open(\"../StopWordLists/\" + file_name)\n",
    "    file_text = f.read()\n",
    "    return file_text.split(\"\\r\")\n",
    "\n",
    "#Remove words in list from string\n",
    "def remove_words(s,words_to_remove):\n",
    "    word_list = s.split()\n",
    "    resultwords  = [word for word in word_list if word.lower() not in words_to_remove]\n",
    "    result = ' '.join(resultwords)\n",
    "    return result\n",
    "\n",
    "comprehensive_stopword_list = stopword_file_to_list(\"comprehensive_stopwords.txt\")\n",
    "comprehensive_stopword_list.append(\"trump\")\n",
    "comprehensive_stopword_list.append(\"trumps\")\n",
    "comprehensive_stopword_list.append(\"donald\")\n",
    "comprehensive_stopword_list.append(\"j.\")\n",
    "comprehensive_stopword_list.append(\"hillary\")\n",
    "comprehensive_stopword_list.append(\"clinton\")\n",
    "comprehensive_stopword_list.append(\"clintons\")\n",
    "comprehensive_stopword_list.append(\"clintonphoto\")\n",
    "comprehensive_stopword_list.append(\"president\")\n",
    "comprehensive_stopword_list.append(\"new\")\n",
    "comprehensive_stopword_list.append(\"york\")\n",
    "comprehensive_stopword_list.append(\"time\")\n",
    "comprehensive_stopword_list.append(\"times\")\n",
    "comprehensive_stopword_list.append(\"cnn\")\n",
    "comprehensive_stopword_list.append(\"wall\")\n",
    "comprehensive_stopword_list.append(\"street\")\n",
    "comprehensive_stopword_list.append(\"journal\")\n",
    "comprehensive_stopword_list.append(\"election\")\n",
    "comprehensive_stopword_list.append(\"will\")\n",
    "comprehensive_stopword_list.append(\"breaking\")\n",
    "comprehensive_stopword_list.append(\"new\")\n",
    "comprehensive_stopword_list.append(\"news\")\n",
    "comprehensive_stopword_list.append(\"tweet\")\n",
    "comprehensive_stopword_list.append(\"writes\")\n",
    "comprehensive_stopword_list.append(\"cbsn\")\n",
    "# for \"grab em by the pussy\" word cloud\n",
    "comprehensive_stopword_list.append(\"bill\")\n",
    "comprehensive_stopword_list.append(\"presidential\")\n",
    "comprehensive_stopword_list.append(\"day\")\n",
    "comprehensive_stopword_list.append(\"well\")\n",
    "comprehensive_stopword_list.append(\"going\")\n",
    "comprehensive_stopword_list.append(\"debate\")\n",
    "comprehensive_stopword_list.append(\"campaign\")\n"
   ]
  },
  {
   "cell_type": "markdown",
   "metadata": {},
   "source": [
    "# Wordcloud"
   ]
  },
  {
   "cell_type": "code",
   "execution_count": 2,
   "metadata": {
    "collapsed": false
   },
   "outputs": [],
   "source": [
    "from os import path\n",
    "import matplotlib.pyplot as plt\n",
    "from wordcloud import WordCloud\n",
    "import re\n",
    "\n",
    "# get the posts from ____ news outlet into a text file and change path below\n",
    "data_path = '../Data Viz/Wordcloud/nyt_text_test.txt'\n",
    "\n",
    "# Read the whole text.\n",
    "text = open(data_path).read()\n",
    "text = re.sub('[,\\.!?\\'-]','',text)\n",
    "# remove stop words from text\n",
    "\n",
    "text_wo_stopwords = remove_words(text, comprehensive_stopword_list)\n",
    "#print text_wo_stopwords\n",
    "\n",
    "wordcloud = WordCloud().generate(text_wo_stopwords)\n",
    "# Open a plot of the generated image.\n",
    "plt.imshow(wordcloud)\n",
    "plt.axis(\"off\")\n",
    "plt.show()"
   ]
  },
  {
   "cell_type": "markdown",
   "metadata": {
    "collapsed": false
   },
   "source": [
    "# Wordcloud: \"Grab em by the p****y\" posts (Oct 7, 2016 — Oct 14, 2016)"
   ]
  },
  {
   "cell_type": "code",
   "execution_count": 3,
   "metadata": {
    "collapsed": false
   },
   "outputs": [],
   "source": [
    "import re\n",
    "import pandas as pd\n",
    "import json\n",
    "import numpy as np\n",
    "\n",
    "cbs_df = pd.read_csv('../Facebook_RAW/CBSNews_facebook_statuses.csv')\n",
    "cnn_df = pd.read_csv('../Facebook_RAW/cnn_facebook_statuses.csv')\n",
    "fox_df = pd.read_csv('../Facebook_RAW/FoxNews_facebook_statuses.csv')\n",
    "msnbc_df = pd.read_csv('../Facebook_RAW/msnbc_facebook_statuses.csv')\n",
    "nyt_df = pd.read_csv('../Facebook_RAW/nytimes_facebook_statuses.csv')\n",
    "usatoday_df = pd.read_csv('../Facebook_RAW/usatoday_facebook_statuses.csv')\n",
    "wsj_df = pd.read_csv('../Facebook_RAW/wsj_facebook_statuses.csv')\n",
    "\n",
    "\n",
    "# removing \\n characters\n",
    "cbs_df['status_message'] = cbs_df['status_message'].apply(lambda x: x.replace(\"\\n\", \"\"))\n",
    "cnn_df['status_message'] = cnn_df['status_message'].apply(lambda x: x.replace(\"\\n\", \"\"))\n",
    "fox_df['status_message'] = fox_df['status_message'].apply(lambda x: x.replace(\"\\n\", \"\"))\n",
    "msnbc_df['status_message'] = msnbc_df['status_message'].apply(lambda x: x.replace(\"\\n\", \"\"))\n",
    "nyt_df['status_message'] = nyt_df['status_message'].apply(lambda x: x.replace(\"\\n\", \"\"))\n",
    "usatoday_df['status_message'] = usatoday_df['status_message'].apply(lambda x: x.replace(\"\\n\", \"\"))\n",
    "wsj_df['status_message'] = wsj_df['status_message'].apply(lambda x: x.replace(\"\\n\", \"\"))\n",
    "\n",
    "# removing hyperlinks within text\n",
    "cbs_df['status_message'] = cbs_df['status_message'].apply(lambda x: re.sub(r'(?i)\\b((?:https?://|www\\d{0,3}[.]|[a-z0-9.\\-]+[.][a-z]{2,4}     /)(?:[^\\s()<>]+|\\(([^\\s()<>]+|(\\([^\\s()<>]+\\)))*\\))+(?:\\(([^\\s()<>]+|(\\([^\\s()<>]+\\)))*\\)|[^\\s`!()\\[\\]{};:\\'\".,<>?«»“”‘’]))', '', x))\n",
    "cnn_df['status_message'] = cnn_df['status_message'].apply(lambda x: re.sub(r'(?i)\\b((?:https?://|www\\d{0,3}[.]|[a-z0-9.\\-]+[.][a-z]{2,4}     /)(?:[^\\s()<>]+|\\(([^\\s()<>]+|(\\([^\\s()<>]+\\)))*\\))+(?:\\(([^\\s()<>]+|(\\([^\\s()<>]+\\)))*\\)|[^\\s`!()\\[\\]{};:\\'\".,<>?«»“”‘’]))', '', x))\n",
    "fox_df['status_message'] = fox_df['status_message'].apply(lambda x: re.sub(r'(?i)\\b((?:https?://|www\\d{0,3}[.]|[a-z0-9.\\-]+[.][a-z]{2,4}     /)(?:[^\\s()<>]+|\\(([^\\s()<>]+|(\\([^\\s()<>]+\\)))*\\))+(?:\\(([^\\s()<>]+|(\\([^\\s()<>]+\\)))*\\)|[^\\s`!()\\[\\]{};:\\'\".,<>?«»“”‘’]))', '', x))\n",
    "msnbc_df['status_message'] = msnbc_df['status_message'].apply(lambda x: re.sub(r'(?i)\\b((?:https?://|www\\d{0,3}[.]|[a-z0-9.\\-]+[.][a-z]{2,4}     /)(?:[^\\s()<>]+|\\(([^\\s()<>]+|(\\([^\\s()<>]+\\)))*\\))+(?:\\(([^\\s()<>]+|(\\([^\\s()<>]+\\)))*\\)|[^\\s`!()\\[\\]{};:\\'\".,<>?«»“”‘’]))', '', x))\n",
    "nyt_df['status_message'] = nyt_df['status_message'].apply(lambda x: re.sub(r'(?i)\\b((?:https?://|www\\d{0,3}[.]|[a-z0-9.\\-]+[.][a-z]{2,4}     /)(?:[^\\s()<>]+|\\(([^\\s()<>]+|(\\([^\\s()<>]+\\)))*\\))+(?:\\(([^\\s()<>]+|(\\([^\\s()<>]+\\)))*\\)|[^\\s`!()\\[\\]{};:\\'\".,<>?«»“”‘’]))', '', x))\n",
    "usatoday_df['status_message'] = usatoday_df['status_message'].apply(lambda x: re.sub(r'(?i)\\b((?:https?://|www\\d{0,3}[.]|[a-z0-9.\\-]+[.][a-z]{2,4}     /)(?:[^\\s()<>]+|\\(([^\\s()<>]+|(\\([^\\s()<>]+\\)))*\\))+(?:\\(([^\\s()<>]+|(\\([^\\s()<>]+\\)))*\\)|[^\\s`!()\\[\\]{};:\\'\".,<>?«»“”‘’]))', '', x))\n",
    "wsj_df['status_message'] = wsj_df['status_message'].apply(lambda x: re.sub(r'(?i)\\b((?:https?://|www\\d{0,3}[.]|[a-z0-9.\\-]+[.][a-z]{2,4}     /)(?:[^\\s()<>]+|\\(([^\\s()<>]+|(\\([^\\s()<>]+\\)))*\\))+(?:\\(([^\\s()<>]+|(\\([^\\s()<>]+\\)))*\\)|[^\\s`!()\\[\\]{};:\\'\".,<>?«»“”‘’]))', '', x))\n",
    "    \n",
    "    \n",
    "# removing rows of data where 'status_message' is NaN\n",
    "cbs_df = cbs_df.dropna(subset=['status_message'])\n",
    "cnn_df = cnn_df.dropna(subset=['status_message'])\n",
    "fox_df = fox_df.dropna(subset=['status_message'])\n",
    "msnbc_df = msnbc_df.dropna(subset=['status_message'])\n",
    "nyt_df = nyt_df.dropna(subset=['status_message'])\n",
    "usatoday_df = usatoday_df.dropna(subset=['status_message'])\n",
    "wsj_df = wsj_df.dropna(subset=['status_message'])"
   ]
  },
  {
   "cell_type": "code",
   "execution_count": 4,
   "metadata": {
    "collapsed": false
   },
   "outputs": [
    {
     "name": "stdout",
     "output_type": "stream",
     "text": [
      " The GOP presidential nominee also said that the news media and Hillary Clinton’s campaign have conspired against him. Summer Zervos, a contestant on season five of the reality show, says Donald Trump kissed and grabbed her in a Beverly Hills Hotel bungalow in 2007. Correction: Robby Mook, Clinton's campaign manager, tweeted that Bill DeBlasio is \"a terrorist,\" not Bernie Sanders as previously tweeted. “If Billy had been passive or responded ‘Shut the f**k up’ to Trump, Billy would have been out of a job the next day,” Bush's lawyer said. It was \"really weird,\" Clinton said, when Trump would follow her across the podium and stand behind her. \"I don’t understand the basis of her claim.\"Mike Pence responds to Michelle Obama's critique of Trump:  “What a terrorist,\" Clinton campaign manager Robby Mook said of Bernie Sanders in one email. Michelle Obama, President Obama and Joe Biden campaign nationwide for Clinton, who continues to be hounded by leaked campaign emails. The group said it would release emails every day until Election Day. These are the women who have accused Donald J. Trump  of unwanted advances, in just the past day. Asked if the lewd 2005 video that surfaced last Friday changed their opinion of Donald J. Trump, about 14% said it did and nearly 70% said it did not. Donald J. Trump calls reports of groping allegations against him a \"coordinated\" attack, and explains why he's not surprised by the timing of the The New York Times piece:  \"It is cruel. It's frightening. And the truth is, it hurts.\"WATCH: Choking back tears, Michelle Obama says what Donald J. Trump calls \"locker room talk\" is not something that we can ignore; \"this was not just a lewd conversation...\"  North Carolina is seen as a must-win for Trump. As Election Day quickly approaches, here are the economic signs that could determine which candidate is likely to snag the Oval Office. Today's The New York Times features accounts by two women who say Donald Trump made unwanted sexual advances.This morning, we asked the reporters who wrote the article how they verify these allegations:  A Bloomberg Politics survey also found that Trump's lewd 2005 comments bothered this state quite a bit. The emails are a distraction for Clinton, when the campaign would rather stay focused on Trump. It's not Donald Trump's proposed wall. Two women told The New York Times that Donald J. Trump touched them inappropriately — allegedly groping a woman in one instance and kissing a woman in another. Trump told the Times there was no truth to either of the claims. Donald J. Trump's Florida rally was fairly typical today. His supporters waved signs and cheered. But one thing (or person, rather) stood out: a white woman standing behind Trump holding a “Blacks for Trump” sign. In 1992 footage from \"Entertainment Tonight\" Donald Trump greets a young girl and then brags to camera: \"I'm going to be dating her in 10 years!\" New hacked emails reveal Hillary Clinton's campaign was slow to grasp the seriousness of the controversy over her homebrew email server.  The professional wrestler says Donald J. Trump called her comments “sort of gross,\" and fired her, saying, “This is my boardroom, it’s not a locker room.\" The police chief said officers wearing Trump caps “displayed poor judgment” and violated city policy. Clinton’s campaign chairman, John Podesta, is claiming that Russian hackers targeted his account to try and influence the presidential election. The U.N. human rights chief feels that Trump is focusing on issues that could target \"vulnerable communities in a way that suggests that they may well be deprived of their rights, their human rights.\" This Nebraska Senator was on Donald Trump’s team. Then she wasn’t. Now she is again. Donald Trump is bringing up a new topic at his rallies: the potential of losing the campaign. What day is Election Day again? Donald Trump isn't quite sure... “I think I’m better off maybe without their support if you want to know the truth,” said Donald Trump of the GOP leaders rescinding their endorsements. Ronald McDonald will keep a low profile due to the “current climate around clown sightings in communities.” The emails show the behind-the-scenes discussions about Hillary Clinton's private email practices after the story first broke. This time, the toddler had something to say about Hillary Clinton. However, Donald J. Trump's performance in Sunday's debate helped him rally GOP voters — with 89% of Republicans saying that they would still vote for Trump. \"Some people hear Donald Trump boasting about physically forcing himself on women and other people just hear dirty words. The latter is locker room talk. The former, which is what Trump actually said, is the description of something that can get you arrested.\" Trump introduced crowds to his biggest, or smallest, look-alike fan at a rally yesterday. “My only advice to Republican leaders is simple. In the end, you either help defeat Hillary Clinton or you help elect Hillary Clinton,” said Newt Gingrich. Fox News personality Geraldo Rivera says he has uncovered more \"embarrassing\" statements that Trump has made in past interviews. In Ohio, where layoffs in the steel industry have hit hard over the last two decades, Clinton seized on the opening. “If they want to release more tapes saying inappropriate things, we’ll continue to talk about Bill and Hillary Clinton doing inappropriate things,” Trump said. Ohio voters have chosen the winner in every election since 1964. This Muslim American professor was outraged by a comment Donald J. Trump made during the second presidential debate, so he fought back with humor. Donald J. Trump has called his lewd comments about women \"locker room talk,\" but professional athletes aren't buying it. cbsn.ws/2dM8fkm “I have no problem in releasing my tax information while under audit. Neither would Mr. Trump – at least he would have no legal problem.” The eldest Trump daughter has yet to speak out publicly after the release of the lewd 2005 tape featuring her father. Paul Ryan said he won’t defend Donald Trump anymore and won’t campaign with him. He will instead focus on keeping the House majority. In the most tweeted presidential debate ever, Donald Trump dominated the chatter, and the hashtag #MuslimsReportStuff went viral. \"Being the candidate that he is, he gets points for not imploding,\" said a piece of CBS commentary of Trump after the debate. When questioned about Pence's Syria position Trump said, “Okay, he and I haven’t spoken, and I disagree. I disagree.” House Republicans will speak to each other this morning about how to deal with Trump's leaked video, as well as the second presidential debate. Trump wanted to seat Bill Clinton's accusers in his V.I.P. box, but the Bipartisan Commission on Presidential Debates “threatened to have security remove the women.” Clinton told reporters she wasn't surprised by Trump's move to invite her husband's accusers to the debate. “He was talking like he would become some dictator of a banana republic, throw his political enemies in jail,” said Clinton's campaign manager. This writer felt that the 2005 Trump tapes were #NotOK - and when she took to Twitter, thousands of women agreed. This latest incident threatens to erode Trump's already-wary support among female voters. Republicans - from leadership to rank-and-file - have rescinded their endorsements after Trump's 2005 tape release; and he had some things to say to them on Twitter. In Native American culture, all animals are believed to have totems. When they cross your path unexpectedly, it means something. So, we looked into what it might have meant that a fly landed on Hillary Clinton's face tonight. Billy Bush appeared laughing along with Donald Trump in a leaked 2005 \"Access Hollywood\" interview. Now, Bush won't be making an appearance on the \"Today\" show Monday morning. Just days after her husband's lewd comments about grabbing women by the p***y rocked the GOP, Melania Trump attended the second presidential debate in an unfortunately named blouse. “I don’t need to repeat (Trump's words). There are children in the room,” President Obama said to a laughing crowd. Donald Trump lashed out on Twitter at GOP leaders abandoning him over his 2005 leaked comments. Donald Trump and three women who claimed to have been assaulted by Bill Clinton, as well as a rape victim whose attacker was defended by Hillary Clinton, gave statements less than two hours before the second presidential debate. Meet the women who claim to be linked to Bill and Hillary Clinton. Did Trump insult Pence during the debate? We're continuing the discussion on CBSN:  \"She doesn't quit, she doesn't give up,\" said Trump of Clinton when asked if he could name one thing that he respects about her. “And believe me - she has tremendous hate in her heart,” said Trump of Clinton’s deplorables comment.  “There’s a lot of fear, and in fact teachers and parents are calling it the ‘Trump Effect,’” said Clinton.  Trump implies that Clinton was ineffective as a senator:  \"It is sort of amusing to hear somebody who hasn't paid federal income tax in 20 years talking about what he's going to do,\" said Clinton. Watch live:  Trump stands by his claims that he did not support the Iraq war:  LIVE NOW: Hillary Clinton & Donald J. Trump go head-to-head in a town-hall style debate where real voters get to ask the questions. After this weekend's controversial leaked audio, anything can happen. Be there when it does with CBSN. Trump tells Clinton \"you'd be in jail\" if he were in charge.  \"Bill Clinton was abusive to women, Hillary Clinton attacked those same women,\" said Trump. Watch live: cbsn.ws/2dYwMlM \"This was locker room talk,\" said Trump when pressed about his 2005 comments.  WATCH:  NOW: Hillary Clinton and Donald Trump take the stage for tonight’s debate:  LIVE NOW: Hillary Clinton & Donald J. Trump go head-to-head in a town-hall style debate where real voters get to ask the questions. After this weekend's controversial leaked audio, anything can happen. Be there when it does with CBSN. Your questions get answered tonight. Watch as Donald Trump and Hillary Clinton tackle topics posed by the voters in the only Town Hall Debate.  Hours before the second presidential debate, Donald Trump gave a brief statement, surrounded by three of Bill Clinton’s alleged past sexual assault accusers. We're moments away from the first debate between Hillary Clinton and Donald Trump since the video of Trump making the lewd comments surfaced. Stream for free:  Trump has assembled a panel of women who have accused Bill Clinton of sexual impropriety. See the entire clip here:  The song “You’re So Vain” wasn’t written about Republican nominee Donald Trump, but singer Carly Simon thinks it applies to him anyway. Hours before the debate, Trump is holding a Facebook live interview with several women who have accused Bill Clinton of sexual impropriety: A new CBS News poll finds that Hillary Clinton has a slight lead over Donald Trump in Ohio, Pennsylvania and Wisconsin. Embroiled in Trump's lewd comments controversy, Billy Bush will not be appearing on NBC’s “Today” show Monday morning, CBS News has confirmed. “The comments were very disgusting,” one woman from a focus group said. “I mean, nothing Trump says makes me feel like maybe I could get used to this guy.” “People apologize for things a lot of times when they get caught,” said Bob Schieffer of Trump’s apology.Pre-coverage:  WATCH: \"This goes beyond boys being boys. This is pigs being pigs.\" - Bob Schieffer talks Trump on Face The Nation. “It tells you he is insecure enough because he pumps up himself by putting other people down,\" President Obama said of Donald J. Trump's lewd remarks. A CBS poll suggests that Clinton will only receive 4% more votes than Trump in Ohio. \"Are we really going to risk giving Donald trump the ability to roll back all the progress we’ve made?\" he posited. “When I first heard it, first thing I thought of [was], well, isn’t Bill Clinton the same type of man?” At one point Trump referred to “Nancy” using an expletive to say he had tried and failed to sleep with her, and mentioning that she was married. Tonight, Hillary Clinton  and Donald J. Trump  face off in the second presidential debate. Stream it for free on CBSN:  “Look, the Clintons had a rough time in their marriage 20 years ago, that was litigated out,” Mook said. “At this debate tonight we want to focus on the issues, and that’s what Hillary is going to do.” Trump has been under near-constant fire from within his own party since the Washington Post published a tape of him bragging, in sexually explicit terms, about his treatment of women in 2005. As Donald Trump and Hillary Clinton face off for a second time in St. Louis tonight, here are some things to pay attention to. Clinton does not plan to talk publicly about the vulgar Trump tape released Friday until Sunday night, according to a Clinton campaign official. The town hall-style debate takes place shortly after a vulgar tape of Trump surfaced and portions of Clinton's Wall Street speeches were allegedly leaked by WikiLeaks. “I’ve never withdrawn in my life,” Trump said earlier on Saturday after a vulgar 2005 tape leaked. Here is a list of Republicans who endorsed Trump, condemned his latest comments, but haven't officially rescinded their support. Sunday's presidential debate will take place after a vulgar tape of Trump surfaced and portions of Clinton's Wall Street speeches were allegedly leaked by WikiLeaks.  De Niro insulted Trump as a \"pig,\" \"dog,\" \"punk,\" \"con\" and more, and Voight responded on Twitter that he is \"ashamed\" of the actor's comments. De Niro insulted Donald Trump as a \"pig,\" \"dog,\" \"punk,\" \"con\" and more, and Voight responded on Twitter that he is \"ashamed\" of the actor's comments. Questions about outtakes from the \"Apprentice\" are coming in after the release of a 2005 recording where Trump brags about aggressively groping women. \"I hope people will accept his apology,\" Melanie Trump says, asking people to forgive her husband after a 2005 tape exposed lewd comments he made about women.  So far, her campaign has only tweeted that the tape is \"horrific\" and Trump can't be president. After a video of Trump making lewd comments went public, prominent Republicans have called upon him to drop out. Bill Clinton was in Milwaukee talking about climate change when Trump-friendly protesters interrupted his event, shouting, “Bill Clinton is a rapist!” Some Republican donors are even asking for Mike Pence to replace Trump at the top of the ticket. Here are quotes from some of the speeches Hillary Clinton didn't want you to see.  A prominent Trump bundler told CBS News that he “could not tell you how many” calls he’s gotten from donors in the course of the last day. \"...Having read and seen and heard what Mr. Trump said, albeit ten-plus years ago, I just - I can’t endorse that person. I just can’t do it,\" said Utah Rep. Jason Chaffetz. Some Republican leaders are out with vicious critiques of Trump's 2005 tape discussing his attempts to grope, grab, and have sex with women. Some are even calling for him to drop out of the 2016 race. Continuing coverage on CBSN:  \"So, you need both a public and a private position.” That's just one of Clinton's quotes from the email leak that will definitely loom over tomorrow's debate. “Women are to be championed and revered, not objectified,” said House Speaker Paul Ryan. But Trump isn't giving in to criticism.Continuing coverage on CBSN:  “Invariably, they’ll say, this time we got him,\" said Mike Pence. \"Then they turn on the next television the next morning, and Donald Trump is still standing stronger than ever...\" Donald Trump issued a late-night apology in a Facebook video, saying he would be at Sunday's debate, but his apology may not be enough for some GOP leaders. Prominent Republicans condemned the lewd comments Trump made in 2005. \"I never said I’m a perfect person,” Trump said in a Facebook video released just after midnight Saturday. “Nor pretended to be someone that I’m not. I’ve said and done things I regret and the words released today on this more than a decade old video are one of them. Anyone who knows me knows these words don’t reflect who I am. I said it. I was wrong and I apologize.” Hillary Clinton said she suspected Russia was behind the hackings in early September. The vulgar conversation between the GOP nominee and then-Access Hollywood host Billy Bush was caught on a hot microphone; Trump has dismissed it as \"locker room banter.\" Both Hillary Clinton and Donald J. Trump urged Floridians to be careful and safe.\n"
     ]
    }
   ],
   "source": [
    "## to extract the year month day\n",
    "# year = date[0:4]\n",
    "# month = date[5:7]\n",
    "# day = date[8:10]\n",
    "\n",
    "# start_date/end_date = 'xx-xx-xx' 'year-month-day'\n",
    "def create_text(df, start_date, end_date):\n",
    "    start_year = start_date[0:4]\n",
    "    start_month = start_date[5:7]\n",
    "    start_day = start_date[8:10]\n",
    "    end_year = end_date[0:4]\n",
    "    end_month = end_date[5:7]\n",
    "    end_day = end_date[8:10]\n",
    "    text = \"\"\n",
    "    \n",
    "    for index, rows in df.iterrows():\n",
    "        if (rows['status_published'][0:4] == start_year) or (rows['status_published'][0:4] == end_year):\n",
    "            if (rows['status_published'][5:7] >= start_month) and (rows['status_published'][5:7] <= end_month):\n",
    "                if (rows['status_published'][8:10] >= start_day) and (rows['status_published'][8:10] <= end_day):\n",
    "                    # posts that fall in time frame start_date - end_date\n",
    "                    text += \" \"\n",
    "                    text += rows['status_message']\n",
    "    return text"
   ]
  },
  {
   "cell_type": "code",
   "execution_count": null,
   "metadata": {
    "collapsed": true
   },
   "outputs": [],
   "source": []
  },
  {
   "cell_type": "code",
   "execution_count": 14,
   "metadata": {
    "collapsed": false
   },
   "outputs": [],
   "source": [
    "# \"grab em by the p***y\" wordcloud\n",
    "import re\n",
    "\n",
    "text = create_text(cbs_df, '2016-10-07', '2016-10-14')\n",
    "# strip non alphanumerc characters\n",
    "text = re.sub(r'\\W+', ' ', text)\n",
    "# remove stopwords\n",
    "text_wo_stopwords = remove_words(text, comprehensive_stopword_list)\n",
    "\n",
    "import matplotlib.pyplot as plt\n",
    "from wordcloud import WordCloud\n",
    "\n",
    "wordcloud = WordCloud().generate(text_wo_stopwords)\n",
    "# Open a plot of the generated image.\n",
    "plt.imshow(wordcloud)\n",
    "plt.axis(\"off\")\n",
    "plt.show()"
   ]
  },
  {
   "cell_type": "code",
   "execution_count": 12,
   "metadata": {
    "collapsed": true
   },
   "outputs": [],
   "source": []
  },
  {
   "cell_type": "code",
   "execution_count": null,
   "metadata": {
    "collapsed": true
   },
   "outputs": [],
   "source": []
  },
  {
   "cell_type": "code",
   "execution_count": null,
   "metadata": {
    "collapsed": true
   },
   "outputs": [],
   "source": []
  }
 ],
 "metadata": {
  "anaconda-cloud": {},
  "kernelspec": {
   "display_name": "Python [conda root]",
   "language": "python",
   "name": "conda-root-py"
  },
  "language_info": {
   "codemirror_mode": {
    "name": "ipython",
    "version": 2
   },
   "file_extension": ".py",
   "mimetype": "text/x-python",
   "name": "python",
   "nbconvert_exporter": "python",
   "pygments_lexer": "ipython2",
   "version": "2.7.12"
  }
 },
 "nbformat": 4,
 "nbformat_minor": 1
}
