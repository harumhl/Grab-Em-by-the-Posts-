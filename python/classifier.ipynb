{
 "cells": [
  {
   "cell_type": "markdown",
   "metadata": {},
   "source": [
    "# Classifying with TextBlob"
   ]
  },
  {
   "cell_type": "code",
   "execution_count": 1,
   "metadata": {
    "collapsed": false
   },
   "outputs": [],
   "source": [
    "from textblob.classifiers import NLTKClassifier,NaiveBayesClassifier,DecisionTreeClassifier,PositiveNaiveBayesClassifier,MaxEntClassifier\n",
    "import pandas as pd\n",
    "import re\n",
    "\n",
    "path = '/Users/Jared/Documents/CSCE489/489Project/'"
   ]
  },
  {
   "cell_type": "markdown",
   "metadata": {},
   "source": [
    "### Grabbing the Data"
   ]
  },
  {
   "cell_type": "code",
   "execution_count": 2,
   "metadata": {
    "collapsed": false,
    "scrolled": true
   },
   "outputs": [
    {
     "data": {
      "text/html": [
       "<div>\n",
       "<table border=\"1\" class=\"dataframe\">\n",
       "  <thead>\n",
       "    <tr style=\"text-align: right;\">\n",
       "      <th></th>\n",
       "      <th>HITId</th>\n",
       "      <th>HITTypeId</th>\n",
       "      <th>Title</th>\n",
       "      <th>Description</th>\n",
       "      <th>Keywords</th>\n",
       "      <th>Reward</th>\n",
       "      <th>CreationTime</th>\n",
       "      <th>MaxAssignments</th>\n",
       "      <th>RequesterAnnotation</th>\n",
       "      <th>AssignmentDurationInSeconds</th>\n",
       "      <th>...</th>\n",
       "      <th>RequesterFeedback</th>\n",
       "      <th>WorkTimeInSeconds</th>\n",
       "      <th>LifetimeApprovalRate</th>\n",
       "      <th>Last30DaysApprovalRate</th>\n",
       "      <th>Last7DaysApprovalRate</th>\n",
       "      <th>Input.status_id</th>\n",
       "      <th>Input.content</th>\n",
       "      <th>Answer.sentiment</th>\n",
       "      <th>Approve</th>\n",
       "      <th>Reject</th>\n",
       "    </tr>\n",
       "  </thead>\n",
       "  <tbody>\n",
       "    <tr>\n",
       "      <th>0</th>\n",
       "      <td>301KG0KX9CFC0MHLW3ECT80VTS3H2D</td>\n",
       "      <td>3WROYBU7BMMRCGD41SQ9YGNC31GDCO</td>\n",
       "      <td>Preseidential Election Sentiment Analysis</td>\n",
       "      <td>Analyze the sentiment of the provided Facebook...</td>\n",
       "      <td>sentiment election Donald Trump Hilary Clinton...</td>\n",
       "      <td>$0.02</td>\n",
       "      <td>Wed Nov 23 21:44:16 PST 2016</td>\n",
       "      <td>3</td>\n",
       "      <td>BatchId:2606965;</td>\n",
       "      <td>172800</td>\n",
       "      <td>...</td>\n",
       "      <td>NaN</td>\n",
       "      <td>3</td>\n",
       "      <td>100% (143/143)</td>\n",
       "      <td>100% (143/143)</td>\n",
       "      <td>100% (143/143)</td>\n",
       "      <td>13652355666_10154036300320667</td>\n",
       "      <td>Thousands of demonstrators filled the streets ...</td>\n",
       "      <td>Positive</td>\n",
       "      <td>NaN</td>\n",
       "      <td>NaN</td>\n",
       "    </tr>\n",
       "    <tr>\n",
       "      <th>1</th>\n",
       "      <td>301KG0KX9CFC0MHLW3ECT80VTS3H2D</td>\n",
       "      <td>3WROYBU7BMMRCGD41SQ9YGNC31GDCO</td>\n",
       "      <td>Preseidential Election Sentiment Analysis</td>\n",
       "      <td>Analyze the sentiment of the provided Facebook...</td>\n",
       "      <td>sentiment election Donald Trump Hilary Clinton...</td>\n",
       "      <td>$0.02</td>\n",
       "      <td>Wed Nov 23 21:44:16 PST 2016</td>\n",
       "      <td>3</td>\n",
       "      <td>BatchId:2606965;</td>\n",
       "      <td>172800</td>\n",
       "      <td>...</td>\n",
       "      <td>NaN</td>\n",
       "      <td>3</td>\n",
       "      <td>100% (349/349)</td>\n",
       "      <td>100% (349/349)</td>\n",
       "      <td>100% (349/349)</td>\n",
       "      <td>13652355666_10154036300320667</td>\n",
       "      <td>Thousands of demonstrators filled the streets ...</td>\n",
       "      <td>Positive</td>\n",
       "      <td>NaN</td>\n",
       "      <td>NaN</td>\n",
       "    </tr>\n",
       "    <tr>\n",
       "      <th>2</th>\n",
       "      <td>301KG0KX9CFC0MHLW3ECT80VTS3H2D</td>\n",
       "      <td>3WROYBU7BMMRCGD41SQ9YGNC31GDCO</td>\n",
       "      <td>Preseidential Election Sentiment Analysis</td>\n",
       "      <td>Analyze the sentiment of the provided Facebook...</td>\n",
       "      <td>sentiment election Donald Trump Hilary Clinton...</td>\n",
       "      <td>$0.02</td>\n",
       "      <td>Wed Nov 23 21:44:16 PST 2016</td>\n",
       "      <td>3</td>\n",
       "      <td>BatchId:2606965;</td>\n",
       "      <td>172800</td>\n",
       "      <td>...</td>\n",
       "      <td>NaN</td>\n",
       "      <td>7</td>\n",
       "      <td>100% (132/132)</td>\n",
       "      <td>100% (132/132)</td>\n",
       "      <td>100% (132/132)</td>\n",
       "      <td>13652355666_10154036300320667</td>\n",
       "      <td>Thousands of demonstrators filled the streets ...</td>\n",
       "      <td>Neutral</td>\n",
       "      <td>NaN</td>\n",
       "      <td>NaN</td>\n",
       "    </tr>\n",
       "    <tr>\n",
       "      <th>3</th>\n",
       "      <td>301KG0KX9CFC0MHLW3ECT80VTS42HZ</td>\n",
       "      <td>3WROYBU7BMMRCGD41SQ9YGNC31GDCO</td>\n",
       "      <td>Preseidential Election Sentiment Analysis</td>\n",
       "      <td>Analyze the sentiment of the provided Facebook...</td>\n",
       "      <td>sentiment election Donald Trump Hilary Clinton...</td>\n",
       "      <td>$0.02</td>\n",
       "      <td>Wed Nov 23 21:44:36 PST 2016</td>\n",
       "      <td>3</td>\n",
       "      <td>BatchId:2606965;</td>\n",
       "      <td>172800</td>\n",
       "      <td>...</td>\n",
       "      <td>NaN</td>\n",
       "      <td>51</td>\n",
       "      <td>100% (147/147)</td>\n",
       "      <td>100% (147/147)</td>\n",
       "      <td>100% (147/147)</td>\n",
       "      <td>131459315949_10154056577745950</td>\n",
       "      <td>From Barack Obama's 2003 Senate campaign to Hi...</td>\n",
       "      <td>Positive</td>\n",
       "      <td>NaN</td>\n",
       "      <td>NaN</td>\n",
       "    </tr>\n",
       "    <tr>\n",
       "      <th>4</th>\n",
       "      <td>301KG0KX9CFC0MHLW3ECT80VTS42HZ</td>\n",
       "      <td>3WROYBU7BMMRCGD41SQ9YGNC31GDCO</td>\n",
       "      <td>Preseidential Election Sentiment Analysis</td>\n",
       "      <td>Analyze the sentiment of the provided Facebook...</td>\n",
       "      <td>sentiment election Donald Trump Hilary Clinton...</td>\n",
       "      <td>$0.02</td>\n",
       "      <td>Wed Nov 23 21:44:36 PST 2016</td>\n",
       "      <td>3</td>\n",
       "      <td>BatchId:2606965;</td>\n",
       "      <td>172800</td>\n",
       "      <td>...</td>\n",
       "      <td>NaN</td>\n",
       "      <td>3</td>\n",
       "      <td>100% (99/99)</td>\n",
       "      <td>100% (99/99)</td>\n",
       "      <td>100% (99/99)</td>\n",
       "      <td>131459315949_10154056577745950</td>\n",
       "      <td>From Barack Obama's 2003 Senate campaign to Hi...</td>\n",
       "      <td>Neutral</td>\n",
       "      <td>NaN</td>\n",
       "      <td>NaN</td>\n",
       "    </tr>\n",
       "  </tbody>\n",
       "</table>\n",
       "<p>5 rows × 32 columns</p>\n",
       "</div>"
      ],
      "text/plain": [
       "                            HITId                       HITTypeId  \\\n",
       "0  301KG0KX9CFC0MHLW3ECT80VTS3H2D  3WROYBU7BMMRCGD41SQ9YGNC31GDCO   \n",
       "1  301KG0KX9CFC0MHLW3ECT80VTS3H2D  3WROYBU7BMMRCGD41SQ9YGNC31GDCO   \n",
       "2  301KG0KX9CFC0MHLW3ECT80VTS3H2D  3WROYBU7BMMRCGD41SQ9YGNC31GDCO   \n",
       "3  301KG0KX9CFC0MHLW3ECT80VTS42HZ  3WROYBU7BMMRCGD41SQ9YGNC31GDCO   \n",
       "4  301KG0KX9CFC0MHLW3ECT80VTS42HZ  3WROYBU7BMMRCGD41SQ9YGNC31GDCO   \n",
       "\n",
       "                                       Title  \\\n",
       "0  Preseidential Election Sentiment Analysis   \n",
       "1  Preseidential Election Sentiment Analysis   \n",
       "2  Preseidential Election Sentiment Analysis   \n",
       "3  Preseidential Election Sentiment Analysis   \n",
       "4  Preseidential Election Sentiment Analysis   \n",
       "\n",
       "                                         Description  \\\n",
       "0  Analyze the sentiment of the provided Facebook...   \n",
       "1  Analyze the sentiment of the provided Facebook...   \n",
       "2  Analyze the sentiment of the provided Facebook...   \n",
       "3  Analyze the sentiment of the provided Facebook...   \n",
       "4  Analyze the sentiment of the provided Facebook...   \n",
       "\n",
       "                                            Keywords Reward  \\\n",
       "0  sentiment election Donald Trump Hilary Clinton...  $0.02   \n",
       "1  sentiment election Donald Trump Hilary Clinton...  $0.02   \n",
       "2  sentiment election Donald Trump Hilary Clinton...  $0.02   \n",
       "3  sentiment election Donald Trump Hilary Clinton...  $0.02   \n",
       "4  sentiment election Donald Trump Hilary Clinton...  $0.02   \n",
       "\n",
       "                   CreationTime  MaxAssignments RequesterAnnotation  \\\n",
       "0  Wed Nov 23 21:44:16 PST 2016               3    BatchId:2606965;   \n",
       "1  Wed Nov 23 21:44:16 PST 2016               3    BatchId:2606965;   \n",
       "2  Wed Nov 23 21:44:16 PST 2016               3    BatchId:2606965;   \n",
       "3  Wed Nov 23 21:44:36 PST 2016               3    BatchId:2606965;   \n",
       "4  Wed Nov 23 21:44:36 PST 2016               3    BatchId:2606965;   \n",
       "\n",
       "   AssignmentDurationInSeconds  ...    RequesterFeedback WorkTimeInSeconds  \\\n",
       "0                       172800  ...                  NaN                 3   \n",
       "1                       172800  ...                  NaN                 3   \n",
       "2                       172800  ...                  NaN                 7   \n",
       "3                       172800  ...                  NaN                51   \n",
       "4                       172800  ...                  NaN                 3   \n",
       "\n",
       "   LifetimeApprovalRate  Last30DaysApprovalRate Last7DaysApprovalRate  \\\n",
       "0        100% (143/143)          100% (143/143)        100% (143/143)   \n",
       "1        100% (349/349)          100% (349/349)        100% (349/349)   \n",
       "2        100% (132/132)          100% (132/132)        100% (132/132)   \n",
       "3        100% (147/147)          100% (147/147)        100% (147/147)   \n",
       "4          100% (99/99)            100% (99/99)          100% (99/99)   \n",
       "\n",
       "                  Input.status_id  \\\n",
       "0   13652355666_10154036300320667   \n",
       "1   13652355666_10154036300320667   \n",
       "2   13652355666_10154036300320667   \n",
       "3  131459315949_10154056577745950   \n",
       "4  131459315949_10154056577745950   \n",
       "\n",
       "                                       Input.content Answer.sentiment Approve  \\\n",
       "0  Thousands of demonstrators filled the streets ...         Positive     NaN   \n",
       "1  Thousands of demonstrators filled the streets ...         Positive     NaN   \n",
       "2  Thousands of demonstrators filled the streets ...          Neutral     NaN   \n",
       "3  From Barack Obama's 2003 Senate campaign to Hi...         Positive     NaN   \n",
       "4  From Barack Obama's 2003 Senate campaign to Hi...          Neutral     NaN   \n",
       "\n",
       "  Reject  \n",
       "0    NaN  \n",
       "1    NaN  \n",
       "2    NaN  \n",
       "3    NaN  \n",
       "4    NaN  \n",
       "\n",
       "[5 rows x 32 columns]"
      ]
     },
     "execution_count": 2,
     "metadata": {},
     "output_type": "execute_result"
    }
   ],
   "source": [
    "#Load Turk Data\n",
    "turk_df = pd.read_csv(path + 'Turk/Batch_2606965_batch_results.csv') \n",
    "turk_df.head()"
   ]
  },
  {
   "cell_type": "code",
   "execution_count": 3,
   "metadata": {
    "collapsed": false
   },
   "outputs": [
    {
     "data": {
      "text/html": [
       "<div>\n",
       "<table border=\"1\" class=\"dataframe\">\n",
       "  <thead>\n",
       "    <tr style=\"text-align: right;\">\n",
       "      <th></th>\n",
       "      <th>status_id</th>\n",
       "      <th>content</th>\n",
       "      <th>sentiment</th>\n",
       "    </tr>\n",
       "  </thead>\n",
       "  <tbody>\n",
       "    <tr>\n",
       "      <th>0</th>\n",
       "      <td>13652355666_10154036300320667</td>\n",
       "      <td>Thousands of demonstrators filled the streets ...</td>\n",
       "      <td>Positive</td>\n",
       "    </tr>\n",
       "    <tr>\n",
       "      <th>1</th>\n",
       "      <td>13652355666_10154036300320667</td>\n",
       "      <td>Thousands of demonstrators filled the streets ...</td>\n",
       "      <td>Positive</td>\n",
       "    </tr>\n",
       "    <tr>\n",
       "      <th>2</th>\n",
       "      <td>13652355666_10154036300320667</td>\n",
       "      <td>Thousands of demonstrators filled the streets ...</td>\n",
       "      <td>Neutral</td>\n",
       "    </tr>\n",
       "    <tr>\n",
       "      <th>3</th>\n",
       "      <td>131459315949_10154056577745950</td>\n",
       "      <td>From Barack Obama's 2003 Senate campaign to Hi...</td>\n",
       "      <td>Positive</td>\n",
       "    </tr>\n",
       "    <tr>\n",
       "      <th>4</th>\n",
       "      <td>131459315949_10154056577745950</td>\n",
       "      <td>From Barack Obama's 2003 Senate campaign to Hi...</td>\n",
       "      <td>Neutral</td>\n",
       "    </tr>\n",
       "  </tbody>\n",
       "</table>\n",
       "</div>"
      ],
      "text/plain": [
       "                        status_id  \\\n",
       "0   13652355666_10154036300320667   \n",
       "1   13652355666_10154036300320667   \n",
       "2   13652355666_10154036300320667   \n",
       "3  131459315949_10154056577745950   \n",
       "4  131459315949_10154056577745950   \n",
       "\n",
       "                                             content sentiment  \n",
       "0  Thousands of demonstrators filled the streets ...  Positive  \n",
       "1  Thousands of demonstrators filled the streets ...  Positive  \n",
       "2  Thousands of demonstrators filled the streets ...   Neutral  \n",
       "3  From Barack Obama's 2003 Senate campaign to Hi...  Positive  \n",
       "4  From Barack Obama's 2003 Senate campaign to Hi...   Neutral  "
      ]
     },
     "execution_count": 3,
     "metadata": {},
     "output_type": "execute_result"
    }
   ],
   "source": [
    "#Narrow columns down to relative information\n",
    "relevant_df = turk_df[['Input.status_id','Input.content','Answer.sentiment']]\n",
    "relevant_df.columns = ['status_id','content','sentiment']\n",
    "relevant_df.head()"
   ]
  },
  {
   "cell_type": "markdown",
   "metadata": {},
   "source": [
    "### Condense Turk Reviews"
   ]
  },
  {
   "cell_type": "code",
   "execution_count": 4,
   "metadata": {
    "collapsed": false
   },
   "outputs": [],
   "source": [
    "#Split into two, one with post content and one with sentiment review. \n",
    "#This is necessary so post content doesn't get stacked when combining rows\n",
    "content_df = relevant_df[['status_id','content']]\n",
    "sentiment_df = relevant_df[['status_id','sentiment']]"
   ]
  },
  {
   "cell_type": "code",
   "execution_count": 5,
   "metadata": {
    "collapsed": true
   },
   "outputs": [],
   "source": [
    "#Removes any non-ascii characters. TextBlob cannot process them\n",
    "def remove_non_ascii(text):\n",
    "    return re.sub(r'[^\\x00-\\x7F]',' ', text)"
   ]
  },
  {
   "cell_type": "code",
   "execution_count": 6,
   "metadata": {
    "collapsed": false
   },
   "outputs": [
    {
     "data": {
      "text/html": [
       "<div>\n",
       "<table border=\"1\" class=\"dataframe\">\n",
       "  <thead>\n",
       "    <tr style=\"text-align: right;\">\n",
       "      <th></th>\n",
       "      <th>content</th>\n",
       "    </tr>\n",
       "    <tr>\n",
       "      <th>status_id</th>\n",
       "      <th></th>\n",
       "    </tr>\n",
       "  </thead>\n",
       "  <tbody>\n",
       "    <tr>\n",
       "      <th>131459315949_10152751596575950</th>\n",
       "      <td>One opinion: \"Hillary Clinton won because all ...</td>\n",
       "    </tr>\n",
       "    <tr>\n",
       "      <th>131459315949_10152753624975950</th>\n",
       "      <td>Second fiddle to Hillary Clinton in the debate...</td>\n",
       "    </tr>\n",
       "    <tr>\n",
       "      <th>131459315949_10152754227800950</th>\n",
       "      <td>Donald J. Trump may not attend the next Republ...</td>\n",
       "    </tr>\n",
       "    <tr>\n",
       "      <th>131459315949_10152758428025950</th>\n",
       "      <td>Conservatives have criticized Donald J. Trump ...</td>\n",
       "    </tr>\n",
       "    <tr>\n",
       "      <th>131459315949_10152766742570950</th>\n",
       "      <td>Hillary Clinton has promised to take on the Na...</td>\n",
       "    </tr>\n",
       "  </tbody>\n",
       "</table>\n",
       "</div>"
      ],
      "text/plain": [
       "                                                                          content\n",
       "status_id                                                                        \n",
       "131459315949_10152751596575950  One opinion: \"Hillary Clinton won because all ...\n",
       "131459315949_10152753624975950  Second fiddle to Hillary Clinton in the debate...\n",
       "131459315949_10152754227800950  Donald J. Trump may not attend the next Republ...\n",
       "131459315949_10152758428025950  Conservatives have criticized Donald J. Trump ...\n",
       "131459315949_10152766742570950  Hillary Clinton has promised to take on the Na..."
      ]
     },
     "execution_count": 6,
     "metadata": {},
     "output_type": "execute_result"
    }
   ],
   "source": [
    "#Combines all rows with the same status_id. \n",
    "#It only keeps the same post (content column) its finds which is ok because they are all the same.\n",
    "content_df = content_df.groupby(content_df.status_id).first()\n",
    "content_df.head()"
   ]
  },
  {
   "cell_type": "code",
   "execution_count": 7,
   "metadata": {
    "collapsed": false
   },
   "outputs": [
    {
     "data": {
      "text/html": [
       "<div>\n",
       "<table border=\"1\" class=\"dataframe\">\n",
       "  <thead>\n",
       "    <tr style=\"text-align: right;\">\n",
       "      <th></th>\n",
       "      <th>content</th>\n",
       "    </tr>\n",
       "    <tr>\n",
       "      <th>status_id</th>\n",
       "      <th></th>\n",
       "    </tr>\n",
       "  </thead>\n",
       "  <tbody>\n",
       "    <tr>\n",
       "      <th>131459315949_10152751596575950</th>\n",
       "      <td>One opinion: \"Hillary Clinton won because all ...</td>\n",
       "    </tr>\n",
       "    <tr>\n",
       "      <th>131459315949_10152753624975950</th>\n",
       "      <td>Second fiddle to Hillary Clinton in the debate...</td>\n",
       "    </tr>\n",
       "    <tr>\n",
       "      <th>131459315949_10152754227800950</th>\n",
       "      <td>Donald J. Trump may not attend the next Republ...</td>\n",
       "    </tr>\n",
       "    <tr>\n",
       "      <th>131459315949_10152758428025950</th>\n",
       "      <td>Conservatives have criticized Donald J. Trump ...</td>\n",
       "    </tr>\n",
       "    <tr>\n",
       "      <th>131459315949_10152766742570950</th>\n",
       "      <td>Hillary Clinton has promised to take on the Na...</td>\n",
       "    </tr>\n",
       "  </tbody>\n",
       "</table>\n",
       "</div>"
      ],
      "text/plain": [
       "                                                                          content\n",
       "status_id                                                                        \n",
       "131459315949_10152751596575950  One opinion: \"Hillary Clinton won because all ...\n",
       "131459315949_10152753624975950  Second fiddle to Hillary Clinton in the debate...\n",
       "131459315949_10152754227800950  Donald J. Trump may not attend the next Republ...\n",
       "131459315949_10152758428025950  Conservatives have criticized Donald J. Trump ...\n",
       "131459315949_10152766742570950  Hillary Clinton has promised to take on the Na..."
      ]
     },
     "execution_count": 7,
     "metadata": {},
     "output_type": "execute_result"
    }
   ],
   "source": [
    "#Removes all non-ascii characters from the content column\n",
    "content_df['content'] = content_df.content.apply(remove_non_ascii)\n",
    "content_df.head()"
   ]
  },
  {
   "cell_type": "code",
   "execution_count": 8,
   "metadata": {
    "collapsed": false
   },
   "outputs": [],
   "source": [
    "#Function that counts the number of Positive, Neutral, and Negative sentiment reviews and chooses an official review\n",
    "#2 or more of review = that review\n",
    "#Anything else is Inconclusive\n",
    "def choose_sentiment(label):\n",
    "    if label.count('Positive') >= 2:\n",
    "        return 'Positive'\n",
    "    elif label.count('Neutral') >= 2:\n",
    "        return 'Neutral'\n",
    "    elif label.count('Negative') >= 2:\n",
    "        return 'Negative'\n",
    "    else:\n",
    "        return 'Inconclusive'"
   ]
  },
  {
   "cell_type": "code",
   "execution_count": 9,
   "metadata": {
    "collapsed": false
   },
   "outputs": [
    {
     "data": {
      "text/html": [
       "<div>\n",
       "<table border=\"1\" class=\"dataframe\">\n",
       "  <thead>\n",
       "    <tr style=\"text-align: right;\">\n",
       "      <th></th>\n",
       "      <th>sentiment</th>\n",
       "    </tr>\n",
       "    <tr>\n",
       "      <th>status_id</th>\n",
       "      <th></th>\n",
       "    </tr>\n",
       "  </thead>\n",
       "  <tbody>\n",
       "    <tr>\n",
       "      <th>131459315949_10152751596575950</th>\n",
       "      <td>NeutralNegativeNegative</td>\n",
       "    </tr>\n",
       "    <tr>\n",
       "      <th>131459315949_10152753624975950</th>\n",
       "      <td>NeutralPositiveNegative</td>\n",
       "    </tr>\n",
       "    <tr>\n",
       "      <th>131459315949_10152754227800950</th>\n",
       "      <td>PositiveNeutralNeutral</td>\n",
       "    </tr>\n",
       "    <tr>\n",
       "      <th>131459315949_10152758428025950</th>\n",
       "      <td>NegativeNegativeNeutral</td>\n",
       "    </tr>\n",
       "    <tr>\n",
       "      <th>131459315949_10152766742570950</th>\n",
       "      <td>NeutralNegativeNeutral</td>\n",
       "    </tr>\n",
       "  </tbody>\n",
       "</table>\n",
       "</div>"
      ],
      "text/plain": [
       "                                              sentiment\n",
       "status_id                                              \n",
       "131459315949_10152751596575950  NeutralNegativeNegative\n",
       "131459315949_10152753624975950  NeutralPositiveNegative\n",
       "131459315949_10152754227800950   PositiveNeutralNeutral\n",
       "131459315949_10152758428025950  NegativeNegativeNeutral\n",
       "131459315949_10152766742570950   NeutralNegativeNeutral"
      ]
     },
     "execution_count": 9,
     "metadata": {},
     "output_type": "execute_result"
    }
   ],
   "source": [
    "#Combines all rows with the same statuse id\n",
    "#Combines all sentiment reviews as well\n",
    "sentiment_df = sentiment_df.groupby(sentiment_df.status_id).sum()\n",
    "sentiment_df.head()"
   ]
  },
  {
   "cell_type": "code",
   "execution_count": 10,
   "metadata": {
    "collapsed": false
   },
   "outputs": [
    {
     "data": {
      "text/html": [
       "<div>\n",
       "<table border=\"1\" class=\"dataframe\">\n",
       "  <thead>\n",
       "    <tr style=\"text-align: right;\">\n",
       "      <th></th>\n",
       "      <th>sentiment</th>\n",
       "    </tr>\n",
       "    <tr>\n",
       "      <th>status_id</th>\n",
       "      <th></th>\n",
       "    </tr>\n",
       "  </thead>\n",
       "  <tbody>\n",
       "    <tr>\n",
       "      <th>131459315949_10152751596575950</th>\n",
       "      <td>Negative</td>\n",
       "    </tr>\n",
       "    <tr>\n",
       "      <th>131459315949_10152753624975950</th>\n",
       "      <td>Inconclusive</td>\n",
       "    </tr>\n",
       "    <tr>\n",
       "      <th>131459315949_10152754227800950</th>\n",
       "      <td>Neutral</td>\n",
       "    </tr>\n",
       "    <tr>\n",
       "      <th>131459315949_10152758428025950</th>\n",
       "      <td>Negative</td>\n",
       "    </tr>\n",
       "    <tr>\n",
       "      <th>131459315949_10152766742570950</th>\n",
       "      <td>Neutral</td>\n",
       "    </tr>\n",
       "  </tbody>\n",
       "</table>\n",
       "</div>"
      ],
      "text/plain": [
       "                                   sentiment\n",
       "status_id                                   \n",
       "131459315949_10152751596575950      Negative\n",
       "131459315949_10152753624975950  Inconclusive\n",
       "131459315949_10152754227800950       Neutral\n",
       "131459315949_10152758428025950      Negative\n",
       "131459315949_10152766742570950       Neutral"
      ]
     },
     "execution_count": 10,
     "metadata": {},
     "output_type": "execute_result"
    }
   ],
   "source": [
    "#Chooses an offical sentiment review based on the three aggregated ones\n",
    "sentiment_df['sentiment'] = sentiment_df.sentiment.apply(choose_sentiment)\n",
    "sentiment_df.head()"
   ]
  },
  {
   "cell_type": "code",
   "execution_count": 11,
   "metadata": {
    "collapsed": false
   },
   "outputs": [
    {
     "data": {
      "text/html": [
       "<div>\n",
       "<table border=\"1\" class=\"dataframe\">\n",
       "  <thead>\n",
       "    <tr style=\"text-align: right;\">\n",
       "      <th></th>\n",
       "      <th>sentiment</th>\n",
       "    </tr>\n",
       "    <tr>\n",
       "      <th>status_id</th>\n",
       "      <th></th>\n",
       "    </tr>\n",
       "  </thead>\n",
       "  <tbody>\n",
       "    <tr>\n",
       "      <th>131459315949_10152751596575950</th>\n",
       "      <td>Negative</td>\n",
       "    </tr>\n",
       "    <tr>\n",
       "      <th>131459315949_10152754227800950</th>\n",
       "      <td>Neutral</td>\n",
       "    </tr>\n",
       "    <tr>\n",
       "      <th>131459315949_10152758428025950</th>\n",
       "      <td>Negative</td>\n",
       "    </tr>\n",
       "    <tr>\n",
       "      <th>131459315949_10152766742570950</th>\n",
       "      <td>Neutral</td>\n",
       "    </tr>\n",
       "    <tr>\n",
       "      <th>131459315949_10152791196665950</th>\n",
       "      <td>Positive</td>\n",
       "    </tr>\n",
       "  </tbody>\n",
       "</table>\n",
       "</div>"
      ],
      "text/plain": [
       "                               sentiment\n",
       "status_id                               \n",
       "131459315949_10152751596575950  Negative\n",
       "131459315949_10152754227800950   Neutral\n",
       "131459315949_10152758428025950  Negative\n",
       "131459315949_10152766742570950   Neutral\n",
       "131459315949_10152791196665950  Positive"
      ]
     },
     "execution_count": 11,
     "metadata": {},
     "output_type": "execute_result"
    }
   ],
   "source": [
    "#Discards all Inconclusive sentiment reviews\n",
    "sentiment_df = sentiment_df[sentiment_df.sentiment != 'Inconclusive']\n",
    "sentiment_df.head()"
   ]
  },
  {
   "cell_type": "code",
   "execution_count": 12,
   "metadata": {
    "collapsed": false
   },
   "outputs": [
    {
     "data": {
      "text/html": [
       "<div>\n",
       "<table border=\"1\" class=\"dataframe\">\n",
       "  <thead>\n",
       "    <tr style=\"text-align: right;\">\n",
       "      <th></th>\n",
       "      <th>content</th>\n",
       "      <th>sentiment</th>\n",
       "    </tr>\n",
       "    <tr>\n",
       "      <th>status_id</th>\n",
       "      <th></th>\n",
       "      <th></th>\n",
       "    </tr>\n",
       "  </thead>\n",
       "  <tbody>\n",
       "    <tr>\n",
       "      <th>131459315949_10152751596575950</th>\n",
       "      <td>One opinion: \"Hillary Clinton won because all ...</td>\n",
       "      <td>Negative</td>\n",
       "    </tr>\n",
       "    <tr>\n",
       "      <th>131459315949_10152754227800950</th>\n",
       "      <td>Donald J. Trump may not attend the next Republ...</td>\n",
       "      <td>Neutral</td>\n",
       "    </tr>\n",
       "    <tr>\n",
       "      <th>131459315949_10152758428025950</th>\n",
       "      <td>Conservatives have criticized Donald J. Trump ...</td>\n",
       "      <td>Negative</td>\n",
       "    </tr>\n",
       "    <tr>\n",
       "      <th>131459315949_10152766742570950</th>\n",
       "      <td>Hillary Clinton has promised to take on the Na...</td>\n",
       "      <td>Neutral</td>\n",
       "    </tr>\n",
       "    <tr>\n",
       "      <th>131459315949_10152791196665950</th>\n",
       "      <td>A look at 5 crucial issues in the Canadian ele...</td>\n",
       "      <td>Positive</td>\n",
       "    </tr>\n",
       "  </tbody>\n",
       "</table>\n",
       "</div>"
      ],
      "text/plain": [
       "                                                                          content  \\\n",
       "status_id                                                                           \n",
       "131459315949_10152751596575950  One opinion: \"Hillary Clinton won because all ...   \n",
       "131459315949_10152754227800950  Donald J. Trump may not attend the next Republ...   \n",
       "131459315949_10152758428025950  Conservatives have criticized Donald J. Trump ...   \n",
       "131459315949_10152766742570950  Hillary Clinton has promised to take on the Na...   \n",
       "131459315949_10152791196665950  A look at 5 crucial issues in the Canadian ele...   \n",
       "\n",
       "                               sentiment  \n",
       "status_id                                 \n",
       "131459315949_10152751596575950  Negative  \n",
       "131459315949_10152754227800950   Neutral  \n",
       "131459315949_10152758428025950  Negative  \n",
       "131459315949_10152766742570950   Neutral  \n",
       "131459315949_10152791196665950  Positive  "
      ]
     },
     "execution_count": 12,
     "metadata": {},
     "output_type": "execute_result"
    }
   ],
   "source": [
    "#Merged the sentiment Dataframe and post Dataframe by combining like status_ids\n",
    "#Note: It uses a right merge, so only items in the sentiment dataframe are kept.\n",
    "merged_df = content_df.merge(sentiment_df,how='right',left_index=True,right_index=True)\n",
    "merged_df.head()"
   ]
  },
  {
   "cell_type": "code",
   "execution_count": 13,
   "metadata": {
    "collapsed": true
   },
   "outputs": [],
   "source": [
    "#Classifies a post as Trump, Clinton, or Other\n",
    "#Rules:\n",
    "#If a review talks about only Trump, and not Clinotn, it is Trump\n",
    "#If a review talks about only Clinton, and not Trump, it is Clinton\n",
    "#Everything else is other \n",
    "def classify_post (row):\n",
    "   status = row['content'].lower()\n",
    "   if (('donald' in status) or ('trump' in status)) and (('hillary' in status) or ('clinton' in status)) :\n",
    "      return 'other'\n",
    "   elif ('donald' in status) or ('trump' in status) :\n",
    "      return 'trump'\n",
    "   elif ('hillary' in status) or ('clinton' in status) :\n",
    "      return 'clinton'\n",
    "   else:\n",
    "      return 'other'"
   ]
  },
  {
   "cell_type": "code",
   "execution_count": 14,
   "metadata": {
    "collapsed": false
   },
   "outputs": [
    {
     "data": {
      "text/html": [
       "<div>\n",
       "<table border=\"1\" class=\"dataframe\">\n",
       "  <thead>\n",
       "    <tr style=\"text-align: right;\">\n",
       "      <th></th>\n",
       "      <th>content</th>\n",
       "      <th>sentiment</th>\n",
       "      <th>candidate_label</th>\n",
       "    </tr>\n",
       "    <tr>\n",
       "      <th>status_id</th>\n",
       "      <th></th>\n",
       "      <th></th>\n",
       "      <th></th>\n",
       "    </tr>\n",
       "  </thead>\n",
       "  <tbody>\n",
       "    <tr>\n",
       "      <th>131459315949_10152751596575950</th>\n",
       "      <td>One opinion: \"Hillary Clinton won because all ...</td>\n",
       "      <td>Negative</td>\n",
       "      <td>clinton</td>\n",
       "    </tr>\n",
       "    <tr>\n",
       "      <th>131459315949_10152754227800950</th>\n",
       "      <td>Donald J. Trump may not attend the next Republ...</td>\n",
       "      <td>Neutral</td>\n",
       "      <td>trump</td>\n",
       "    </tr>\n",
       "    <tr>\n",
       "      <th>131459315949_10152758428025950</th>\n",
       "      <td>Conservatives have criticized Donald J. Trump ...</td>\n",
       "      <td>Negative</td>\n",
       "      <td>trump</td>\n",
       "    </tr>\n",
       "    <tr>\n",
       "      <th>131459315949_10152766742570950</th>\n",
       "      <td>Hillary Clinton has promised to take on the Na...</td>\n",
       "      <td>Neutral</td>\n",
       "      <td>clinton</td>\n",
       "    </tr>\n",
       "    <tr>\n",
       "      <th>131459315949_10152791196665950</th>\n",
       "      <td>A look at 5 crucial issues in the Canadian ele...</td>\n",
       "      <td>Positive</td>\n",
       "      <td>other</td>\n",
       "    </tr>\n",
       "  </tbody>\n",
       "</table>\n",
       "</div>"
      ],
      "text/plain": [
       "                                                                          content  \\\n",
       "status_id                                                                           \n",
       "131459315949_10152751596575950  One opinion: \"Hillary Clinton won because all ...   \n",
       "131459315949_10152754227800950  Donald J. Trump may not attend the next Republ...   \n",
       "131459315949_10152758428025950  Conservatives have criticized Donald J. Trump ...   \n",
       "131459315949_10152766742570950  Hillary Clinton has promised to take on the Na...   \n",
       "131459315949_10152791196665950  A look at 5 crucial issues in the Canadian ele...   \n",
       "\n",
       "                               sentiment candidate_label  \n",
       "status_id                                                 \n",
       "131459315949_10152751596575950  Negative         clinton  \n",
       "131459315949_10152754227800950   Neutral           trump  \n",
       "131459315949_10152758428025950  Negative           trump  \n",
       "131459315949_10152766742570950   Neutral         clinton  \n",
       "131459315949_10152791196665950  Positive           other  "
      ]
     },
     "execution_count": 14,
     "metadata": {},
     "output_type": "execute_result"
    }
   ],
   "source": [
    "#Labels all posts as Trump, Clinton, or other\n",
    "labeled_df = merged_df\n",
    "labeled_df['candidate_label'] = merged_df.apply (lambda row: classify_post (row),axis=1)\n",
    "labeled_df.head()"
   ]
  },
  {
   "cell_type": "code",
   "execution_count": 15,
   "metadata": {
    "collapsed": true
   },
   "outputs": [],
   "source": [
    "#Function to read in stop words\n",
    "def stopword_file_to_list(file_name):\n",
    "    f = open(path + \"StopWordLists/\" + file_name)\n",
    "    file_text = f.read()\n",
    "    return file_text.split(\"\\r\")"
   ]
  },
  {
   "cell_type": "code",
   "execution_count": 16,
   "metadata": {
    "collapsed": false
   },
   "outputs": [
    {
     "name": "stdout",
     "output_type": "stream",
     "text": [
      "['a', 'able', 'about', 'above', 'abst', 'accordance', 'according', 'accordingly', 'across', 'act']\n",
      "['a', 'about', 'above', 'after', 'again', 'against', 'all', 'am', 'an', 'and']\n",
      "[\"a's\", 'accordingly', 'again', 'allows', 'also', 'amongst', 'anybody', 'anyways', 'appropriate', 'aside']\n"
     ]
    }
   ],
   "source": [
    "#Remove Stop Word List into Memory\n",
    "comprehensive_stopword_list = stopword_file_to_list(\"comprehensive_stopwords.txt\")\n",
    "default_english_stopword_list = stopword_file_to_list(\"default_english_stopwords.txt\")\n",
    "mysql_stopword_list = stopword_file_to_list(\"mysql_stopwords.txt\")\n",
    "print comprehensive_stopword_list[:10]\n",
    "print default_english_stopword_list[:10]\n",
    "print mysql_stopword_list[:10]"
   ]
  },
  {
   "cell_type": "code",
   "execution_count": 17,
   "metadata": {
    "collapsed": true
   },
   "outputs": [],
   "source": [
    "#Remove words in list from string\n",
    "def remove_words(s,words_to_remove):\n",
    "    word_list = s.split()\n",
    "    resultwords  = [word for word in word_list if word.lower() not in words_to_remove]\n",
    "    result = ' '.join(resultwords)\n",
    "    return result"
   ]
  },
  {
   "cell_type": "code",
   "execution_count": 18,
   "metadata": {
    "collapsed": false
   },
   "outputs": [
    {
     "data": {
      "text/html": [
       "<div>\n",
       "<table border=\"1\" class=\"dataframe\">\n",
       "  <thead>\n",
       "    <tr style=\"text-align: right;\">\n",
       "      <th></th>\n",
       "      <th>content</th>\n",
       "      <th>sentiment</th>\n",
       "      <th>candidate_label</th>\n",
       "    </tr>\n",
       "    <tr>\n",
       "      <th>status_id</th>\n",
       "      <th></th>\n",
       "      <th></th>\n",
       "      <th></th>\n",
       "    </tr>\n",
       "  </thead>\n",
       "  <tbody>\n",
       "    <tr>\n",
       "      <th>131459315949_10152751596575950</th>\n",
       "      <td>opinion: \"Hillary Clinton won opponents terrib...</td>\n",
       "      <td>Negative</td>\n",
       "      <td>clinton</td>\n",
       "    </tr>\n",
       "    <tr>\n",
       "      <th>131459315949_10152754227800950</th>\n",
       "      <td>Donald J. Trump attend Republican presidential...</td>\n",
       "      <td>Neutral</td>\n",
       "      <td>trump</td>\n",
       "    </tr>\n",
       "    <tr>\n",
       "      <th>131459315949_10152758428025950</th>\n",
       "      <td>Conservatives criticized Donald J. Trump expre...</td>\n",
       "      <td>Negative</td>\n",
       "      <td>trump</td>\n",
       "    </tr>\n",
       "    <tr>\n",
       "      <th>131459315949_10152766742570950</th>\n",
       "      <td>Hillary Clinton promised National Rifle Associ...</td>\n",
       "      <td>Neutral</td>\n",
       "      <td>clinton</td>\n",
       "    </tr>\n",
       "    <tr>\n",
       "      <th>131459315949_10152791196665950</th>\n",
       "      <td>5 crucial issues Canadian election, referendum...</td>\n",
       "      <td>Positive</td>\n",
       "      <td>other</td>\n",
       "    </tr>\n",
       "  </tbody>\n",
       "</table>\n",
       "</div>"
      ],
      "text/plain": [
       "                                                                          content  \\\n",
       "status_id                                                                           \n",
       "131459315949_10152751596575950  opinion: \"Hillary Clinton won opponents terrib...   \n",
       "131459315949_10152754227800950  Donald J. Trump attend Republican presidential...   \n",
       "131459315949_10152758428025950  Conservatives criticized Donald J. Trump expre...   \n",
       "131459315949_10152766742570950  Hillary Clinton promised National Rifle Associ...   \n",
       "131459315949_10152791196665950  5 crucial issues Canadian election, referendum...   \n",
       "\n",
       "                               sentiment candidate_label  \n",
       "status_id                                                 \n",
       "131459315949_10152751596575950  Negative         clinton  \n",
       "131459315949_10152754227800950   Neutral           trump  \n",
       "131459315949_10152758428025950  Negative           trump  \n",
       "131459315949_10152766742570950   Neutral         clinton  \n",
       "131459315949_10152791196665950  Positive           other  "
      ]
     },
     "execution_count": 18,
     "metadata": {},
     "output_type": "execute_result"
    }
   ],
   "source": [
    "labeled_df_without_stopwords = labeled_df\n",
    "labeled_df_without_stopwords['content'] = merged_df.apply (lambda row: remove_words(row['content'],comprehensive_stopword_list),axis=1)\n",
    "labeled_df_without_stopwords.head()"
   ]
  },
  {
   "cell_type": "code",
   "execution_count": 19,
   "metadata": {
    "collapsed": true
   },
   "outputs": [],
   "source": [
    "#We're done making changes, assign out current work to the final df\n",
    "final_df = labeled_df_without_stopwords"
   ]
  },
  {
   "cell_type": "code",
   "execution_count": 20,
   "metadata": {
    "collapsed": false
   },
   "outputs": [
    {
     "data": {
      "text/html": [
       "<div>\n",
       "<table border=\"1\" class=\"dataframe\">\n",
       "  <thead>\n",
       "    <tr style=\"text-align: right;\">\n",
       "      <th></th>\n",
       "      <th>content</th>\n",
       "      <th>sentiment</th>\n",
       "      <th>candidate_label</th>\n",
       "    </tr>\n",
       "    <tr>\n",
       "      <th>status_id</th>\n",
       "      <th></th>\n",
       "      <th></th>\n",
       "      <th></th>\n",
       "    </tr>\n",
       "  </thead>\n",
       "  <tbody>\n",
       "    <tr>\n",
       "      <th>131459315949_10152754227800950</th>\n",
       "      <td>Donald J. Trump attend Republican presidential...</td>\n",
       "      <td>Neutral</td>\n",
       "      <td>trump</td>\n",
       "    </tr>\n",
       "    <tr>\n",
       "      <th>131459315949_10152758428025950</th>\n",
       "      <td>Conservatives criticized Donald J. Trump expre...</td>\n",
       "      <td>Negative</td>\n",
       "      <td>trump</td>\n",
       "    </tr>\n",
       "    <tr>\n",
       "      <th>131459315949_10152871191975950</th>\n",
       "      <td>Donald J. Trump wasn't legality closing mosque...</td>\n",
       "      <td>Neutral</td>\n",
       "      <td>trump</td>\n",
       "    </tr>\n",
       "    <tr>\n",
       "      <th>131459315949_10152978451960950</th>\n",
       "      <td>Dr. Ben Carson lead Republican presidential ca...</td>\n",
       "      <td>Positive</td>\n",
       "      <td>trump</td>\n",
       "    </tr>\n",
       "    <tr>\n",
       "      <th>131459315949_10153076683820950</th>\n",
       "      <td>fighting politically correct war, Donald J. Tr...</td>\n",
       "      <td>Neutral</td>\n",
       "      <td>trump</td>\n",
       "    </tr>\n",
       "  </tbody>\n",
       "</table>\n",
       "</div>"
      ],
      "text/plain": [
       "                                                                          content  \\\n",
       "status_id                                                                           \n",
       "131459315949_10152754227800950  Donald J. Trump attend Republican presidential...   \n",
       "131459315949_10152758428025950  Conservatives criticized Donald J. Trump expre...   \n",
       "131459315949_10152871191975950  Donald J. Trump wasn't legality closing mosque...   \n",
       "131459315949_10152978451960950  Dr. Ben Carson lead Republican presidential ca...   \n",
       "131459315949_10153076683820950  fighting politically correct war, Donald J. Tr...   \n",
       "\n",
       "                               sentiment candidate_label  \n",
       "status_id                                                 \n",
       "131459315949_10152754227800950   Neutral           trump  \n",
       "131459315949_10152758428025950  Negative           trump  \n",
       "131459315949_10152871191975950   Neutral           trump  \n",
       "131459315949_10152978451960950  Positive           trump  \n",
       "131459315949_10153076683820950   Neutral           trump  "
      ]
     },
     "execution_count": 20,
     "metadata": {},
     "output_type": "execute_result"
    }
   ],
   "source": [
    "trump_df = final_df[final_df.candidate_label == 'trump']\n",
    "trump_df.head()"
   ]
  },
  {
   "cell_type": "code",
   "execution_count": 21,
   "metadata": {
    "collapsed": false
   },
   "outputs": [
    {
     "data": {
      "text/html": [
       "<div>\n",
       "<table border=\"1\" class=\"dataframe\">\n",
       "  <thead>\n",
       "    <tr style=\"text-align: right;\">\n",
       "      <th></th>\n",
       "      <th>content</th>\n",
       "      <th>sentiment</th>\n",
       "      <th>candidate_label</th>\n",
       "    </tr>\n",
       "    <tr>\n",
       "      <th>status_id</th>\n",
       "      <th></th>\n",
       "      <th></th>\n",
       "      <th></th>\n",
       "    </tr>\n",
       "  </thead>\n",
       "  <tbody>\n",
       "    <tr>\n",
       "      <th>131459315949_10152751596575950</th>\n",
       "      <td>opinion: \"Hillary Clinton won opponents terrib...</td>\n",
       "      <td>Negative</td>\n",
       "      <td>clinton</td>\n",
       "    </tr>\n",
       "    <tr>\n",
       "      <th>131459315949_10152766742570950</th>\n",
       "      <td>Hillary Clinton promised National Rifle Associ...</td>\n",
       "      <td>Neutral</td>\n",
       "      <td>clinton</td>\n",
       "    </tr>\n",
       "    <tr>\n",
       "      <th>131459315949_10152957933900950</th>\n",
       "      <td>Katy Perry performed rally Hillary Clinton Sat...</td>\n",
       "      <td>Positive</td>\n",
       "      <td>clinton</td>\n",
       "    </tr>\n",
       "    <tr>\n",
       "      <th>131459315949_10153018635795950</th>\n",
       "      <td>Politics Alert: poll, 62 percent Hillary Clint...</td>\n",
       "      <td>Positive</td>\n",
       "      <td>clinton</td>\n",
       "    </tr>\n",
       "    <tr>\n",
       "      <th>131459315949_10153173878100950</th>\n",
       "      <td>voters mobbing Bernie Sanders events Iowa, Hil...</td>\n",
       "      <td>Neutral</td>\n",
       "      <td>clinton</td>\n",
       "    </tr>\n",
       "  </tbody>\n",
       "</table>\n",
       "</div>"
      ],
      "text/plain": [
       "                                                                          content  \\\n",
       "status_id                                                                           \n",
       "131459315949_10152751596575950  opinion: \"Hillary Clinton won opponents terrib...   \n",
       "131459315949_10152766742570950  Hillary Clinton promised National Rifle Associ...   \n",
       "131459315949_10152957933900950  Katy Perry performed rally Hillary Clinton Sat...   \n",
       "131459315949_10153018635795950  Politics Alert: poll, 62 percent Hillary Clint...   \n",
       "131459315949_10153173878100950  voters mobbing Bernie Sanders events Iowa, Hil...   \n",
       "\n",
       "                               sentiment candidate_label  \n",
       "status_id                                                 \n",
       "131459315949_10152751596575950  Negative         clinton  \n",
       "131459315949_10152766742570950   Neutral         clinton  \n",
       "131459315949_10152957933900950  Positive         clinton  \n",
       "131459315949_10153018635795950  Positive         clinton  \n",
       "131459315949_10153173878100950   Neutral         clinton  "
      ]
     },
     "execution_count": 21,
     "metadata": {},
     "output_type": "execute_result"
    }
   ],
   "source": [
    "clinton_df = final_df[final_df.candidate_label == 'clinton']\n",
    "clinton_df.head()"
   ]
  },
  {
   "cell_type": "code",
   "execution_count": 22,
   "metadata": {
    "collapsed": false
   },
   "outputs": [
    {
     "data": {
      "text/html": [
       "<div>\n",
       "<table border=\"1\" class=\"dataframe\">\n",
       "  <thead>\n",
       "    <tr style=\"text-align: right;\">\n",
       "      <th></th>\n",
       "      <th>content</th>\n",
       "      <th>sentiment</th>\n",
       "      <th>candidate_label</th>\n",
       "    </tr>\n",
       "    <tr>\n",
       "      <th>status_id</th>\n",
       "      <th></th>\n",
       "      <th></th>\n",
       "      <th></th>\n",
       "    </tr>\n",
       "  </thead>\n",
       "  <tbody>\n",
       "    <tr>\n",
       "      <th>131459315949_10152791196665950</th>\n",
       "      <td>5 crucial issues Canadian election, referendum...</td>\n",
       "      <td>Positive</td>\n",
       "      <td>other</td>\n",
       "    </tr>\n",
       "    <tr>\n",
       "      <th>131459315949_10152983500645950</th>\n",
       "      <td>election June 60 percent country vote oppositi...</td>\n",
       "      <td>Positive</td>\n",
       "      <td>other</td>\n",
       "    </tr>\n",
       "    <tr>\n",
       "      <th>131459315949_10153139941305950</th>\n",
       "      <td>Donald J. Trump referenced male anatomy descri...</td>\n",
       "      <td>Negative</td>\n",
       "      <td>other</td>\n",
       "    </tr>\n",
       "    <tr>\n",
       "      <th>131459315949_10153248450690950</th>\n",
       "      <td>taste Hillary Clinton rally full 360 , Demi Lo...</td>\n",
       "      <td>Neutral</td>\n",
       "      <td>other</td>\n",
       "    </tr>\n",
       "    <tr>\n",
       "      <th>131459315949_10153257668255950</th>\n",
       "      <td>\"So stake year election? Well, things, fate pl...</td>\n",
       "      <td>Neutral</td>\n",
       "      <td>other</td>\n",
       "    </tr>\n",
       "  </tbody>\n",
       "</table>\n",
       "</div>"
      ],
      "text/plain": [
       "                                                                          content  \\\n",
       "status_id                                                                           \n",
       "131459315949_10152791196665950  5 crucial issues Canadian election, referendum...   \n",
       "131459315949_10152983500645950  election June 60 percent country vote oppositi...   \n",
       "131459315949_10153139941305950  Donald J. Trump referenced male anatomy descri...   \n",
       "131459315949_10153248450690950  taste Hillary Clinton rally full 360 , Demi Lo...   \n",
       "131459315949_10153257668255950  \"So stake year election? Well, things, fate pl...   \n",
       "\n",
       "                               sentiment candidate_label  \n",
       "status_id                                                 \n",
       "131459315949_10152791196665950  Positive           other  \n",
       "131459315949_10152983500645950  Positive           other  \n",
       "131459315949_10153139941305950  Negative           other  \n",
       "131459315949_10153248450690950   Neutral           other  \n",
       "131459315949_10153257668255950   Neutral           other  "
      ]
     },
     "execution_count": 22,
     "metadata": {},
     "output_type": "execute_result"
    }
   ],
   "source": [
    "other_df = final_df[final_df.candidate_label == 'other']\n",
    "other_df.head()"
   ]
  },
  {
   "cell_type": "code",
   "execution_count": 23,
   "metadata": {
    "collapsed": false
   },
   "outputs": [
    {
     "name": "stdout",
     "output_type": "stream",
     "text": [
      "847\n",
      "423\n",
      "424\n"
     ]
    }
   ],
   "source": [
    "#Creating Tuple Arr from all Posts\n",
    "tuple_arr = list(zip(labeled_df.content,labeled_df.sentiment))\n",
    "size = len(tuple_arr)\n",
    "halfway_pt = size/2\n",
    "\n",
    "print size\n",
    "\n",
    "train = tuple_arr[:halfway_pt]\n",
    "test = tuple_arr[halfway_pt:]\n",
    "print len(train)\n",
    "print len(test)"
   ]
  },
  {
   "cell_type": "code",
   "execution_count": 24,
   "metadata": {
    "collapsed": false
   },
   "outputs": [
    {
     "name": "stdout",
     "output_type": "stream",
     "text": [
      "491\n",
      "245\n",
      "246\n"
     ]
    }
   ],
   "source": [
    "#Creating Tuple Arr from Trump Posts\n",
    "trump_tuple_arr = list(zip(trump_df.content,trump_df.sentiment))\n",
    "size = len(trump_tuple_arr)\n",
    "halfway_pt = size/2\n",
    "\n",
    "print size\n",
    "\n",
    "trump_train = trump_tuple_arr[:halfway_pt]\n",
    "trump_test = trump_tuple_arr[halfway_pt:]\n",
    "print len(trump_train)\n",
    "print len(trump_test)"
   ]
  },
  {
   "cell_type": "code",
   "execution_count": 25,
   "metadata": {
    "collapsed": false
   },
   "outputs": [
    {
     "name": "stdout",
     "output_type": "stream",
     "text": [
      "188\n",
      "94\n",
      "94\n"
     ]
    }
   ],
   "source": [
    "#Creating Tuple Arr from Clinton Posts\n",
    "clinton_tuple_arr = list(zip(clinton_df.content,clinton_df.sentiment))\n",
    "size = len(clinton_tuple_arr)\n",
    "halfway_pt = size/2\n",
    "\n",
    "print size\n",
    "\n",
    "clinton_train = clinton_tuple_arr[:halfway_pt]\n",
    "clinton_test = clinton_tuple_arr[halfway_pt:]\n",
    "print len(clinton_train)\n",
    "print len(clinton_test)"
   ]
  },
  {
   "cell_type": "code",
   "execution_count": 26,
   "metadata": {
    "collapsed": false
   },
   "outputs": [
    {
     "name": "stdout",
     "output_type": "stream",
     "text": [
      "168\n",
      "84\n",
      "84\n"
     ]
    }
   ],
   "source": [
    "#Creating Tuple Arr from Other Posts\n",
    "other_tuple_arr = list(zip(other_df.content,other_df.sentiment))\n",
    "size = len(other_tuple_arr)\n",
    "halfway_pt = size/2\n",
    "\n",
    "print size\n",
    "\n",
    "other_train = other_tuple_arr[:halfway_pt]\n",
    "other_test = other_tuple_arr[halfway_pt:]\n",
    "print len(other_train)\n",
    "print len(other_test)"
   ]
  },
  {
   "cell_type": "code",
   "execution_count": 22,
   "metadata": {
    "collapsed": false
   },
   "outputs": [
    {
     "name": "stdout",
     "output_type": "stream",
     "text": [
      "Done Training Trump NLTK Classifier!\n"
     ]
    }
   ],
   "source": [
    "trump_nltk_classifier = NLTKClassifier(trump_train)\n",
    "print 'Done Training Trump NLTK Classifier!'"
   ]
  },
  {
   "cell_type": "code",
   "execution_count": 23,
   "metadata": {
    "collapsed": false
   },
   "outputs": [
    {
     "name": "stdout",
     "output_type": "stream",
     "text": [
      "Done Training Clinton NLTK Classifier!\n"
     ]
    }
   ],
   "source": [
    "clinton_nltk_classifier = NLTKClassifier(clinton_train)\n",
    "print 'Done Training Clinton NLTK Classifier!'"
   ]
  },
  {
   "cell_type": "code",
   "execution_count": 24,
   "metadata": {
    "collapsed": false
   },
   "outputs": [
    {
     "name": "stdout",
     "output_type": "stream",
     "text": [
      "Done Training Other NLTK Classifier!\n"
     ]
    }
   ],
   "source": [
    "other_nltk_classifier = NLTKClassifier(other_train)\n",
    "print 'Done Training Other NLTK Classifier!'"
   ]
  },
  {
   "cell_type": "code",
   "execution_count": 25,
   "metadata": {
    "collapsed": false
   },
   "outputs": [
    {
     "name": "stdout",
     "output_type": "stream",
     "text": [
      "Done Training Trump Naive Bayes Classifier!\n"
     ]
    }
   ],
   "source": [
    "trump_naivebayes_classifier = NaiveBayesClassifier(trump_train)\n",
    "print 'Done Training Trump Naive Bayes Classifier!'"
   ]
  },
  {
   "cell_type": "code",
   "execution_count": 26,
   "metadata": {
    "collapsed": false
   },
   "outputs": [
    {
     "name": "stdout",
     "output_type": "stream",
     "text": [
      "Done Training Clinton Naive Bayes Classifier!\n"
     ]
    }
   ],
   "source": [
    "clinton_naivebayes_classifier = NaiveBayesClassifier(clinton_train)\n",
    "print 'Done Training Clinton Naive Bayes Classifier!'"
   ]
  },
  {
   "cell_type": "code",
   "execution_count": 27,
   "metadata": {
    "collapsed": false
   },
   "outputs": [
    {
     "name": "stdout",
     "output_type": "stream",
     "text": [
      "Done Training Other Naive Bayes Classifier!\n"
     ]
    }
   ],
   "source": [
    "other_naivebayes_classifier = NaiveBayesClassifier(other_train)\n",
    "print 'Done Training Other Naive Bayes Classifier!'"
   ]
  },
  {
   "cell_type": "code",
   "execution_count": 28,
   "metadata": {
    "collapsed": false
   },
   "outputs": [
    {
     "name": "stdout",
     "output_type": "stream",
     "text": [
      "Done Training Trump Decision Tree Classifier!\n"
     ]
    }
   ],
   "source": [
    "trump_decisiontree_classifier = DecisionTreeClassifier(trump_train)\n",
    "print 'Done Training Trump Decision Tree Classifier!'"
   ]
  },
  {
   "cell_type": "code",
   "execution_count": 29,
   "metadata": {
    "collapsed": false
   },
   "outputs": [
    {
     "name": "stdout",
     "output_type": "stream",
     "text": [
      "Done Training Clinton Decision Tree Classifier!\n"
     ]
    }
   ],
   "source": [
    "clinton_decisiontree_classifier = DecisionTreeClassifier(clinton_train)\n",
    "print 'Done Training Clinton Decision Tree Classifier!'"
   ]
  },
  {
   "cell_type": "code",
   "execution_count": 30,
   "metadata": {
    "collapsed": false
   },
   "outputs": [
    {
     "name": "stdout",
     "output_type": "stream",
     "text": [
      "Done Training Other Decision Tree Classifier!\n"
     ]
    }
   ],
   "source": [
    "other_decisiontree_classifier = DecisionTreeClassifier(other_train)\n",
    "print 'Done Training Other Decision Tree Classifier!'"
   ]
  },
  {
   "cell_type": "code",
   "execution_count": 31,
   "metadata": {
    "collapsed": false
   },
   "outputs": [],
   "source": [
    "#positivenaivebayes_classifier = PositiveNaiveBayesClassifier(trump_train)\n",
    "#print 'Done Training Positive Naive Bayes Classifier!'"
   ]
  },
  {
   "cell_type": "code",
   "execution_count": 32,
   "metadata": {
    "collapsed": false
   },
   "outputs": [
    {
     "name": "stdout",
     "output_type": "stream",
     "text": [
      "Done Training Trump Max Ent Classifier!\n"
     ]
    }
   ],
   "source": [
    "trump_maxent_classifier = MaxEntClassifier(trump_train)\n",
    "print 'Done Training Trump Max Ent Classifier!'"
   ]
  },
  {
   "cell_type": "code",
   "execution_count": 33,
   "metadata": {
    "collapsed": false
   },
   "outputs": [
    {
     "name": "stdout",
     "output_type": "stream",
     "text": [
      "Done Training Clinton Max Ent Classifier!\n"
     ]
    }
   ],
   "source": [
    "clinton_maxent_classifier = MaxEntClassifier(clinton_train)\n",
    "print 'Done Training Clinton Max Ent Classifier!'"
   ]
  },
  {
   "cell_type": "code",
   "execution_count": 34,
   "metadata": {
    "collapsed": false
   },
   "outputs": [
    {
     "name": "stdout",
     "output_type": "stream",
     "text": [
      "Done Training Other Max Ent Classifier!\n"
     ]
    }
   ],
   "source": [
    "other_maxent_classifier = MaxEntClassifier(other_train)\n",
    "print 'Done Training Other Max Ent Classifier!'"
   ]
  },
  {
   "cell_type": "code",
   "execution_count": 35,
   "metadata": {
    "collapsed": false
   },
   "outputs": [
    {
     "name": "stdout",
     "output_type": "stream",
     "text": [
      "Calculating Trump Accuracy\n",
      "  ==> Training (100 iterations)\n",
      "\n",
      "      Iteration    Log Likelihood    Accuracy\n",
      "      ---------------------------------------\n",
      "             1          -1.09861        0.278\n",
      "         Final               nan        0.278\n",
      "Calculating Clinton Accuracy\n",
      "  ==> Training (100 iterations)\n",
      "\n",
      "      Iteration    Log Likelihood    Accuracy\n",
      "      ---------------------------------------\n",
      "             1          -1.09861        0.447\n",
      "             2          -0.06331        0.989\n",
      "             3          -0.01710        0.989\n",
      "             4          -0.01179        0.989\n",
      "             5          -0.01091        0.989\n",
      "             6          -0.01074        0.989\n",
      "             7          -0.01071        0.989\n",
      "             8          -0.01070        0.989\n",
      "             9          -0.01070        0.989\n",
      "            10          -0.01070        0.989\n",
      "            11          -0.01070        0.989\n",
      "            12          -0.01070        0.989\n",
      "            13          -0.01070        0.989\n",
      "            14          -0.01070        0.989\n",
      "            15          -0.01070        0.989\n",
      "            16          -0.01070        0.989\n",
      "            17          -0.01070        0.989\n",
      "            18          -0.01070        0.989\n",
      "            19          -0.01070        0.989\n",
      "            20          -0.01070        0.989\n",
      "            21          -0.01070        0.989\n",
      "            22          -0.01070        0.989\n",
      "            23          -0.01070        0.989\n",
      "            24          -0.01070        0.989\n",
      "            25          -0.01070        0.989\n",
      "            26          -0.01070        0.989\n",
      "            27          -0.01070        0.989\n",
      "            28          -0.01070        0.989\n",
      "            29          -0.01070        0.989\n",
      "            30          -0.01070        0.989\n",
      "            31          -0.01070        0.989\n",
      "            32          -0.01070        0.989\n",
      "            33          -0.01070        0.989\n",
      "            34          -0.01070        0.989\n",
      "            35          -0.01070        0.989\n",
      "            36          -0.01070        0.989\n",
      "            37          -0.01070        0.989\n",
      "            38          -0.01070        0.989\n",
      "            39          -0.01070        0.989\n",
      "            40          -0.01070        0.989\n",
      "            41          -0.01070        0.989\n",
      "            42          -0.01070        0.989\n",
      "            43          -0.01070        0.989\n",
      "            44          -0.01070        0.989\n",
      "            45          -0.01070        0.989\n",
      "            46          -0.01070        0.989\n",
      "            47          -0.01070        0.989\n",
      "            48          -0.01070        0.989\n",
      "            49          -0.01070        0.989\n",
      "            50          -0.01070        0.989\n",
      "            51          -0.01070        0.989\n",
      "            52          -0.01070        0.989\n",
      "            53          -0.01070        0.989\n",
      "            54          -0.01070        0.989\n",
      "            55          -0.01070        0.989\n",
      "            56          -0.01070        0.989\n",
      "            57          -0.01070        0.989\n",
      "            58          -0.01070        0.989\n",
      "            59          -0.01070        0.989\n",
      "            60          -0.01070        0.989\n",
      "            61          -0.01070        0.989\n",
      "            62          -0.01070        0.989\n",
      "            63          -0.01070        0.989\n",
      "            64          -0.01070        0.989\n",
      "            65          -0.01070        0.989\n",
      "            66          -0.01070        0.989\n",
      "            67          -0.01070        0.989\n",
      "            68          -0.01070        0.989\n",
      "            69          -0.01070        0.989\n",
      "            70          -0.01070        0.989\n",
      "            71          -0.01070        0.989\n",
      "            72          -0.01070        0.989\n",
      "            73          -0.01070        0.989\n",
      "            74          -0.01070        0.989\n",
      "            75          -0.01070        0.989\n",
      "            76          -0.01070        0.989\n",
      "            77          -0.01070        0.989\n",
      "            78          -0.01070        0.989\n",
      "            79          -0.01070        0.989\n",
      "            80          -0.01070        0.989\n",
      "            81          -0.01070        0.989\n",
      "            82          -0.01070        0.989\n",
      "            83          -0.01070        0.989\n",
      "            84          -0.01070        0.989\n",
      "            85          -0.01070        0.989\n",
      "            86          -0.01070        0.989\n",
      "            87          -0.01070        0.989\n",
      "            88          -0.01070        0.989\n",
      "            89          -0.01070        0.989\n",
      "            90          -0.01070        0.989\n",
      "            91          -0.01070        0.989\n",
      "            92          -0.01070        0.989\n",
      "            93          -0.01070        0.989\n",
      "            94          -0.01070        0.989\n",
      "            95          -0.01070        0.989\n",
      "            96          -0.01070        0.989\n",
      "            97          -0.01070        0.989\n",
      "            98          -0.01070        0.989\n",
      "            99          -0.01070        0.989\n",
      "         Final          -0.01070        0.989\n",
      "Calculating Other Accuracy\n",
      "  ==> Training (100 iterations)\n",
      "\n",
      "      Iteration    Log Likelihood    Accuracy\n",
      "      ---------------------------------------\n",
      "             1          -1.09861        0.286\n",
      "             2          -0.09205        1.000\n",
      "             3          -0.02423        1.000\n",
      "             4          -0.01154        1.000\n",
      "             5          -0.00671        1.000\n",
      "             6          -0.00421        1.000\n",
      "             7          -0.00274        1.000\n",
      "             8          -0.00180        1.000\n",
      "             9          -0.00119        1.000\n",
      "            10          -0.00079        1.000\n",
      "            11          -0.00052        1.000\n",
      "            12          -0.00035        1.000\n",
      "            13          -0.00023        1.000\n",
      "            14          -0.00015        1.000\n",
      "            15          -0.00010        1.000\n",
      "            16          -0.00007        1.000\n",
      "            17          -0.00004        1.000\n",
      "            18          -0.00003        1.000\n",
      "            19          -0.00002        1.000\n",
      "            20          -0.00001        1.000\n",
      "            21          -0.00001        1.000\n",
      "            22          -0.00001        1.000\n",
      "            23          -0.00000        1.000\n",
      "            24          -0.00000        1.000\n",
      "            25          -0.00000        1.000\n",
      "            26          -0.00000        1.000\n",
      "            27          -0.00000        1.000\n",
      "            28          -0.00000        1.000\n",
      "            29          -0.00000        1.000\n",
      "            30          -0.00000        1.000\n",
      "            31          -0.00000        1.000\n",
      "            32          -0.00000        1.000\n",
      "            33          -0.00000        1.000\n",
      "            34          -0.00000        1.000\n",
      "            35          -0.00000        1.000\n",
      "            36          -0.00000        1.000\n",
      "            37          -0.00000        1.000\n",
      "            38          -0.00000        1.000\n",
      "            39          -0.00000        1.000\n",
      "            40          -0.00000        1.000\n",
      "            41          -0.00000        1.000\n",
      "            42          -0.00000        1.000\n",
      "            43          -0.00000        1.000\n",
      "            44          -0.00000        1.000\n",
      "            45          -0.00000        1.000\n",
      "            46          -0.00000        1.000\n",
      "            47          -0.00000        1.000\n",
      "            48          -0.00000        1.000\n",
      "            49          -0.00000        1.000\n",
      "            50          -0.00000        1.000\n",
      "            51          -0.00000        1.000\n",
      "            52          -0.00000        1.000\n",
      "            53          -0.00000        1.000\n",
      "            54          -0.00000        1.000\n",
      "            55          -0.00000        1.000\n",
      "            56          -0.00000        1.000\n",
      "            57          -0.00000        1.000\n",
      "            58          -0.00000        1.000\n",
      "            59          -0.00000        1.000\n",
      "            60          -0.00000        1.000\n",
      "            61          -0.00000        1.000\n",
      "            62          -0.00000        1.000\n",
      "            63          -0.00000        1.000\n",
      "            64          -0.00000        1.000\n",
      "            65          -0.00000        1.000\n",
      "            66          -0.00000        1.000\n",
      "            67          -0.00000        1.000\n",
      "            68           0.00000        1.000\n",
      "            69           0.00000        1.000\n",
      "            70           0.00000        1.000\n",
      "            71           0.00000        1.000\n",
      "            72           0.00000        1.000\n",
      "            73           0.00000        1.000\n",
      "            74           0.00000        1.000\n",
      "            75           0.00000        1.000\n",
      "            76           0.00000        1.000\n",
      "            77           0.00000        1.000\n",
      "            78           0.00000        1.000\n",
      "            79           0.00000        1.000\n",
      "            80           0.00000        1.000\n",
      "            81           0.00000        1.000\n",
      "            82           0.00000        1.000\n",
      "            83           0.00000        1.000\n",
      "            84           0.00000        1.000\n",
      "            85           0.00000        1.000\n",
      "            86           0.00000        1.000\n",
      "            87           0.00000        1.000\n",
      "            88           0.00000        1.000\n",
      "            89           0.00000        1.000\n",
      "            90           0.00000        1.000\n",
      "            91           0.00000        1.000\n",
      "            92           0.00000        1.000\n",
      "            93           0.00000        1.000\n",
      "            94           0.00000        1.000\n",
      "            95           0.00000        1.000\n",
      "            96           0.00000        1.000\n",
      "            97           0.00000        1.000\n",
      "            98           0.00000        1.000\n",
      "            99           0.00000        1.000\n",
      "         Final           0.00000        1.000\n"
     ]
    }
   ],
   "source": [
    "print \"Calculating Trump Accuracy\"\n",
    "#nltk_classifier_accuracy = nltk_classifier.accuracy(test)\n",
    "trump_naivebayes_classifier_accuracy = trump_naivebayes_classifier.accuracy(trump_test)\n",
    "trump_decisiontree_classifier_accuracy = trump_decisiontree_classifier.accuracy(trump_test)\n",
    "#positivenaivebayes_classifier_accuracy = positivenaivebayes_classifier.accuracy(test)\n",
    "trump_maxent_classifier_accuracy = trump_maxent_classifier.accuracy(trump_test)\n",
    "\n",
    "print \"Calculating Clinton Accuracy\"\n",
    "#nltk_classifier_accuracy = nltk_classifier.accuracy(test)\n",
    "clinton_naivebayes_classifier_accuracy = clinton_naivebayes_classifier.accuracy(clinton_test)\n",
    "clinton_decisiontree_classifier_accuracy = clinton_decisiontree_classifier.accuracy(clinton_test)\n",
    "#positivenaivebayes_classifier_accuracy = positivenaivebayes_classifier.accuracy(test)\n",
    "clinton_maxent_classifier_accuracy = clinton_maxent_classifier.accuracy(clinton_test)\n",
    "\n",
    "print \"Calculating Other Accuracy\"\n",
    "#nltk_classifier_accuracy = nltk_classifier.accuracy(test)\n",
    "other_naivebayes_classifier_accuracy = other_naivebayes_classifier.accuracy(other_test)\n",
    "other_decisiontree_classifier_accuracy = other_decisiontree_classifier.accuracy(other_test)\n",
    "#positivenaivebayes_classifier_accuracy = positivenaivebayes_classifier.accuracy(test)\n",
    "other_maxent_classifier_accuracy = other_maxent_classifier.accuracy(other_test)"
   ]
  },
  {
   "cell_type": "code",
   "execution_count": 36,
   "metadata": {
    "collapsed": false
   },
   "outputs": [
    {
     "name": "stdout",
     "output_type": "stream",
     "text": [
      "Trump Accuracy:\n",
      "Naive Bayes Accuracy:  0.467479674797\n",
      "Decision Tree Accuracy:  0.382113821138\n",
      "Maxent Accuracy:  0.284552845528\n",
      "Clinton Accuracy:\n",
      "Naive Bayes Accuracy:  0.5\n",
      "Decision Tree Accuracy:  0.5\n",
      "Maxent Accuracy:  0.468085106383\n",
      "Other Accuracy:\n",
      "Naive Bayes Accuracy:  0.559523809524\n",
      "Decision Tree Accuracy:  0.5\n",
      "Maxent Accuracy:  0.571428571429\n"
     ]
    }
   ],
   "source": [
    "print \"Trump Accuracy:\"\n",
    "#print \"NLTK Accuracy: \", nltk_classifier_accuracy\n",
    "print \"Naive Bayes Accuracy: \", trump_naivebayes_classifier_accuracy\n",
    "print \"Decision Tree Accuracy: \", trump_decisiontree_classifier_accuracy\n",
    "#print \"Positive Naive Bayes Accuracy: \", positivenaivebayes_classifier_accuracy\n",
    "print \"Maxent Accuracy: \", trump_maxent_classifier_accuracy\n",
    "\n",
    "print \"Clinton Accuracy:\"\n",
    "#print \"NLTK Accuracy: \", nltk_classifier_accuracy\n",
    "print \"Naive Bayes Accuracy: \", clinton_naivebayes_classifier_accuracy\n",
    "print \"Decision Tree Accuracy: \", clinton_decisiontree_classifier_accuracy\n",
    "#print \"Positive Naive Bayes Accuracy: \", positivenaivebayes_classifier_accuracy\n",
    "print \"Maxent Accuracy: \", clinton_maxent_classifier_accuracy\n",
    "\n",
    "print \"Other Accuracy:\"\n",
    "#print \"NLTK Accuracy: \", nltk_classifier_accuracy\n",
    "print \"Naive Bayes Accuracy: \", other_naivebayes_classifier_accuracy\n",
    "print \"Decision Tree Accuracy: \", other_decisiontree_classifier_accuracy\n",
    "#print \"Positive Naive Bayes Accuracy: \", positivenaivebayes_classifier_accuracy\n",
    "print \"Maxent Accuracy: \", other_maxent_classifier_accuracy"
   ]
  },
  {
   "cell_type": "code",
   "execution_count": null,
   "metadata": {
    "collapsed": true
   },
   "outputs": [],
   "source": []
  }
 ],
 "metadata": {
  "anaconda-cloud": {},
  "kernelspec": {
   "display_name": "Python [conda root]",
   "language": "python",
   "name": "conda-root-py"
  },
  "language_info": {
   "codemirror_mode": {
    "name": "ipython",
    "version": 2
   },
   "file_extension": ".py",
   "mimetype": "text/x-python",
   "name": "python",
   "nbconvert_exporter": "python",
   "pygments_lexer": "ipython2",
   "version": "2.7.12"
  }
 },
 "nbformat": 4,
 "nbformat_minor": 1
}
