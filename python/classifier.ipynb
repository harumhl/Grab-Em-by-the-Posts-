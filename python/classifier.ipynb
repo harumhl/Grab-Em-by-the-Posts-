{
 "cells": [
  {
   "cell_type": "code",
   "execution_count": 219,
   "metadata": {
    "collapsed": false
   },
   "outputs": [],
   "source": [
    "from textblob.classifiers import NLTKClassifier,NaiveBayesClassifier,DecisionTreeClassifier,PositiveNaiveBayesClassifier,MaxEntClassifier\n",
    "import pandas as pd\n",
    "import re\n",
    "\n",
    "path = '/Users/Jared/Documents/CSCE489/489Project/Turk/'"
   ]
  },
  {
   "cell_type": "code",
   "execution_count": 220,
   "metadata": {
    "collapsed": false
   },
   "outputs": [
    {
     "data": {
      "text/html": [
       "<div>\n",
       "<table border=\"1\" class=\"dataframe\">\n",
       "  <thead>\n",
       "    <tr style=\"text-align: right;\">\n",
       "      <th></th>\n",
       "      <th>HITId</th>\n",
       "      <th>HITTypeId</th>\n",
       "      <th>Title</th>\n",
       "      <th>Description</th>\n",
       "      <th>Keywords</th>\n",
       "      <th>Reward</th>\n",
       "      <th>CreationTime</th>\n",
       "      <th>MaxAssignments</th>\n",
       "      <th>RequesterAnnotation</th>\n",
       "      <th>AssignmentDurationInSeconds</th>\n",
       "      <th>...</th>\n",
       "      <th>RequesterFeedback</th>\n",
       "      <th>WorkTimeInSeconds</th>\n",
       "      <th>LifetimeApprovalRate</th>\n",
       "      <th>Last30DaysApprovalRate</th>\n",
       "      <th>Last7DaysApprovalRate</th>\n",
       "      <th>Input.status_id</th>\n",
       "      <th>Input.content</th>\n",
       "      <th>Answer.sentiment</th>\n",
       "      <th>Approve</th>\n",
       "      <th>Reject</th>\n",
       "    </tr>\n",
       "  </thead>\n",
       "  <tbody>\n",
       "    <tr>\n",
       "      <th>0</th>\n",
       "      <td>301KG0KX9CFC0MHLW3ECT80VTS3H2D</td>\n",
       "      <td>3WROYBU7BMMRCGD41SQ9YGNC31GDCO</td>\n",
       "      <td>Preseidential Election Sentiment Analysis</td>\n",
       "      <td>Analyze the sentiment of the provided Facebook...</td>\n",
       "      <td>sentiment election Donald Trump Hilary Clinton...</td>\n",
       "      <td>$0.02</td>\n",
       "      <td>Wed Nov 23 21:44:16 PST 2016</td>\n",
       "      <td>3</td>\n",
       "      <td>BatchId:2606965;</td>\n",
       "      <td>172800</td>\n",
       "      <td>...</td>\n",
       "      <td>NaN</td>\n",
       "      <td>3</td>\n",
       "      <td>100% (143/143)</td>\n",
       "      <td>100% (143/143)</td>\n",
       "      <td>100% (143/143)</td>\n",
       "      <td>13652355666_10154036300320667</td>\n",
       "      <td>Thousands of demonstrators filled the streets ...</td>\n",
       "      <td>Positive</td>\n",
       "      <td>NaN</td>\n",
       "      <td>NaN</td>\n",
       "    </tr>\n",
       "    <tr>\n",
       "      <th>1</th>\n",
       "      <td>301KG0KX9CFC0MHLW3ECT80VTS3H2D</td>\n",
       "      <td>3WROYBU7BMMRCGD41SQ9YGNC31GDCO</td>\n",
       "      <td>Preseidential Election Sentiment Analysis</td>\n",
       "      <td>Analyze the sentiment of the provided Facebook...</td>\n",
       "      <td>sentiment election Donald Trump Hilary Clinton...</td>\n",
       "      <td>$0.02</td>\n",
       "      <td>Wed Nov 23 21:44:16 PST 2016</td>\n",
       "      <td>3</td>\n",
       "      <td>BatchId:2606965;</td>\n",
       "      <td>172800</td>\n",
       "      <td>...</td>\n",
       "      <td>NaN</td>\n",
       "      <td>3</td>\n",
       "      <td>100% (349/349)</td>\n",
       "      <td>100% (349/349)</td>\n",
       "      <td>100% (349/349)</td>\n",
       "      <td>13652355666_10154036300320667</td>\n",
       "      <td>Thousands of demonstrators filled the streets ...</td>\n",
       "      <td>Positive</td>\n",
       "      <td>NaN</td>\n",
       "      <td>NaN</td>\n",
       "    </tr>\n",
       "    <tr>\n",
       "      <th>2</th>\n",
       "      <td>301KG0KX9CFC0MHLW3ECT80VTS3H2D</td>\n",
       "      <td>3WROYBU7BMMRCGD41SQ9YGNC31GDCO</td>\n",
       "      <td>Preseidential Election Sentiment Analysis</td>\n",
       "      <td>Analyze the sentiment of the provided Facebook...</td>\n",
       "      <td>sentiment election Donald Trump Hilary Clinton...</td>\n",
       "      <td>$0.02</td>\n",
       "      <td>Wed Nov 23 21:44:16 PST 2016</td>\n",
       "      <td>3</td>\n",
       "      <td>BatchId:2606965;</td>\n",
       "      <td>172800</td>\n",
       "      <td>...</td>\n",
       "      <td>NaN</td>\n",
       "      <td>7</td>\n",
       "      <td>100% (132/132)</td>\n",
       "      <td>100% (132/132)</td>\n",
       "      <td>100% (132/132)</td>\n",
       "      <td>13652355666_10154036300320667</td>\n",
       "      <td>Thousands of demonstrators filled the streets ...</td>\n",
       "      <td>Neutral</td>\n",
       "      <td>NaN</td>\n",
       "      <td>NaN</td>\n",
       "    </tr>\n",
       "    <tr>\n",
       "      <th>3</th>\n",
       "      <td>301KG0KX9CFC0MHLW3ECT80VTS42HZ</td>\n",
       "      <td>3WROYBU7BMMRCGD41SQ9YGNC31GDCO</td>\n",
       "      <td>Preseidential Election Sentiment Analysis</td>\n",
       "      <td>Analyze the sentiment of the provided Facebook...</td>\n",
       "      <td>sentiment election Donald Trump Hilary Clinton...</td>\n",
       "      <td>$0.02</td>\n",
       "      <td>Wed Nov 23 21:44:36 PST 2016</td>\n",
       "      <td>3</td>\n",
       "      <td>BatchId:2606965;</td>\n",
       "      <td>172800</td>\n",
       "      <td>...</td>\n",
       "      <td>NaN</td>\n",
       "      <td>51</td>\n",
       "      <td>100% (147/147)</td>\n",
       "      <td>100% (147/147)</td>\n",
       "      <td>100% (147/147)</td>\n",
       "      <td>131459315949_10154056577745950</td>\n",
       "      <td>From Barack Obama's 2003 Senate campaign to Hi...</td>\n",
       "      <td>Positive</td>\n",
       "      <td>NaN</td>\n",
       "      <td>NaN</td>\n",
       "    </tr>\n",
       "    <tr>\n",
       "      <th>4</th>\n",
       "      <td>301KG0KX9CFC0MHLW3ECT80VTS42HZ</td>\n",
       "      <td>3WROYBU7BMMRCGD41SQ9YGNC31GDCO</td>\n",
       "      <td>Preseidential Election Sentiment Analysis</td>\n",
       "      <td>Analyze the sentiment of the provided Facebook...</td>\n",
       "      <td>sentiment election Donald Trump Hilary Clinton...</td>\n",
       "      <td>$0.02</td>\n",
       "      <td>Wed Nov 23 21:44:36 PST 2016</td>\n",
       "      <td>3</td>\n",
       "      <td>BatchId:2606965;</td>\n",
       "      <td>172800</td>\n",
       "      <td>...</td>\n",
       "      <td>NaN</td>\n",
       "      <td>3</td>\n",
       "      <td>100% (99/99)</td>\n",
       "      <td>100% (99/99)</td>\n",
       "      <td>100% (99/99)</td>\n",
       "      <td>131459315949_10154056577745950</td>\n",
       "      <td>From Barack Obama's 2003 Senate campaign to Hi...</td>\n",
       "      <td>Neutral</td>\n",
       "      <td>NaN</td>\n",
       "      <td>NaN</td>\n",
       "    </tr>\n",
       "  </tbody>\n",
       "</table>\n",
       "<p>5 rows × 32 columns</p>\n",
       "</div>"
      ],
      "text/plain": [
       "                            HITId                       HITTypeId  \\\n",
       "0  301KG0KX9CFC0MHLW3ECT80VTS3H2D  3WROYBU7BMMRCGD41SQ9YGNC31GDCO   \n",
       "1  301KG0KX9CFC0MHLW3ECT80VTS3H2D  3WROYBU7BMMRCGD41SQ9YGNC31GDCO   \n",
       "2  301KG0KX9CFC0MHLW3ECT80VTS3H2D  3WROYBU7BMMRCGD41SQ9YGNC31GDCO   \n",
       "3  301KG0KX9CFC0MHLW3ECT80VTS42HZ  3WROYBU7BMMRCGD41SQ9YGNC31GDCO   \n",
       "4  301KG0KX9CFC0MHLW3ECT80VTS42HZ  3WROYBU7BMMRCGD41SQ9YGNC31GDCO   \n",
       "\n",
       "                                       Title  \\\n",
       "0  Preseidential Election Sentiment Analysis   \n",
       "1  Preseidential Election Sentiment Analysis   \n",
       "2  Preseidential Election Sentiment Analysis   \n",
       "3  Preseidential Election Sentiment Analysis   \n",
       "4  Preseidential Election Sentiment Analysis   \n",
       "\n",
       "                                         Description  \\\n",
       "0  Analyze the sentiment of the provided Facebook...   \n",
       "1  Analyze the sentiment of the provided Facebook...   \n",
       "2  Analyze the sentiment of the provided Facebook...   \n",
       "3  Analyze the sentiment of the provided Facebook...   \n",
       "4  Analyze the sentiment of the provided Facebook...   \n",
       "\n",
       "                                            Keywords Reward  \\\n",
       "0  sentiment election Donald Trump Hilary Clinton...  $0.02   \n",
       "1  sentiment election Donald Trump Hilary Clinton...  $0.02   \n",
       "2  sentiment election Donald Trump Hilary Clinton...  $0.02   \n",
       "3  sentiment election Donald Trump Hilary Clinton...  $0.02   \n",
       "4  sentiment election Donald Trump Hilary Clinton...  $0.02   \n",
       "\n",
       "                   CreationTime  MaxAssignments RequesterAnnotation  \\\n",
       "0  Wed Nov 23 21:44:16 PST 2016               3    BatchId:2606965;   \n",
       "1  Wed Nov 23 21:44:16 PST 2016               3    BatchId:2606965;   \n",
       "2  Wed Nov 23 21:44:16 PST 2016               3    BatchId:2606965;   \n",
       "3  Wed Nov 23 21:44:36 PST 2016               3    BatchId:2606965;   \n",
       "4  Wed Nov 23 21:44:36 PST 2016               3    BatchId:2606965;   \n",
       "\n",
       "   AssignmentDurationInSeconds  ...    RequesterFeedback WorkTimeInSeconds  \\\n",
       "0                       172800  ...                  NaN                 3   \n",
       "1                       172800  ...                  NaN                 3   \n",
       "2                       172800  ...                  NaN                 7   \n",
       "3                       172800  ...                  NaN                51   \n",
       "4                       172800  ...                  NaN                 3   \n",
       "\n",
       "   LifetimeApprovalRate  Last30DaysApprovalRate Last7DaysApprovalRate  \\\n",
       "0        100% (143/143)          100% (143/143)        100% (143/143)   \n",
       "1        100% (349/349)          100% (349/349)        100% (349/349)   \n",
       "2        100% (132/132)          100% (132/132)        100% (132/132)   \n",
       "3        100% (147/147)          100% (147/147)        100% (147/147)   \n",
       "4          100% (99/99)            100% (99/99)          100% (99/99)   \n",
       "\n",
       "                  Input.status_id  \\\n",
       "0   13652355666_10154036300320667   \n",
       "1   13652355666_10154036300320667   \n",
       "2   13652355666_10154036300320667   \n",
       "3  131459315949_10154056577745950   \n",
       "4  131459315949_10154056577745950   \n",
       "\n",
       "                                       Input.content Answer.sentiment Approve  \\\n",
       "0  Thousands of demonstrators filled the streets ...         Positive     NaN   \n",
       "1  Thousands of demonstrators filled the streets ...         Positive     NaN   \n",
       "2  Thousands of demonstrators filled the streets ...          Neutral     NaN   \n",
       "3  From Barack Obama's 2003 Senate campaign to Hi...         Positive     NaN   \n",
       "4  From Barack Obama's 2003 Senate campaign to Hi...          Neutral     NaN   \n",
       "\n",
       "  Reject  \n",
       "0    NaN  \n",
       "1    NaN  \n",
       "2    NaN  \n",
       "3    NaN  \n",
       "4    NaN  \n",
       "\n",
       "[5 rows x 32 columns]"
      ]
     },
     "execution_count": 220,
     "metadata": {},
     "output_type": "execute_result"
    }
   ],
   "source": [
    "turk_df = pd.read_csv(path + 'Batch_2606965_batch_results.csv') \n",
    "turk_df.head()"
   ]
  },
  {
   "cell_type": "code",
   "execution_count": 221,
   "metadata": {
    "collapsed": false
   },
   "outputs": [
    {
     "data": {
      "text/html": [
       "<div>\n",
       "<table border=\"1\" class=\"dataframe\">\n",
       "  <thead>\n",
       "    <tr style=\"text-align: right;\">\n",
       "      <th></th>\n",
       "      <th>status_id</th>\n",
       "      <th>content</th>\n",
       "      <th>sentiment</th>\n",
       "    </tr>\n",
       "  </thead>\n",
       "  <tbody>\n",
       "    <tr>\n",
       "      <th>0</th>\n",
       "      <td>13652355666_10154036300320667</td>\n",
       "      <td>Thousands of demonstrators filled the streets ...</td>\n",
       "      <td>Positive</td>\n",
       "    </tr>\n",
       "    <tr>\n",
       "      <th>1</th>\n",
       "      <td>13652355666_10154036300320667</td>\n",
       "      <td>Thousands of demonstrators filled the streets ...</td>\n",
       "      <td>Positive</td>\n",
       "    </tr>\n",
       "    <tr>\n",
       "      <th>2</th>\n",
       "      <td>13652355666_10154036300320667</td>\n",
       "      <td>Thousands of demonstrators filled the streets ...</td>\n",
       "      <td>Neutral</td>\n",
       "    </tr>\n",
       "    <tr>\n",
       "      <th>3</th>\n",
       "      <td>131459315949_10154056577745950</td>\n",
       "      <td>From Barack Obama's 2003 Senate campaign to Hi...</td>\n",
       "      <td>Positive</td>\n",
       "    </tr>\n",
       "    <tr>\n",
       "      <th>4</th>\n",
       "      <td>131459315949_10154056577745950</td>\n",
       "      <td>From Barack Obama's 2003 Senate campaign to Hi...</td>\n",
       "      <td>Neutral</td>\n",
       "    </tr>\n",
       "  </tbody>\n",
       "</table>\n",
       "</div>"
      ],
      "text/plain": [
       "                        status_id  \\\n",
       "0   13652355666_10154036300320667   \n",
       "1   13652355666_10154036300320667   \n",
       "2   13652355666_10154036300320667   \n",
       "3  131459315949_10154056577745950   \n",
       "4  131459315949_10154056577745950   \n",
       "\n",
       "                                             content sentiment  \n",
       "0  Thousands of demonstrators filled the streets ...  Positive  \n",
       "1  Thousands of demonstrators filled the streets ...  Positive  \n",
       "2  Thousands of demonstrators filled the streets ...   Neutral  \n",
       "3  From Barack Obama's 2003 Senate campaign to Hi...  Positive  \n",
       "4  From Barack Obama's 2003 Senate campaign to Hi...   Neutral  "
      ]
     },
     "execution_count": 221,
     "metadata": {},
     "output_type": "execute_result"
    }
   ],
   "source": [
    "relevant_df = turk_df[['Input.status_id','Input.content','Answer.sentiment']]\n",
    "relevant_df.columns = ['status_id','content','sentiment']\n",
    "relevant_df.head()"
   ]
  },
  {
   "cell_type": "code",
   "execution_count": 222,
   "metadata": {
    "collapsed": false
   },
   "outputs": [],
   "source": [
    "df1 = relevant_df[['status_id','content']]\n",
    "df2 = relevant_df[['status_id','sentiment']]"
   ]
  },
  {
   "cell_type": "code",
   "execution_count": 223,
   "metadata": {
    "collapsed": true
   },
   "outputs": [],
   "source": [
    "def remove_non_ascii(text):\n",
    "    return re.sub(r'[^\\x00-\\x7F]',' ', text)"
   ]
  },
  {
   "cell_type": "code",
   "execution_count": 224,
   "metadata": {
    "collapsed": false
   },
   "outputs": [
    {
     "data": {
      "text/html": [
       "<div>\n",
       "<table border=\"1\" class=\"dataframe\">\n",
       "  <thead>\n",
       "    <tr style=\"text-align: right;\">\n",
       "      <th></th>\n",
       "      <th>content</th>\n",
       "    </tr>\n",
       "    <tr>\n",
       "      <th>status_id</th>\n",
       "      <th></th>\n",
       "    </tr>\n",
       "  </thead>\n",
       "  <tbody>\n",
       "    <tr>\n",
       "      <th>131459315949_10152751596575950</th>\n",
       "      <td>One opinion: \"Hillary Clinton won because all ...</td>\n",
       "    </tr>\n",
       "    <tr>\n",
       "      <th>131459315949_10152753624975950</th>\n",
       "      <td>Second fiddle to Hillary Clinton in the debate...</td>\n",
       "    </tr>\n",
       "    <tr>\n",
       "      <th>131459315949_10152754227800950</th>\n",
       "      <td>Donald J. Trump may not attend the next Republ...</td>\n",
       "    </tr>\n",
       "    <tr>\n",
       "      <th>131459315949_10152758428025950</th>\n",
       "      <td>Conservatives have criticized Donald J. Trump ...</td>\n",
       "    </tr>\n",
       "    <tr>\n",
       "      <th>131459315949_10152766742570950</th>\n",
       "      <td>Hillary Clinton has promised to take on the Na...</td>\n",
       "    </tr>\n",
       "  </tbody>\n",
       "</table>\n",
       "</div>"
      ],
      "text/plain": [
       "                                                                          content\n",
       "status_id                                                                        \n",
       "131459315949_10152751596575950  One opinion: \"Hillary Clinton won because all ...\n",
       "131459315949_10152753624975950  Second fiddle to Hillary Clinton in the debate...\n",
       "131459315949_10152754227800950  Donald J. Trump may not attend the next Republ...\n",
       "131459315949_10152758428025950  Conservatives have criticized Donald J. Trump ...\n",
       "131459315949_10152766742570950  Hillary Clinton has promised to take on the Na..."
      ]
     },
     "execution_count": 224,
     "metadata": {},
     "output_type": "execute_result"
    }
   ],
   "source": [
    "df1 = df1.groupby(df1.status_id).first()\n",
    "#df1.index.name = None\n",
    "df1.head()"
   ]
  },
  {
   "cell_type": "code",
   "execution_count": 225,
   "metadata": {
    "collapsed": false
   },
   "outputs": [
    {
     "data": {
      "text/html": [
       "<div>\n",
       "<table border=\"1\" class=\"dataframe\">\n",
       "  <thead>\n",
       "    <tr style=\"text-align: right;\">\n",
       "      <th></th>\n",
       "      <th>content</th>\n",
       "    </tr>\n",
       "    <tr>\n",
       "      <th>status_id</th>\n",
       "      <th></th>\n",
       "    </tr>\n",
       "  </thead>\n",
       "  <tbody>\n",
       "    <tr>\n",
       "      <th>131459315949_10152751596575950</th>\n",
       "      <td>One opinion: \"Hillary Clinton won because all ...</td>\n",
       "    </tr>\n",
       "    <tr>\n",
       "      <th>131459315949_10152753624975950</th>\n",
       "      <td>Second fiddle to Hillary Clinton in the debate...</td>\n",
       "    </tr>\n",
       "    <tr>\n",
       "      <th>131459315949_10152754227800950</th>\n",
       "      <td>Donald J. Trump may not attend the next Republ...</td>\n",
       "    </tr>\n",
       "    <tr>\n",
       "      <th>131459315949_10152758428025950</th>\n",
       "      <td>Conservatives have criticized Donald J. Trump ...</td>\n",
       "    </tr>\n",
       "    <tr>\n",
       "      <th>131459315949_10152766742570950</th>\n",
       "      <td>Hillary Clinton has promised to take on the Na...</td>\n",
       "    </tr>\n",
       "  </tbody>\n",
       "</table>\n",
       "</div>"
      ],
      "text/plain": [
       "                                                                          content\n",
       "status_id                                                                        \n",
       "131459315949_10152751596575950  One opinion: \"Hillary Clinton won because all ...\n",
       "131459315949_10152753624975950  Second fiddle to Hillary Clinton in the debate...\n",
       "131459315949_10152754227800950  Donald J. Trump may not attend the next Republ...\n",
       "131459315949_10152758428025950  Conservatives have criticized Donald J. Trump ...\n",
       "131459315949_10152766742570950  Hillary Clinton has promised to take on the Na..."
      ]
     },
     "execution_count": 225,
     "metadata": {},
     "output_type": "execute_result"
    }
   ],
   "source": [
    "df1['content'] = df1.content.apply(remove_non_ascii)\n",
    "df1.head()"
   ]
  },
  {
   "cell_type": "code",
   "execution_count": 226,
   "metadata": {
    "collapsed": false
   },
   "outputs": [],
   "source": [
    "def choose_sentiment(label):\n",
    "    if label.count('Positive') >= 2:\n",
    "        return 'Positive'\n",
    "    elif label.count('Neutral') >= 2:\n",
    "        return 'Neutral'\n",
    "    elif label.count('Negative') >= 2:\n",
    "        return 'Negative'\n",
    "    else:\n",
    "        return 'Inconclusive'"
   ]
  },
  {
   "cell_type": "code",
   "execution_count": 227,
   "metadata": {
    "collapsed": false
   },
   "outputs": [
    {
     "data": {
      "text/html": [
       "<div>\n",
       "<table border=\"1\" class=\"dataframe\">\n",
       "  <thead>\n",
       "    <tr style=\"text-align: right;\">\n",
       "      <th></th>\n",
       "      <th>sentiment</th>\n",
       "    </tr>\n",
       "    <tr>\n",
       "      <th>status_id</th>\n",
       "      <th></th>\n",
       "    </tr>\n",
       "  </thead>\n",
       "  <tbody>\n",
       "    <tr>\n",
       "      <th>131459315949_10152751596575950</th>\n",
       "      <td>NeutralNegativeNegative</td>\n",
       "    </tr>\n",
       "    <tr>\n",
       "      <th>131459315949_10152753624975950</th>\n",
       "      <td>NeutralPositiveNegative</td>\n",
       "    </tr>\n",
       "    <tr>\n",
       "      <th>131459315949_10152754227800950</th>\n",
       "      <td>PositiveNeutralNeutral</td>\n",
       "    </tr>\n",
       "    <tr>\n",
       "      <th>131459315949_10152758428025950</th>\n",
       "      <td>NegativeNegativeNeutral</td>\n",
       "    </tr>\n",
       "    <tr>\n",
       "      <th>131459315949_10152766742570950</th>\n",
       "      <td>NeutralNegativeNeutral</td>\n",
       "    </tr>\n",
       "  </tbody>\n",
       "</table>\n",
       "</div>"
      ],
      "text/plain": [
       "                                              sentiment\n",
       "status_id                                              \n",
       "131459315949_10152751596575950  NeutralNegativeNegative\n",
       "131459315949_10152753624975950  NeutralPositiveNegative\n",
       "131459315949_10152754227800950   PositiveNeutralNeutral\n",
       "131459315949_10152758428025950  NegativeNegativeNeutral\n",
       "131459315949_10152766742570950   NeutralNegativeNeutral"
      ]
     },
     "execution_count": 227,
     "metadata": {},
     "output_type": "execute_result"
    }
   ],
   "source": [
    "df2 = df2.groupby(df2.status_id).sum()\n",
    "df2.head()"
   ]
  },
  {
   "cell_type": "code",
   "execution_count": 228,
   "metadata": {
    "collapsed": false
   },
   "outputs": [
    {
     "data": {
      "text/html": [
       "<div>\n",
       "<table border=\"1\" class=\"dataframe\">\n",
       "  <thead>\n",
       "    <tr style=\"text-align: right;\">\n",
       "      <th></th>\n",
       "      <th>sentiment</th>\n",
       "    </tr>\n",
       "    <tr>\n",
       "      <th>status_id</th>\n",
       "      <th></th>\n",
       "    </tr>\n",
       "  </thead>\n",
       "  <tbody>\n",
       "    <tr>\n",
       "      <th>131459315949_10152751596575950</th>\n",
       "      <td>Negative</td>\n",
       "    </tr>\n",
       "    <tr>\n",
       "      <th>131459315949_10152753624975950</th>\n",
       "      <td>Inconclusive</td>\n",
       "    </tr>\n",
       "    <tr>\n",
       "      <th>131459315949_10152754227800950</th>\n",
       "      <td>Neutral</td>\n",
       "    </tr>\n",
       "    <tr>\n",
       "      <th>131459315949_10152758428025950</th>\n",
       "      <td>Negative</td>\n",
       "    </tr>\n",
       "    <tr>\n",
       "      <th>131459315949_10152766742570950</th>\n",
       "      <td>Neutral</td>\n",
       "    </tr>\n",
       "  </tbody>\n",
       "</table>\n",
       "</div>"
      ],
      "text/plain": [
       "                                   sentiment\n",
       "status_id                                   \n",
       "131459315949_10152751596575950      Negative\n",
       "131459315949_10152753624975950  Inconclusive\n",
       "131459315949_10152754227800950       Neutral\n",
       "131459315949_10152758428025950      Negative\n",
       "131459315949_10152766742570950       Neutral"
      ]
     },
     "execution_count": 228,
     "metadata": {},
     "output_type": "execute_result"
    }
   ],
   "source": [
    "df2['sentiment'] = df2.sentiment.apply(choose_sentiment)\n",
    "df2.head()"
   ]
  },
  {
   "cell_type": "code",
   "execution_count": 229,
   "metadata": {
    "collapsed": false
   },
   "outputs": [
    {
     "data": {
      "text/html": [
       "<div>\n",
       "<table border=\"1\" class=\"dataframe\">\n",
       "  <thead>\n",
       "    <tr style=\"text-align: right;\">\n",
       "      <th></th>\n",
       "      <th>sentiment</th>\n",
       "    </tr>\n",
       "    <tr>\n",
       "      <th>status_id</th>\n",
       "      <th></th>\n",
       "    </tr>\n",
       "  </thead>\n",
       "  <tbody>\n",
       "    <tr>\n",
       "      <th>131459315949_10152751596575950</th>\n",
       "      <td>Negative</td>\n",
       "    </tr>\n",
       "    <tr>\n",
       "      <th>131459315949_10152754227800950</th>\n",
       "      <td>Neutral</td>\n",
       "    </tr>\n",
       "    <tr>\n",
       "      <th>131459315949_10152758428025950</th>\n",
       "      <td>Negative</td>\n",
       "    </tr>\n",
       "    <tr>\n",
       "      <th>131459315949_10152766742570950</th>\n",
       "      <td>Neutral</td>\n",
       "    </tr>\n",
       "    <tr>\n",
       "      <th>131459315949_10152791196665950</th>\n",
       "      <td>Positive</td>\n",
       "    </tr>\n",
       "  </tbody>\n",
       "</table>\n",
       "</div>"
      ],
      "text/plain": [
       "                               sentiment\n",
       "status_id                               \n",
       "131459315949_10152751596575950  Negative\n",
       "131459315949_10152754227800950   Neutral\n",
       "131459315949_10152758428025950  Negative\n",
       "131459315949_10152766742570950   Neutral\n",
       "131459315949_10152791196665950  Positive"
      ]
     },
     "execution_count": 229,
     "metadata": {},
     "output_type": "execute_result"
    }
   ],
   "source": [
    "df2 = df2[df2.sentiment != 'Inconclusive']\n",
    "df2.head()"
   ]
  },
  {
   "cell_type": "code",
   "execution_count": 230,
   "metadata": {
    "collapsed": false
   },
   "outputs": [
    {
     "data": {
      "text/html": [
       "<div>\n",
       "<table border=\"1\" class=\"dataframe\">\n",
       "  <thead>\n",
       "    <tr style=\"text-align: right;\">\n",
       "      <th></th>\n",
       "      <th>content</th>\n",
       "      <th>sentiment</th>\n",
       "    </tr>\n",
       "    <tr>\n",
       "      <th>status_id</th>\n",
       "      <th></th>\n",
       "      <th></th>\n",
       "    </tr>\n",
       "  </thead>\n",
       "  <tbody>\n",
       "    <tr>\n",
       "      <th>131459315949_10152751596575950</th>\n",
       "      <td>One opinion: \"Hillary Clinton won because all ...</td>\n",
       "      <td>Negative</td>\n",
       "    </tr>\n",
       "    <tr>\n",
       "      <th>131459315949_10152754227800950</th>\n",
       "      <td>Donald J. Trump may not attend the next Republ...</td>\n",
       "      <td>Neutral</td>\n",
       "    </tr>\n",
       "    <tr>\n",
       "      <th>131459315949_10152758428025950</th>\n",
       "      <td>Conservatives have criticized Donald J. Trump ...</td>\n",
       "      <td>Negative</td>\n",
       "    </tr>\n",
       "    <tr>\n",
       "      <th>131459315949_10152766742570950</th>\n",
       "      <td>Hillary Clinton has promised to take on the Na...</td>\n",
       "      <td>Neutral</td>\n",
       "    </tr>\n",
       "    <tr>\n",
       "      <th>131459315949_10152791196665950</th>\n",
       "      <td>A look at 5 crucial issues in the Canadian ele...</td>\n",
       "      <td>Positive</td>\n",
       "    </tr>\n",
       "  </tbody>\n",
       "</table>\n",
       "</div>"
      ],
      "text/plain": [
       "                                                                          content  \\\n",
       "status_id                                                                           \n",
       "131459315949_10152751596575950  One opinion: \"Hillary Clinton won because all ...   \n",
       "131459315949_10152754227800950  Donald J. Trump may not attend the next Republ...   \n",
       "131459315949_10152758428025950  Conservatives have criticized Donald J. Trump ...   \n",
       "131459315949_10152766742570950  Hillary Clinton has promised to take on the Na...   \n",
       "131459315949_10152791196665950  A look at 5 crucial issues in the Canadian ele...   \n",
       "\n",
       "                               sentiment  \n",
       "status_id                                 \n",
       "131459315949_10152751596575950  Negative  \n",
       "131459315949_10152754227800950   Neutral  \n",
       "131459315949_10152758428025950  Negative  \n",
       "131459315949_10152766742570950   Neutral  \n",
       "131459315949_10152791196665950  Positive  "
      ]
     },
     "execution_count": 230,
     "metadata": {},
     "output_type": "execute_result"
    }
   ],
   "source": [
    "merged_df = df1.merge(df2,how='right',left_index=True,right_index=True)\n",
    "merged_df.head()"
   ]
  },
  {
   "cell_type": "code",
   "execution_count": 231,
   "metadata": {
    "collapsed": false
   },
   "outputs": [
    {
     "name": "stdout",
     "output_type": "stream",
     "text": [
      "847\n",
      "423\n",
      "424\n"
     ]
    }
   ],
   "source": [
    "tuple_arr = list(zip(merged_df.content,merged_df.sentiment))\n",
    "size = len(tuple_arr)\n",
    "halfway_pt = size/2\n",
    "\n",
    "print size\n",
    "\n",
    "train = tuple_arr[:halfway_pt]\n",
    "test = tuple_arr[halfway_pt:]\n",
    "print len(train)\n",
    "print len(test)"
   ]
  },
  {
   "cell_type": "code",
   "execution_count": 232,
   "metadata": {
    "collapsed": false
   },
   "outputs": [
    {
     "name": "stdout",
     "output_type": "stream",
     "text": [
      "Done Training NLTK Classifier!\n"
     ]
    }
   ],
   "source": [
    "nltk_classifier = NLTKClassifier(train)\n",
    "print 'Done Training NLTK Classifier!'"
   ]
  },
  {
   "cell_type": "code",
   "execution_count": 233,
   "metadata": {
    "collapsed": false
   },
   "outputs": [
    {
     "name": "stdout",
     "output_type": "stream",
     "text": [
      "Done Training Naive Bayes Classifier!\n"
     ]
    }
   ],
   "source": [
    "naivebayes_classifier = NaiveBayesClassifier(train)\n",
    "print 'Done Training Naive Bayes Classifier!'"
   ]
  },
  {
   "cell_type": "code",
   "execution_count": 234,
   "metadata": {
    "collapsed": false
   },
   "outputs": [
    {
     "name": "stdout",
     "output_type": "stream",
     "text": [
      "Done Training Decision Tree Classifier!\n"
     ]
    }
   ],
   "source": [
    "decisiontree_classifier = DecisionTreeClassifier(train)\n",
    "print 'Done Training Decision Tree Classifier!'"
   ]
  },
  {
   "cell_type": "code",
   "execution_count": 235,
   "metadata": {
    "collapsed": false
   },
   "outputs": [
    {
     "ename": "TypeError",
     "evalue": "__init__() takes at least 3 arguments (2 given)",
     "output_type": "error",
     "traceback": [
      "\u001b[0;31m---------------------------------------------------------------------------\u001b[0m",
      "\u001b[0;31mTypeError\u001b[0m                                 Traceback (most recent call last)",
      "\u001b[0;32m<ipython-input-235-c40a9e600d3f>\u001b[0m in \u001b[0;36m<module>\u001b[0;34m()\u001b[0m\n\u001b[0;32m----> 1\u001b[0;31m \u001b[0mpositivenaivebayes_classifier\u001b[0m \u001b[0;34m=\u001b[0m \u001b[0mPositiveNaiveBayesClassifier\u001b[0m\u001b[0;34m(\u001b[0m\u001b[0mtrain\u001b[0m\u001b[0;34m)\u001b[0m\u001b[0;34m\u001b[0m\u001b[0m\n\u001b[0m\u001b[1;32m      2\u001b[0m \u001b[0;32mprint\u001b[0m \u001b[0;34m'Done Training Positive Naive Bayes Classifier!'\u001b[0m\u001b[0;34m\u001b[0m\u001b[0m\n",
      "\u001b[0;31mTypeError\u001b[0m: __init__() takes at least 3 arguments (2 given)"
     ]
    }
   ],
   "source": [
    "positivenaivebayes_classifier = PositiveNaiveBayesClassifier(train)\n",
    "print 'Done Training Positive Naive Bayes Classifier!'"
   ]
  },
  {
   "cell_type": "code",
   "execution_count": 236,
   "metadata": {
    "collapsed": false
   },
   "outputs": [
    {
     "name": "stdout",
     "output_type": "stream",
     "text": [
      "Done Training Max Ent Classifier!\n"
     ]
    }
   ],
   "source": [
    "maxent_classifier = MaxEntClassifier(train)\n",
    "print 'Done Training Max Ent Classifier!'"
   ]
  },
  {
   "cell_type": "code",
   "execution_count": 239,
   "metadata": {
    "collapsed": false
   },
   "outputs": [
    {
     "name": "stdout",
     "output_type": "stream",
     "text": [
      "  ==> Training (100 iterations)\n",
      "\n",
      "      Iteration    Log Likelihood    Accuracy\n",
      "      ---------------------------------------\n",
      "             1          -1.09861        0.314\n",
      "         Final               nan        0.314\n",
      "Naive Bayes Accuracy:  0.452830188679\n",
      "Decision Tree Accuracy:  0.408018867925\n",
      "Maxent Accuracy:  0.301886792453\n"
     ]
    }
   ],
   "source": [
    "#nltk_classifier_accuracy = nltk_classifier.accuracy(test)\n",
    "naivebayes_classifier_accuracy = naivebayes_classifier.accuracy(test)\n",
    "decisiontree_classifier_accuracy = decisiontree_classifier.accuracy(test)\n",
    "#positivenaivebayes_classifier_accuracy = positivenaivebayes_classifier.accuracy(test)\n",
    "maxent_classifier_accuracy = maxent_classifier.accuracy(test)\n",
    "\n",
    "#print \"NLTK Accuracy: \", nltk_classifier_accuracy\n",
    "print \"Naive Bayes Accuracy: \", naivebayes_classifier_accuracy\n",
    "print \"Decision Tree Accuracy: \", decisiontree_classifier_accuracy\n",
    "#print \"Positive Naive Bayes Accuracy: \", positivenaivebayes_classifier_accuracy\n",
    "print \"Maxent Accuracy: \", maxent_classifier_accuracy"
   ]
  }
 ],
 "metadata": {
  "kernelspec": {
   "display_name": "Python [conda root]",
   "language": "python",
   "name": "conda-root-py"
  },
  "language_info": {
   "codemirror_mode": {
    "name": "ipython",
    "version": 2
   },
   "file_extension": ".py",
   "mimetype": "text/x-python",
   "name": "python",
   "nbconvert_exporter": "python",
   "pygments_lexer": "ipython2",
   "version": "2.7.12"
  }
 },
 "nbformat": 4,
 "nbformat_minor": 1
}
