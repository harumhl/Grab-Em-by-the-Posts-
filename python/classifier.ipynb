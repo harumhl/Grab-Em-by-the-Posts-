{
 "cells": [
  {
   "cell_type": "markdown",
   "metadata": {},
   "source": [
    "# Classifying with TextBlob"
   ]
  },
  {
   "cell_type": "code",
   "execution_count": 1,
   "metadata": {
    "collapsed": false
   },
   "outputs": [],
   "source": [
    "from textblob.classifiers import NLTKClassifier,NaiveBayesClassifier,DecisionTreeClassifier,PositiveNaiveBayesClassifier,MaxEntClassifier\n",
    "import pandas as pd\n",
    "import re\n",
    "\n",
    "path = '/Users/Jared/Documents/CSCE489/489Project/'"
   ]
  },
  {
   "cell_type": "markdown",
   "metadata": {},
   "source": [
    "### Grabbing the Data"
   ]
  },
  {
   "cell_type": "code",
   "execution_count": null,
   "metadata": {
    "collapsed": true
   },
   "outputs": [],
   "source": [
    "def read_in_turk_csv(path):\n",
    "    df = pd.read_csv(path)\n",
    "    df_with_relevant_columns = df[['Input.status_id','Input.content','Answer.sentiment']]\n",
    "    df_with_relevant_columns.columns = ['status_id','content','sentiment']\n",
    "    return def_with_relevant_columns"
   ]
  },
  {
   "cell_type": "code",
   "execution_count": 2,
   "metadata": {
    "collapsed": false,
    "scrolled": true
   },
   "outputs": [
    {
     "data": {
      "text/html": [
       "<div>\n",
       "<table border=\"1\" class=\"dataframe\">\n",
       "  <thead>\n",
       "    <tr style=\"text-align: right;\">\n",
       "      <th></th>\n",
       "      <th>HITId</th>\n",
       "      <th>HITTypeId</th>\n",
       "      <th>Title</th>\n",
       "      <th>Description</th>\n",
       "      <th>Keywords</th>\n",
       "      <th>Reward</th>\n",
       "      <th>CreationTime</th>\n",
       "      <th>MaxAssignments</th>\n",
       "      <th>RequesterAnnotation</th>\n",
       "      <th>AssignmentDurationInSeconds</th>\n",
       "      <th>...</th>\n",
       "      <th>RequesterFeedback</th>\n",
       "      <th>WorkTimeInSeconds</th>\n",
       "      <th>LifetimeApprovalRate</th>\n",
       "      <th>Last30DaysApprovalRate</th>\n",
       "      <th>Last7DaysApprovalRate</th>\n",
       "      <th>Input.status_id</th>\n",
       "      <th>Input.content</th>\n",
       "      <th>Answer.sentiment</th>\n",
       "      <th>Approve</th>\n",
       "      <th>Reject</th>\n",
       "    </tr>\n",
       "  </thead>\n",
       "  <tbody>\n",
       "    <tr>\n",
       "      <th>0</th>\n",
       "      <td>301KG0KX9CFC0MHLW3ECT80VTS3H2D</td>\n",
       "      <td>3WROYBU7BMMRCGD41SQ9YGNC31GDCO</td>\n",
       "      <td>Preseidential Election Sentiment Analysis</td>\n",
       "      <td>Analyze the sentiment of the provided Facebook...</td>\n",
       "      <td>sentiment election Donald Trump Hilary Clinton...</td>\n",
       "      <td>$0.02</td>\n",
       "      <td>Wed Nov 23 21:44:16 PST 2016</td>\n",
       "      <td>3</td>\n",
       "      <td>BatchId:2606965;</td>\n",
       "      <td>172800</td>\n",
       "      <td>...</td>\n",
       "      <td>NaN</td>\n",
       "      <td>3</td>\n",
       "      <td>100% (143/143)</td>\n",
       "      <td>100% (143/143)</td>\n",
       "      <td>100% (143/143)</td>\n",
       "      <td>13652355666_10154036300320667</td>\n",
       "      <td>Thousands of demonstrators filled the streets ...</td>\n",
       "      <td>Positive</td>\n",
       "      <td>NaN</td>\n",
       "      <td>NaN</td>\n",
       "    </tr>\n",
       "    <tr>\n",
       "      <th>1</th>\n",
       "      <td>301KG0KX9CFC0MHLW3ECT80VTS3H2D</td>\n",
       "      <td>3WROYBU7BMMRCGD41SQ9YGNC31GDCO</td>\n",
       "      <td>Preseidential Election Sentiment Analysis</td>\n",
       "      <td>Analyze the sentiment of the provided Facebook...</td>\n",
       "      <td>sentiment election Donald Trump Hilary Clinton...</td>\n",
       "      <td>$0.02</td>\n",
       "      <td>Wed Nov 23 21:44:16 PST 2016</td>\n",
       "      <td>3</td>\n",
       "      <td>BatchId:2606965;</td>\n",
       "      <td>172800</td>\n",
       "      <td>...</td>\n",
       "      <td>NaN</td>\n",
       "      <td>3</td>\n",
       "      <td>100% (349/349)</td>\n",
       "      <td>100% (349/349)</td>\n",
       "      <td>100% (349/349)</td>\n",
       "      <td>13652355666_10154036300320667</td>\n",
       "      <td>Thousands of demonstrators filled the streets ...</td>\n",
       "      <td>Positive</td>\n",
       "      <td>NaN</td>\n",
       "      <td>NaN</td>\n",
       "    </tr>\n",
       "    <tr>\n",
       "      <th>2</th>\n",
       "      <td>301KG0KX9CFC0MHLW3ECT80VTS3H2D</td>\n",
       "      <td>3WROYBU7BMMRCGD41SQ9YGNC31GDCO</td>\n",
       "      <td>Preseidential Election Sentiment Analysis</td>\n",
       "      <td>Analyze the sentiment of the provided Facebook...</td>\n",
       "      <td>sentiment election Donald Trump Hilary Clinton...</td>\n",
       "      <td>$0.02</td>\n",
       "      <td>Wed Nov 23 21:44:16 PST 2016</td>\n",
       "      <td>3</td>\n",
       "      <td>BatchId:2606965;</td>\n",
       "      <td>172800</td>\n",
       "      <td>...</td>\n",
       "      <td>NaN</td>\n",
       "      <td>7</td>\n",
       "      <td>100% (132/132)</td>\n",
       "      <td>100% (132/132)</td>\n",
       "      <td>100% (132/132)</td>\n",
       "      <td>13652355666_10154036300320667</td>\n",
       "      <td>Thousands of demonstrators filled the streets ...</td>\n",
       "      <td>Neutral</td>\n",
       "      <td>NaN</td>\n",
       "      <td>NaN</td>\n",
       "    </tr>\n",
       "    <tr>\n",
       "      <th>3</th>\n",
       "      <td>301KG0KX9CFC0MHLW3ECT80VTS42HZ</td>\n",
       "      <td>3WROYBU7BMMRCGD41SQ9YGNC31GDCO</td>\n",
       "      <td>Preseidential Election Sentiment Analysis</td>\n",
       "      <td>Analyze the sentiment of the provided Facebook...</td>\n",
       "      <td>sentiment election Donald Trump Hilary Clinton...</td>\n",
       "      <td>$0.02</td>\n",
       "      <td>Wed Nov 23 21:44:36 PST 2016</td>\n",
       "      <td>3</td>\n",
       "      <td>BatchId:2606965;</td>\n",
       "      <td>172800</td>\n",
       "      <td>...</td>\n",
       "      <td>NaN</td>\n",
       "      <td>51</td>\n",
       "      <td>100% (147/147)</td>\n",
       "      <td>100% (147/147)</td>\n",
       "      <td>100% (147/147)</td>\n",
       "      <td>131459315949_10154056577745950</td>\n",
       "      <td>From Barack Obama's 2003 Senate campaign to Hi...</td>\n",
       "      <td>Positive</td>\n",
       "      <td>NaN</td>\n",
       "      <td>NaN</td>\n",
       "    </tr>\n",
       "    <tr>\n",
       "      <th>4</th>\n",
       "      <td>301KG0KX9CFC0MHLW3ECT80VTS42HZ</td>\n",
       "      <td>3WROYBU7BMMRCGD41SQ9YGNC31GDCO</td>\n",
       "      <td>Preseidential Election Sentiment Analysis</td>\n",
       "      <td>Analyze the sentiment of the provided Facebook...</td>\n",
       "      <td>sentiment election Donald Trump Hilary Clinton...</td>\n",
       "      <td>$0.02</td>\n",
       "      <td>Wed Nov 23 21:44:36 PST 2016</td>\n",
       "      <td>3</td>\n",
       "      <td>BatchId:2606965;</td>\n",
       "      <td>172800</td>\n",
       "      <td>...</td>\n",
       "      <td>NaN</td>\n",
       "      <td>3</td>\n",
       "      <td>100% (99/99)</td>\n",
       "      <td>100% (99/99)</td>\n",
       "      <td>100% (99/99)</td>\n",
       "      <td>131459315949_10154056577745950</td>\n",
       "      <td>From Barack Obama's 2003 Senate campaign to Hi...</td>\n",
       "      <td>Neutral</td>\n",
       "      <td>NaN</td>\n",
       "      <td>NaN</td>\n",
       "    </tr>\n",
       "  </tbody>\n",
       "</table>\n",
       "<p>5 rows × 32 columns</p>\n",
       "</div>"
      ],
      "text/plain": [
       "                            HITId                       HITTypeId  \\\n",
       "0  301KG0KX9CFC0MHLW3ECT80VTS3H2D  3WROYBU7BMMRCGD41SQ9YGNC31GDCO   \n",
       "1  301KG0KX9CFC0MHLW3ECT80VTS3H2D  3WROYBU7BMMRCGD41SQ9YGNC31GDCO   \n",
       "2  301KG0KX9CFC0MHLW3ECT80VTS3H2D  3WROYBU7BMMRCGD41SQ9YGNC31GDCO   \n",
       "3  301KG0KX9CFC0MHLW3ECT80VTS42HZ  3WROYBU7BMMRCGD41SQ9YGNC31GDCO   \n",
       "4  301KG0KX9CFC0MHLW3ECT80VTS42HZ  3WROYBU7BMMRCGD41SQ9YGNC31GDCO   \n",
       "\n",
       "                                       Title  \\\n",
       "0  Preseidential Election Sentiment Analysis   \n",
       "1  Preseidential Election Sentiment Analysis   \n",
       "2  Preseidential Election Sentiment Analysis   \n",
       "3  Preseidential Election Sentiment Analysis   \n",
       "4  Preseidential Election Sentiment Analysis   \n",
       "\n",
       "                                         Description  \\\n",
       "0  Analyze the sentiment of the provided Facebook...   \n",
       "1  Analyze the sentiment of the provided Facebook...   \n",
       "2  Analyze the sentiment of the provided Facebook...   \n",
       "3  Analyze the sentiment of the provided Facebook...   \n",
       "4  Analyze the sentiment of the provided Facebook...   \n",
       "\n",
       "                                            Keywords Reward  \\\n",
       "0  sentiment election Donald Trump Hilary Clinton...  $0.02   \n",
       "1  sentiment election Donald Trump Hilary Clinton...  $0.02   \n",
       "2  sentiment election Donald Trump Hilary Clinton...  $0.02   \n",
       "3  sentiment election Donald Trump Hilary Clinton...  $0.02   \n",
       "4  sentiment election Donald Trump Hilary Clinton...  $0.02   \n",
       "\n",
       "                   CreationTime  MaxAssignments RequesterAnnotation  \\\n",
       "0  Wed Nov 23 21:44:16 PST 2016               3    BatchId:2606965;   \n",
       "1  Wed Nov 23 21:44:16 PST 2016               3    BatchId:2606965;   \n",
       "2  Wed Nov 23 21:44:16 PST 2016               3    BatchId:2606965;   \n",
       "3  Wed Nov 23 21:44:36 PST 2016               3    BatchId:2606965;   \n",
       "4  Wed Nov 23 21:44:36 PST 2016               3    BatchId:2606965;   \n",
       "\n",
       "   AssignmentDurationInSeconds  ...    RequesterFeedback WorkTimeInSeconds  \\\n",
       "0                       172800  ...                  NaN                 3   \n",
       "1                       172800  ...                  NaN                 3   \n",
       "2                       172800  ...                  NaN                 7   \n",
       "3                       172800  ...                  NaN                51   \n",
       "4                       172800  ...                  NaN                 3   \n",
       "\n",
       "   LifetimeApprovalRate  Last30DaysApprovalRate Last7DaysApprovalRate  \\\n",
       "0        100% (143/143)          100% (143/143)        100% (143/143)   \n",
       "1        100% (349/349)          100% (349/349)        100% (349/349)   \n",
       "2        100% (132/132)          100% (132/132)        100% (132/132)   \n",
       "3        100% (147/147)          100% (147/147)        100% (147/147)   \n",
       "4          100% (99/99)            100% (99/99)          100% (99/99)   \n",
       "\n",
       "                  Input.status_id  \\\n",
       "0   13652355666_10154036300320667   \n",
       "1   13652355666_10154036300320667   \n",
       "2   13652355666_10154036300320667   \n",
       "3  131459315949_10154056577745950   \n",
       "4  131459315949_10154056577745950   \n",
       "\n",
       "                                       Input.content Answer.sentiment Approve  \\\n",
       "0  Thousands of demonstrators filled the streets ...         Positive     NaN   \n",
       "1  Thousands of demonstrators filled the streets ...         Positive     NaN   \n",
       "2  Thousands of demonstrators filled the streets ...          Neutral     NaN   \n",
       "3  From Barack Obama's 2003 Senate campaign to Hi...         Positive     NaN   \n",
       "4  From Barack Obama's 2003 Senate campaign to Hi...          Neutral     NaN   \n",
       "\n",
       "  Reject  \n",
       "0    NaN  \n",
       "1    NaN  \n",
       "2    NaN  \n",
       "3    NaN  \n",
       "4    NaN  \n",
       "\n",
       "[5 rows x 32 columns]"
      ]
     },
     "execution_count": 2,
     "metadata": {},
     "output_type": "execute_result"
    }
   ],
   "source": [
    "#Load Turk Data\n",
    "turk_df = pd.read_csv(path + 'Turk/Batch_2606965_batch_results.csv') \n",
    "turk_df.head()"
   ]
  },
  {
   "cell_type": "code",
   "execution_count": 3,
   "metadata": {
    "collapsed": false
   },
   "outputs": [
    {
     "data": {
      "text/html": [
       "<div>\n",
       "<table border=\"1\" class=\"dataframe\">\n",
       "  <thead>\n",
       "    <tr style=\"text-align: right;\">\n",
       "      <th></th>\n",
       "      <th>status_id</th>\n",
       "      <th>content</th>\n",
       "      <th>sentiment</th>\n",
       "    </tr>\n",
       "  </thead>\n",
       "  <tbody>\n",
       "    <tr>\n",
       "      <th>0</th>\n",
       "      <td>13652355666_10154036300320667</td>\n",
       "      <td>Thousands of demonstrators filled the streets ...</td>\n",
       "      <td>Positive</td>\n",
       "    </tr>\n",
       "    <tr>\n",
       "      <th>1</th>\n",
       "      <td>13652355666_10154036300320667</td>\n",
       "      <td>Thousands of demonstrators filled the streets ...</td>\n",
       "      <td>Positive</td>\n",
       "    </tr>\n",
       "    <tr>\n",
       "      <th>2</th>\n",
       "      <td>13652355666_10154036300320667</td>\n",
       "      <td>Thousands of demonstrators filled the streets ...</td>\n",
       "      <td>Neutral</td>\n",
       "    </tr>\n",
       "    <tr>\n",
       "      <th>3</th>\n",
       "      <td>131459315949_10154056577745950</td>\n",
       "      <td>From Barack Obama's 2003 Senate campaign to Hi...</td>\n",
       "      <td>Positive</td>\n",
       "    </tr>\n",
       "    <tr>\n",
       "      <th>4</th>\n",
       "      <td>131459315949_10154056577745950</td>\n",
       "      <td>From Barack Obama's 2003 Senate campaign to Hi...</td>\n",
       "      <td>Neutral</td>\n",
       "    </tr>\n",
       "  </tbody>\n",
       "</table>\n",
       "</div>"
      ],
      "text/plain": [
       "                        status_id  \\\n",
       "0   13652355666_10154036300320667   \n",
       "1   13652355666_10154036300320667   \n",
       "2   13652355666_10154036300320667   \n",
       "3  131459315949_10154056577745950   \n",
       "4  131459315949_10154056577745950   \n",
       "\n",
       "                                             content sentiment  \n",
       "0  Thousands of demonstrators filled the streets ...  Positive  \n",
       "1  Thousands of demonstrators filled the streets ...  Positive  \n",
       "2  Thousands of demonstrators filled the streets ...   Neutral  \n",
       "3  From Barack Obama's 2003 Senate campaign to Hi...  Positive  \n",
       "4  From Barack Obama's 2003 Senate campaign to Hi...   Neutral  "
      ]
     },
     "execution_count": 3,
     "metadata": {},
     "output_type": "execute_result"
    }
   ],
   "source": [
    "#Narrow columns down to relative information\n",
    "relevant_df = turk_df[['Input.status_id','Input.content','Answer.sentiment']]\n",
    "relevant_df.columns = ['status_id','content','sentiment']\n",
    "relevant_df.head()"
   ]
  },
  {
   "cell_type": "markdown",
   "metadata": {},
   "source": [
    "### Condense Turk Reviews"
   ]
  },
  {
   "cell_type": "code",
   "execution_count": null,
   "metadata": {
    "collapsed": true
   },
   "outputs": [],
   "source": [
    "#Function that counts the number of Positive, Neutral, and Negative sentiment reviews and chooses an official review\n",
    "#2 or more of review = that review\n",
    "#Anything else is Inconclusive\n",
    "def choose_sentiment(label):\n",
    "    if label.count('Positive') >= 2:\n",
    "        return 'Positive'\n",
    "    elif label.count('Neutral') >= 2:\n",
    "        return 'Neutral'\n",
    "    elif label.count('Negative') >= 2:\n",
    "        return 'Negative'\n",
    "    else:\n",
    "        return 'Inconclusive'\n",
    "\n",
    "def condense_and_label_rows(df):\n",
    "    #Split into two, one with post content and one with sentiment review. \n",
    "    #This is necessary so post content doesn't get stacked when combining rows\n",
    "    content_df = df[['status_id','content']]\n",
    "    sentiment_df = df[['status_id','sentiment']]\n",
    "    \n",
    "    #Combines all rows with the same status_id. \n",
    "    #It only keeps the same post (content column) its finds which is ok because they are all the same.\n",
    "    content_df = content_df.groupby(content_df.status_id).first()\n",
    "    #content_df.head()\n",
    "    \n",
    "    #Combines all rows with the same statuse id\n",
    "    #Combines all sentiment reviews as well\n",
    "    sentiment_df = sentiment_df.groupby(sentiment_df.status_id).sum()\n",
    "    #sentiment_df.head()\n",
    "    \n",
    "    #Chooses an offical sentiment review based on the three aggregated ones\n",
    "    sentiment_df['sentiment'] = sentiment_df.sentiment.apply(choose_sentiment)\n",
    "    #sentiment_df.head()\n",
    "    \n",
    "    #Merged the sentiment Dataframe and post Dataframe by combining like status_ids\n",
    "    #Note: It uses a right merge, so only items in the sentiment dataframe are kept.\n",
    "    merged_df = content_df.merge(sentiment_df,how='right',left_index=True,right_index=True)\n",
    "    merged_df.head()\n",
    "    "
   ]
  },
  {
   "cell_type": "code",
   "execution_count": 4,
   "metadata": {
    "collapsed": false
   },
   "outputs": [],
   "source": [
    "#Split into two, one with post content and one with sentiment review. \n",
    "#This is necessary so post content doesn't get stacked when combining rows\n",
    "content_df = relevant_df[['status_id','content']]\n",
    "sentiment_df = relevant_df[['status_id','sentiment']]"
   ]
  },
  {
   "cell_type": "code",
   "execution_count": 6,
   "metadata": {
    "collapsed": false
   },
   "outputs": [
    {
     "data": {
      "text/html": [
       "<div>\n",
       "<table border=\"1\" class=\"dataframe\">\n",
       "  <thead>\n",
       "    <tr style=\"text-align: right;\">\n",
       "      <th></th>\n",
       "      <th>content</th>\n",
       "    </tr>\n",
       "    <tr>\n",
       "      <th>status_id</th>\n",
       "      <th></th>\n",
       "    </tr>\n",
       "  </thead>\n",
       "  <tbody>\n",
       "    <tr>\n",
       "      <th>131459315949_10152751596575950</th>\n",
       "      <td>One opinion: \"Hillary Clinton won because all ...</td>\n",
       "    </tr>\n",
       "    <tr>\n",
       "      <th>131459315949_10152753624975950</th>\n",
       "      <td>Second fiddle to Hillary Clinton in the debate...</td>\n",
       "    </tr>\n",
       "    <tr>\n",
       "      <th>131459315949_10152754227800950</th>\n",
       "      <td>Donald J. Trump may not attend the next Republ...</td>\n",
       "    </tr>\n",
       "    <tr>\n",
       "      <th>131459315949_10152758428025950</th>\n",
       "      <td>Conservatives have criticized Donald J. Trump ...</td>\n",
       "    </tr>\n",
       "    <tr>\n",
       "      <th>131459315949_10152766742570950</th>\n",
       "      <td>Hillary Clinton has promised to take on the Na...</td>\n",
       "    </tr>\n",
       "  </tbody>\n",
       "</table>\n",
       "</div>"
      ],
      "text/plain": [
       "                                                                          content\n",
       "status_id                                                                        \n",
       "131459315949_10152751596575950  One opinion: \"Hillary Clinton won because all ...\n",
       "131459315949_10152753624975950  Second fiddle to Hillary Clinton in the debate...\n",
       "131459315949_10152754227800950  Donald J. Trump may not attend the next Republ...\n",
       "131459315949_10152758428025950  Conservatives have criticized Donald J. Trump ...\n",
       "131459315949_10152766742570950  Hillary Clinton has promised to take on the Na..."
      ]
     },
     "execution_count": 6,
     "metadata": {},
     "output_type": "execute_result"
    }
   ],
   "source": [
    "#Combines all rows with the same status_id. \n",
    "#It only keeps the same post (content column) its finds which is ok because they are all the same.\n",
    "content_df = content_df.groupby(content_df.status_id).first()\n",
    "content_df.head()"
   ]
  },
  {
   "cell_type": "code",
   "execution_count": 5,
   "metadata": {
    "collapsed": true
   },
   "outputs": [],
   "source": [
    "#Removes any non-ascii characters. TextBlob cannot process them\n",
    "def remove_non_ascii(text):\n",
    "    return re.sub(r'[^\\x00-\\x7F]',' ', text)"
   ]
  },
  {
   "cell_type": "code",
   "execution_count": 7,
   "metadata": {
    "collapsed": false
   },
   "outputs": [
    {
     "data": {
      "text/html": [
       "<div>\n",
       "<table border=\"1\" class=\"dataframe\">\n",
       "  <thead>\n",
       "    <tr style=\"text-align: right;\">\n",
       "      <th></th>\n",
       "      <th>content</th>\n",
       "    </tr>\n",
       "    <tr>\n",
       "      <th>status_id</th>\n",
       "      <th></th>\n",
       "    </tr>\n",
       "  </thead>\n",
       "  <tbody>\n",
       "    <tr>\n",
       "      <th>131459315949_10152751596575950</th>\n",
       "      <td>One opinion: \"Hillary Clinton won because all ...</td>\n",
       "    </tr>\n",
       "    <tr>\n",
       "      <th>131459315949_10152753624975950</th>\n",
       "      <td>Second fiddle to Hillary Clinton in the debate...</td>\n",
       "    </tr>\n",
       "    <tr>\n",
       "      <th>131459315949_10152754227800950</th>\n",
       "      <td>Donald J. Trump may not attend the next Republ...</td>\n",
       "    </tr>\n",
       "    <tr>\n",
       "      <th>131459315949_10152758428025950</th>\n",
       "      <td>Conservatives have criticized Donald J. Trump ...</td>\n",
       "    </tr>\n",
       "    <tr>\n",
       "      <th>131459315949_10152766742570950</th>\n",
       "      <td>Hillary Clinton has promised to take on the Na...</td>\n",
       "    </tr>\n",
       "  </tbody>\n",
       "</table>\n",
       "</div>"
      ],
      "text/plain": [
       "                                                                          content\n",
       "status_id                                                                        \n",
       "131459315949_10152751596575950  One opinion: \"Hillary Clinton won because all ...\n",
       "131459315949_10152753624975950  Second fiddle to Hillary Clinton in the debate...\n",
       "131459315949_10152754227800950  Donald J. Trump may not attend the next Republ...\n",
       "131459315949_10152758428025950  Conservatives have criticized Donald J. Trump ...\n",
       "131459315949_10152766742570950  Hillary Clinton has promised to take on the Na..."
      ]
     },
     "execution_count": 7,
     "metadata": {},
     "output_type": "execute_result"
    }
   ],
   "source": [
    "#Removes all non-ascii characters from the content column\n",
    "content_df['content'] = content_df.content.apply(remove_non_ascii)\n",
    "content_df.head()"
   ]
  },
  {
   "cell_type": "code",
   "execution_count": 8,
   "metadata": {
    "collapsed": false
   },
   "outputs": [],
   "source": [
    "#Function that counts the number of Positive, Neutral, and Negative sentiment reviews and chooses an official review\n",
    "#2 or more of review = that review\n",
    "#Anything else is Inconclusive\n",
    "def choose_sentiment(label):\n",
    "    if label.count('Positive') >= 2:\n",
    "        return 'Positive'\n",
    "    elif label.count('Neutral') >= 2:\n",
    "        return 'Neutral'\n",
    "    elif label.count('Negative') >= 2:\n",
    "        return 'Negative'\n",
    "    else:\n",
    "        return 'Inconclusive'"
   ]
  },
  {
   "cell_type": "code",
   "execution_count": 9,
   "metadata": {
    "collapsed": false
   },
   "outputs": [
    {
     "data": {
      "text/html": [
       "<div>\n",
       "<table border=\"1\" class=\"dataframe\">\n",
       "  <thead>\n",
       "    <tr style=\"text-align: right;\">\n",
       "      <th></th>\n",
       "      <th>sentiment</th>\n",
       "    </tr>\n",
       "    <tr>\n",
       "      <th>status_id</th>\n",
       "      <th></th>\n",
       "    </tr>\n",
       "  </thead>\n",
       "  <tbody>\n",
       "    <tr>\n",
       "      <th>131459315949_10152751596575950</th>\n",
       "      <td>NeutralNegativeNegative</td>\n",
       "    </tr>\n",
       "    <tr>\n",
       "      <th>131459315949_10152753624975950</th>\n",
       "      <td>NeutralPositiveNegative</td>\n",
       "    </tr>\n",
       "    <tr>\n",
       "      <th>131459315949_10152754227800950</th>\n",
       "      <td>PositiveNeutralNeutral</td>\n",
       "    </tr>\n",
       "    <tr>\n",
       "      <th>131459315949_10152758428025950</th>\n",
       "      <td>NegativeNegativeNeutral</td>\n",
       "    </tr>\n",
       "    <tr>\n",
       "      <th>131459315949_10152766742570950</th>\n",
       "      <td>NeutralNegativeNeutral</td>\n",
       "    </tr>\n",
       "  </tbody>\n",
       "</table>\n",
       "</div>"
      ],
      "text/plain": [
       "                                              sentiment\n",
       "status_id                                              \n",
       "131459315949_10152751596575950  NeutralNegativeNegative\n",
       "131459315949_10152753624975950  NeutralPositiveNegative\n",
       "131459315949_10152754227800950   PositiveNeutralNeutral\n",
       "131459315949_10152758428025950  NegativeNegativeNeutral\n",
       "131459315949_10152766742570950   NeutralNegativeNeutral"
      ]
     },
     "execution_count": 9,
     "metadata": {},
     "output_type": "execute_result"
    }
   ],
   "source": [
    "#Combines all rows with the same statuse id\n",
    "#Combines all sentiment reviews as well\n",
    "sentiment_df = sentiment_df.groupby(sentiment_df.status_id).sum()\n",
    "sentiment_df.head()"
   ]
  },
  {
   "cell_type": "code",
   "execution_count": 10,
   "metadata": {
    "collapsed": false
   },
   "outputs": [
    {
     "data": {
      "text/html": [
       "<div>\n",
       "<table border=\"1\" class=\"dataframe\">\n",
       "  <thead>\n",
       "    <tr style=\"text-align: right;\">\n",
       "      <th></th>\n",
       "      <th>sentiment</th>\n",
       "    </tr>\n",
       "    <tr>\n",
       "      <th>status_id</th>\n",
       "      <th></th>\n",
       "    </tr>\n",
       "  </thead>\n",
       "  <tbody>\n",
       "    <tr>\n",
       "      <th>131459315949_10152751596575950</th>\n",
       "      <td>Negative</td>\n",
       "    </tr>\n",
       "    <tr>\n",
       "      <th>131459315949_10152753624975950</th>\n",
       "      <td>Inconclusive</td>\n",
       "    </tr>\n",
       "    <tr>\n",
       "      <th>131459315949_10152754227800950</th>\n",
       "      <td>Neutral</td>\n",
       "    </tr>\n",
       "    <tr>\n",
       "      <th>131459315949_10152758428025950</th>\n",
       "      <td>Negative</td>\n",
       "    </tr>\n",
       "    <tr>\n",
       "      <th>131459315949_10152766742570950</th>\n",
       "      <td>Neutral</td>\n",
       "    </tr>\n",
       "  </tbody>\n",
       "</table>\n",
       "</div>"
      ],
      "text/plain": [
       "                                   sentiment\n",
       "status_id                                   \n",
       "131459315949_10152751596575950      Negative\n",
       "131459315949_10152753624975950  Inconclusive\n",
       "131459315949_10152754227800950       Neutral\n",
       "131459315949_10152758428025950      Negative\n",
       "131459315949_10152766742570950       Neutral"
      ]
     },
     "execution_count": 10,
     "metadata": {},
     "output_type": "execute_result"
    }
   ],
   "source": [
    "#Chooses an offical sentiment review based on the three aggregated ones\n",
    "sentiment_df['sentiment'] = sentiment_df.sentiment.apply(choose_sentiment)\n",
    "sentiment_df.head()"
   ]
  },
  {
   "cell_type": "code",
   "execution_count": 11,
   "metadata": {
    "collapsed": false
   },
   "outputs": [
    {
     "data": {
      "text/html": [
       "<div>\n",
       "<table border=\"1\" class=\"dataframe\">\n",
       "  <thead>\n",
       "    <tr style=\"text-align: right;\">\n",
       "      <th></th>\n",
       "      <th>sentiment</th>\n",
       "    </tr>\n",
       "    <tr>\n",
       "      <th>status_id</th>\n",
       "      <th></th>\n",
       "    </tr>\n",
       "  </thead>\n",
       "  <tbody>\n",
       "    <tr>\n",
       "      <th>131459315949_10152751596575950</th>\n",
       "      <td>Negative</td>\n",
       "    </tr>\n",
       "    <tr>\n",
       "      <th>131459315949_10152754227800950</th>\n",
       "      <td>Neutral</td>\n",
       "    </tr>\n",
       "    <tr>\n",
       "      <th>131459315949_10152758428025950</th>\n",
       "      <td>Negative</td>\n",
       "    </tr>\n",
       "    <tr>\n",
       "      <th>131459315949_10152766742570950</th>\n",
       "      <td>Neutral</td>\n",
       "    </tr>\n",
       "    <tr>\n",
       "      <th>131459315949_10152791196665950</th>\n",
       "      <td>Positive</td>\n",
       "    </tr>\n",
       "  </tbody>\n",
       "</table>\n",
       "</div>"
      ],
      "text/plain": [
       "                               sentiment\n",
       "status_id                               \n",
       "131459315949_10152751596575950  Negative\n",
       "131459315949_10152754227800950   Neutral\n",
       "131459315949_10152758428025950  Negative\n",
       "131459315949_10152766742570950   Neutral\n",
       "131459315949_10152791196665950  Positive"
      ]
     },
     "execution_count": 11,
     "metadata": {},
     "output_type": "execute_result"
    }
   ],
   "source": [
    "#Discards all Inconclusive sentiment reviews\n",
    "sentiment_df = sentiment_df[sentiment_df.sentiment != 'Inconclusive']\n",
    "sentiment_df.head()"
   ]
  },
  {
   "cell_type": "code",
   "execution_count": 12,
   "metadata": {
    "collapsed": false
   },
   "outputs": [
    {
     "data": {
      "text/html": [
       "<div>\n",
       "<table border=\"1\" class=\"dataframe\">\n",
       "  <thead>\n",
       "    <tr style=\"text-align: right;\">\n",
       "      <th></th>\n",
       "      <th>content</th>\n",
       "      <th>sentiment</th>\n",
       "    </tr>\n",
       "    <tr>\n",
       "      <th>status_id</th>\n",
       "      <th></th>\n",
       "      <th></th>\n",
       "    </tr>\n",
       "  </thead>\n",
       "  <tbody>\n",
       "    <tr>\n",
       "      <th>131459315949_10152751596575950</th>\n",
       "      <td>One opinion: \"Hillary Clinton won because all ...</td>\n",
       "      <td>Negative</td>\n",
       "    </tr>\n",
       "    <tr>\n",
       "      <th>131459315949_10152754227800950</th>\n",
       "      <td>Donald J. Trump may not attend the next Republ...</td>\n",
       "      <td>Neutral</td>\n",
       "    </tr>\n",
       "    <tr>\n",
       "      <th>131459315949_10152758428025950</th>\n",
       "      <td>Conservatives have criticized Donald J. Trump ...</td>\n",
       "      <td>Negative</td>\n",
       "    </tr>\n",
       "    <tr>\n",
       "      <th>131459315949_10152766742570950</th>\n",
       "      <td>Hillary Clinton has promised to take on the Na...</td>\n",
       "      <td>Neutral</td>\n",
       "    </tr>\n",
       "    <tr>\n",
       "      <th>131459315949_10152791196665950</th>\n",
       "      <td>A look at 5 crucial issues in the Canadian ele...</td>\n",
       "      <td>Positive</td>\n",
       "    </tr>\n",
       "  </tbody>\n",
       "</table>\n",
       "</div>"
      ],
      "text/plain": [
       "                                                                          content  \\\n",
       "status_id                                                                           \n",
       "131459315949_10152751596575950  One opinion: \"Hillary Clinton won because all ...   \n",
       "131459315949_10152754227800950  Donald J. Trump may not attend the next Republ...   \n",
       "131459315949_10152758428025950  Conservatives have criticized Donald J. Trump ...   \n",
       "131459315949_10152766742570950  Hillary Clinton has promised to take on the Na...   \n",
       "131459315949_10152791196665950  A look at 5 crucial issues in the Canadian ele...   \n",
       "\n",
       "                               sentiment  \n",
       "status_id                                 \n",
       "131459315949_10152751596575950  Negative  \n",
       "131459315949_10152754227800950   Neutral  \n",
       "131459315949_10152758428025950  Negative  \n",
       "131459315949_10152766742570950   Neutral  \n",
       "131459315949_10152791196665950  Positive  "
      ]
     },
     "execution_count": 12,
     "metadata": {},
     "output_type": "execute_result"
    }
   ],
   "source": [
    "#Merged the sentiment Dataframe and post Dataframe by combining like status_ids\n",
    "#Note: It uses a right merge, so only items in the sentiment dataframe are kept.\n",
    "merged_df = content_df.merge(sentiment_df,how='right',left_index=True,right_index=True)\n",
    "merged_df.head()"
   ]
  },
  {
   "cell_type": "code",
   "execution_count": 13,
   "metadata": {
    "collapsed": true
   },
   "outputs": [],
   "source": [
    "#Classifies a post as Trump, Clinton, or Other\n",
    "#Rules:\n",
    "#If a review talks about only Trump, and not Clinotn, it is trump\n",
    "#If a review talks about only Clinton, and not Trump, it is clinton\n",
    "#Everything else is other \n",
    "def label_post (content):\n",
    "   status = content.lower()\n",
    "   if (('donald' in status) or ('trump' in status)) and (('hillary' in status) or ('clinton' in status)) :\n",
    "      return 'other'\n",
    "   elif ('donald' in status) or ('trump' in status) :\n",
    "      return 'trump'\n",
    "   elif ('hillary' in status) or ('clinton' in status) :\n",
    "      return 'clinton'\n",
    "   else:\n",
    "      return 'other'\n",
    "\n",
    "def label_df(df):\n",
    "    df['candidate_label'] = df.content.apply(classify_post)\n",
    "    return df\n",
    "    "
   ]
  },
  {
   "cell_type": "code",
   "execution_count": 14,
   "metadata": {
    "collapsed": false
   },
   "outputs": [
    {
     "data": {
      "text/html": [
       "<div>\n",
       "<table border=\"1\" class=\"dataframe\">\n",
       "  <thead>\n",
       "    <tr style=\"text-align: right;\">\n",
       "      <th></th>\n",
       "      <th>content</th>\n",
       "      <th>sentiment</th>\n",
       "      <th>candidate_label</th>\n",
       "    </tr>\n",
       "    <tr>\n",
       "      <th>status_id</th>\n",
       "      <th></th>\n",
       "      <th></th>\n",
       "      <th></th>\n",
       "    </tr>\n",
       "  </thead>\n",
       "  <tbody>\n",
       "    <tr>\n",
       "      <th>131459315949_10152751596575950</th>\n",
       "      <td>One opinion: \"Hillary Clinton won because all ...</td>\n",
       "      <td>Negative</td>\n",
       "      <td>clinton</td>\n",
       "    </tr>\n",
       "    <tr>\n",
       "      <th>131459315949_10152754227800950</th>\n",
       "      <td>Donald J. Trump may not attend the next Republ...</td>\n",
       "      <td>Neutral</td>\n",
       "      <td>trump</td>\n",
       "    </tr>\n",
       "    <tr>\n",
       "      <th>131459315949_10152758428025950</th>\n",
       "      <td>Conservatives have criticized Donald J. Trump ...</td>\n",
       "      <td>Negative</td>\n",
       "      <td>trump</td>\n",
       "    </tr>\n",
       "    <tr>\n",
       "      <th>131459315949_10152766742570950</th>\n",
       "      <td>Hillary Clinton has promised to take on the Na...</td>\n",
       "      <td>Neutral</td>\n",
       "      <td>clinton</td>\n",
       "    </tr>\n",
       "    <tr>\n",
       "      <th>131459315949_10152791196665950</th>\n",
       "      <td>A look at 5 crucial issues in the Canadian ele...</td>\n",
       "      <td>Positive</td>\n",
       "      <td>other</td>\n",
       "    </tr>\n",
       "  </tbody>\n",
       "</table>\n",
       "</div>"
      ],
      "text/plain": [
       "                                                                          content  \\\n",
       "status_id                                                                           \n",
       "131459315949_10152751596575950  One opinion: \"Hillary Clinton won because all ...   \n",
       "131459315949_10152754227800950  Donald J. Trump may not attend the next Republ...   \n",
       "131459315949_10152758428025950  Conservatives have criticized Donald J. Trump ...   \n",
       "131459315949_10152766742570950  Hillary Clinton has promised to take on the Na...   \n",
       "131459315949_10152791196665950  A look at 5 crucial issues in the Canadian ele...   \n",
       "\n",
       "                               sentiment candidate_label  \n",
       "status_id                                                 \n",
       "131459315949_10152751596575950  Negative         clinton  \n",
       "131459315949_10152754227800950   Neutral           trump  \n",
       "131459315949_10152758428025950  Negative           trump  \n",
       "131459315949_10152766742570950   Neutral         clinton  \n",
       "131459315949_10152791196665950  Positive           other  "
      ]
     },
     "execution_count": 14,
     "metadata": {},
     "output_type": "execute_result"
    }
   ],
   "source": [
    "#Labels all posts as other, Clinton, or other\n",
    "labeled_df = merged_df\n",
    "labeled_df['candidate_label'] = merged_df.content.apply(classify_post)\n",
    "labeled_df.head()"
   ]
  },
  {
   "cell_type": "code",
   "execution_count": 70,
   "metadata": {
    "collapsed": true
   },
   "outputs": [],
   "source": [
    "#Function to remove special characters\n",
    "def remove_special_characters(s):\n",
    "    return ''.join(e for e in s if (e.isalpha( ) or (' ' in e)))\n",
    "\n",
    "#Function to read in stop words\n",
    "def stopword_file_to_list(file_name):\n",
    "    f = open(path + \"StopWordLists/\" + file_name)\n",
    "    file_text = f.read()\n",
    "    return file_text.split(\"\\r\")\n",
    "\n",
    "#Function to read in stop words\n",
    "def stopword_file_to_list(file_name):\n",
    "    f = open(path + \"StopWordLists/\" + file_name)\n",
    "    file_text = f.read()\n",
    "    return file_text.split(\"\\r\")\n",
    "\n",
    "#Remove words in list from string\n",
    "def remove_words(s,words_to_remove):\n",
    "    word_list = s.split()\n",
    "    resultwords  = [word for word in word_list if word.lower() not in words_to_remove]\n",
    "    result = ' '.join(resultwords)\n",
    "    return result\n",
    "\n",
    "def clean_df(df,stop_word_file_path=\"comprehensive_stopwords.txt\",column_to_clean=\"content\"):\n",
    "    #Remove all special characters\n",
    "    labeled_df_without_special_chars = df\n",
    "    #''.join(e for e in string if (e.isalpha()) ' ' in e)\n",
    "    labeled_df_without_special_chars[column_to_clean] = labeled_df_without_special_chars.content.apply(remove_special_characters)\n",
    "    labeled_df_without_special_chars.head()\n",
    "    \n",
    "    #Get Stop Word List\n",
    "    stopword_list = stopword_file_to_list(stop_word_file_path)\n",
    "    \n",
    "    labeled_df_without_stopwords = labeled_df_without_special_chars\n",
    "    labeled_df_without_stopwords[column_to_clean] = merged_df.apply (lambda row: remove_words(row[column_to_clean],comprehensive_stopword_list),axis=1)\n",
    "    #labeled_df_without_stopwords.head()\n",
    "    \n",
    "    #Remove candidate names\n",
    "    labeled_df_without_candidate_name = labeled_df_without_stopwords\n",
    "    labeled_df_without_candidate_name[column_to_clean] = labeled_df_without_stopwords.content.apply(lambda row: row.replace('Hillary',''))\n",
    "    labeled_df_without_candidate_name[column_to_clean] = labeled_df_without_stopwords.content.apply(lambda row: row.replace('hillary',''))\n",
    "    labeled_df_without_candidate_name[column_to_clean] = labeled_df_without_stopwords.content.apply(lambda row: row.replace('Clinton',''))\n",
    "    labeled_df_without_candidate_name[column_to_clean] = labeled_df_without_stopwords.content.apply(lambda row: row.replace('clinton',''))\n",
    "    labeled_df_without_candidate_name[column_to_clean] = labeled_df_without_stopwords.content.apply(lambda row: row.replace('Donald',''))\n",
    "    labeled_df_without_candidate_name[column_to_clean] = labeled_df_without_stopwords.content.apply(lambda row: row.replace('donald',''))\n",
    "    labeled_df_without_candidate_name[column_to_clean] = labeled_df_without_stopwords.content.apply(lambda row: row.replace('Trump',''))\n",
    "    labeled_df_without_candidate_name[column_to_clean] = labeled_df_without_stopwords.content.apply(lambda row: row.replace('trump',''))\n",
    "    #labeled_df_without_candidate_name.head()\n",
    "    \n",
    "    return labeled_df_without_candidate_name\n",
    "    "
   ]
  },
  {
   "cell_type": "code",
   "execution_count": 15,
   "metadata": {
    "collapsed": true
   },
   "outputs": [],
   "source": [
    "#Function to remove special characters\n",
    "def remove_special_characters(s):\n",
    "    return ''.join(e for e in s if (e.isalpha( ) or (' ' in e)))"
   ]
  },
  {
   "cell_type": "code",
   "execution_count": 16,
   "metadata": {
    "collapsed": false
   },
   "outputs": [
    {
     "data": {
      "text/html": [
       "<div>\n",
       "<table border=\"1\" class=\"dataframe\">\n",
       "  <thead>\n",
       "    <tr style=\"text-align: right;\">\n",
       "      <th></th>\n",
       "      <th>content</th>\n",
       "      <th>sentiment</th>\n",
       "      <th>candidate_label</th>\n",
       "    </tr>\n",
       "    <tr>\n",
       "      <th>status_id</th>\n",
       "      <th></th>\n",
       "      <th></th>\n",
       "      <th></th>\n",
       "    </tr>\n",
       "  </thead>\n",
       "  <tbody>\n",
       "    <tr>\n",
       "      <th>131459315949_10152751596575950</th>\n",
       "      <td>One opinion Hillary Clinton won because all of...</td>\n",
       "      <td>Negative</td>\n",
       "      <td>clinton</td>\n",
       "    </tr>\n",
       "    <tr>\n",
       "      <th>131459315949_10152754227800950</th>\n",
       "      <td>Donald J Trump may not attend the next Republi...</td>\n",
       "      <td>Neutral</td>\n",
       "      <td>trump</td>\n",
       "    </tr>\n",
       "    <tr>\n",
       "      <th>131459315949_10152758428025950</th>\n",
       "      <td>Conservatives have criticized Donald J Trump f...</td>\n",
       "      <td>Negative</td>\n",
       "      <td>trump</td>\n",
       "    </tr>\n",
       "    <tr>\n",
       "      <th>131459315949_10152766742570950</th>\n",
       "      <td>Hillary Clinton has promised to take on the Na...</td>\n",
       "      <td>Neutral</td>\n",
       "      <td>clinton</td>\n",
       "    </tr>\n",
       "    <tr>\n",
       "      <th>131459315949_10152791196665950</th>\n",
       "      <td>A look at  crucial issues in the Canadian elec...</td>\n",
       "      <td>Positive</td>\n",
       "      <td>other</td>\n",
       "    </tr>\n",
       "  </tbody>\n",
       "</table>\n",
       "</div>"
      ],
      "text/plain": [
       "                                                                          content  \\\n",
       "status_id                                                                           \n",
       "131459315949_10152751596575950  One opinion Hillary Clinton won because all of...   \n",
       "131459315949_10152754227800950  Donald J Trump may not attend the next Republi...   \n",
       "131459315949_10152758428025950  Conservatives have criticized Donald J Trump f...   \n",
       "131459315949_10152766742570950  Hillary Clinton has promised to take on the Na...   \n",
       "131459315949_10152791196665950  A look at  crucial issues in the Canadian elec...   \n",
       "\n",
       "                               sentiment candidate_label  \n",
       "status_id                                                 \n",
       "131459315949_10152751596575950  Negative         clinton  \n",
       "131459315949_10152754227800950   Neutral           trump  \n",
       "131459315949_10152758428025950  Negative           trump  \n",
       "131459315949_10152766742570950   Neutral         clinton  \n",
       "131459315949_10152791196665950  Positive           other  "
      ]
     },
     "execution_count": 16,
     "metadata": {},
     "output_type": "execute_result"
    }
   ],
   "source": [
    "#Remove all special characters\n",
    "labeled_df_without_special_chars = labeled_df\n",
    "#''.join(e for e in string if (e.isalpha()) ' ' in e)\n",
    "labeled_df_without_special_chars['content'] = labeled_df_without_special_chars.content.apply(remove_special_characters)\n",
    "labeled_df_without_special_chars.head()"
   ]
  },
  {
   "cell_type": "code",
   "execution_count": 17,
   "metadata": {
    "collapsed": true
   },
   "outputs": [],
   "source": [
    "#Function to read in stop words\n",
    "def stopword_file_to_list(file_name):\n",
    "    f = open(path + \"StopWordLists/\" + file_name)\n",
    "    file_text = f.read()\n",
    "    return file_text.split(\"\\r\")"
   ]
  },
  {
   "cell_type": "code",
   "execution_count": 18,
   "metadata": {
    "collapsed": false
   },
   "outputs": [
    {
     "name": "stdout",
     "output_type": "stream",
     "text": [
      "['a', 'able', 'about', 'above', 'abst', 'accordance', 'according', 'accordingly', 'across', 'act']\n",
      "['a', 'about', 'above', 'after', 'again', 'against', 'all', 'am', 'an', 'and']\n",
      "[\"a's\", 'accordingly', 'again', 'allows', 'also', 'amongst', 'anybody', 'anyways', 'appropriate', 'aside']\n"
     ]
    }
   ],
   "source": [
    "#Read Stop Word List into Memory\n",
    "comprehensive_stopword_list = stopword_file_to_list(\"comprehensive_stopwords.txt\")\n",
    "default_english_stopword_list = stopword_file_to_list(\"default_english_stopwords.txt\")\n",
    "mysql_stopword_list = stopword_file_to_list(\"mysql_stopwords.txt\")\n",
    "print comprehensive_stopword_list[:10]\n",
    "print default_english_stopword_list[:10]\n",
    "print mysql_stopword_list[:10]"
   ]
  },
  {
   "cell_type": "code",
   "execution_count": 19,
   "metadata": {
    "collapsed": true
   },
   "outputs": [],
   "source": [
    "#Remove words in list from string\n",
    "def remove_words(s,words_to_remove):\n",
    "    word_list = s.split()\n",
    "    resultwords  = [word for word in word_list if word.lower() not in words_to_remove]\n",
    "    result = ' '.join(resultwords)\n",
    "    return result"
   ]
  },
  {
   "cell_type": "code",
   "execution_count": 20,
   "metadata": {
    "collapsed": false
   },
   "outputs": [
    {
     "data": {
      "text/html": [
       "<div>\n",
       "<table border=\"1\" class=\"dataframe\">\n",
       "  <thead>\n",
       "    <tr style=\"text-align: right;\">\n",
       "      <th></th>\n",
       "      <th>content</th>\n",
       "      <th>sentiment</th>\n",
       "      <th>candidate_label</th>\n",
       "    </tr>\n",
       "    <tr>\n",
       "      <th>status_id</th>\n",
       "      <th></th>\n",
       "      <th></th>\n",
       "      <th></th>\n",
       "    </tr>\n",
       "  </thead>\n",
       "  <tbody>\n",
       "    <tr>\n",
       "      <th>131459315949_10152751596575950</th>\n",
       "      <td>opinion Hillary Clinton won opponents terrible...</td>\n",
       "      <td>Negative</td>\n",
       "      <td>clinton</td>\n",
       "    </tr>\n",
       "    <tr>\n",
       "      <th>131459315949_10152754227800950</th>\n",
       "      <td>Donald Trump attend Republican presidential de...</td>\n",
       "      <td>Neutral</td>\n",
       "      <td>trump</td>\n",
       "    </tr>\n",
       "    <tr>\n",
       "      <th>131459315949_10152758428025950</th>\n",
       "      <td>Conservatives criticized Donald Trump expressi...</td>\n",
       "      <td>Negative</td>\n",
       "      <td>trump</td>\n",
       "    </tr>\n",
       "    <tr>\n",
       "      <th>131459315949_10152766742570950</th>\n",
       "      <td>Hillary Clinton promised National Rifle Associ...</td>\n",
       "      <td>Neutral</td>\n",
       "      <td>clinton</td>\n",
       "    </tr>\n",
       "    <tr>\n",
       "      <th>131459315949_10152791196665950</th>\n",
       "      <td>crucial issues Canadian election referendum Pr...</td>\n",
       "      <td>Positive</td>\n",
       "      <td>other</td>\n",
       "    </tr>\n",
       "  </tbody>\n",
       "</table>\n",
       "</div>"
      ],
      "text/plain": [
       "                                                                          content  \\\n",
       "status_id                                                                           \n",
       "131459315949_10152751596575950  opinion Hillary Clinton won opponents terrible...   \n",
       "131459315949_10152754227800950  Donald Trump attend Republican presidential de...   \n",
       "131459315949_10152758428025950  Conservatives criticized Donald Trump expressi...   \n",
       "131459315949_10152766742570950  Hillary Clinton promised National Rifle Associ...   \n",
       "131459315949_10152791196665950  crucial issues Canadian election referendum Pr...   \n",
       "\n",
       "                               sentiment candidate_label  \n",
       "status_id                                                 \n",
       "131459315949_10152751596575950  Negative         clinton  \n",
       "131459315949_10152754227800950   Neutral           trump  \n",
       "131459315949_10152758428025950  Negative           trump  \n",
       "131459315949_10152766742570950   Neutral         clinton  \n",
       "131459315949_10152791196665950  Positive           other  "
      ]
     },
     "execution_count": 20,
     "metadata": {},
     "output_type": "execute_result"
    }
   ],
   "source": [
    "labeled_df_without_stopwords = labeled_df_without_special_chars\n",
    "labeled_df_without_stopwords['content'] = merged_df.apply (lambda row: remove_words(row['content'],comprehensive_stopword_list),axis=1)\n",
    "labeled_df_without_stopwords.head()"
   ]
  },
  {
   "cell_type": "code",
   "execution_count": 21,
   "metadata": {
    "collapsed": false
   },
   "outputs": [
    {
     "data": {
      "text/html": [
       "<div>\n",
       "<table border=\"1\" class=\"dataframe\">\n",
       "  <thead>\n",
       "    <tr style=\"text-align: right;\">\n",
       "      <th></th>\n",
       "      <th>content</th>\n",
       "      <th>sentiment</th>\n",
       "      <th>candidate_label</th>\n",
       "    </tr>\n",
       "    <tr>\n",
       "      <th>status_id</th>\n",
       "      <th></th>\n",
       "      <th></th>\n",
       "      <th></th>\n",
       "    </tr>\n",
       "  </thead>\n",
       "  <tbody>\n",
       "    <tr>\n",
       "      <th>131459315949_10152751596575950</th>\n",
       "      <td>opinion Hillary Clinton won opponents terrible...</td>\n",
       "      <td>Negative</td>\n",
       "      <td>clinton</td>\n",
       "    </tr>\n",
       "    <tr>\n",
       "      <th>131459315949_10152754227800950</th>\n",
       "      <td>Donald Trump attend Republican presidential de...</td>\n",
       "      <td>Neutral</td>\n",
       "      <td>trump</td>\n",
       "    </tr>\n",
       "    <tr>\n",
       "      <th>131459315949_10152758428025950</th>\n",
       "      <td>Conservatives criticized Donald Trump expressi...</td>\n",
       "      <td>Negative</td>\n",
       "      <td>trump</td>\n",
       "    </tr>\n",
       "    <tr>\n",
       "      <th>131459315949_10152766742570950</th>\n",
       "      <td>Hillary Clinton promised National Rifle Associ...</td>\n",
       "      <td>Neutral</td>\n",
       "      <td>clinton</td>\n",
       "    </tr>\n",
       "    <tr>\n",
       "      <th>131459315949_10152791196665950</th>\n",
       "      <td>crucial issues Canadian election referendum Pr...</td>\n",
       "      <td>Positive</td>\n",
       "      <td>other</td>\n",
       "    </tr>\n",
       "  </tbody>\n",
       "</table>\n",
       "</div>"
      ],
      "text/plain": [
       "                                                                          content  \\\n",
       "status_id                                                                           \n",
       "131459315949_10152751596575950  opinion Hillary Clinton won opponents terrible...   \n",
       "131459315949_10152754227800950  Donald Trump attend Republican presidential de...   \n",
       "131459315949_10152758428025950  Conservatives criticized Donald Trump expressi...   \n",
       "131459315949_10152766742570950  Hillary Clinton promised National Rifle Associ...   \n",
       "131459315949_10152791196665950  crucial issues Canadian election referendum Pr...   \n",
       "\n",
       "                               sentiment candidate_label  \n",
       "status_id                                                 \n",
       "131459315949_10152751596575950  Negative         clinton  \n",
       "131459315949_10152754227800950   Neutral           trump  \n",
       "131459315949_10152758428025950  Negative           trump  \n",
       "131459315949_10152766742570950   Neutral         clinton  \n",
       "131459315949_10152791196665950  Positive           other  "
      ]
     },
     "execution_count": 21,
     "metadata": {},
     "output_type": "execute_result"
    }
   ],
   "source": [
    "labeled_df_without_candidate_name = labeled_df_without_stopwords\n",
    "#labeled_df_without_candidate_name['content'] = labeled_df_without_stopwords.content.apply(lambda row: row.replace('Hillary',''))\n",
    "#labeled_df_without_candidate_name['content'] = labeled_df_without_stopwords.content.apply(lambda row: row.replace('hillary',''))\n",
    "#labeled_df_without_candidate_name['content'] = labeled_df_without_stopwords.content.apply(lambda row: row.replace('Clinton',''))\n",
    "#labeled_df_without_candidate_name['content'] = labeled_df_without_stopwords.content.apply(lambda row: row.replace('clinton',''))\n",
    "#labeled_df_without_candidate_name['content'] = labeled_df_without_stopwords.content.apply(lambda row: row.replace('Donald',''))\n",
    "#labeled_df_without_candidate_name['content'] = labeled_df_without_stopwords.content.apply(lambda row: row.replace('donald',''))\n",
    "#labeled_df_without_candidate_name['content'] = labeled_df_without_stopwords.content.apply(lambda row: row.replace('Trump',''))\n",
    "#labeled_df_without_candidate_name['content'] = labeled_df_without_stopwords.content.apply(lambda row: row.replace('trump',''))\n",
    "labeled_df_without_candidate_name.head()"
   ]
  },
  {
   "cell_type": "code",
   "execution_count": 22,
   "metadata": {
    "collapsed": false
   },
   "outputs": [
    {
     "data": {
      "text/html": [
       "<div>\n",
       "<table border=\"1\" class=\"dataframe\">\n",
       "  <thead>\n",
       "    <tr style=\"text-align: right;\">\n",
       "      <th></th>\n",
       "      <th>content</th>\n",
       "      <th>sentiment</th>\n",
       "      <th>candidate_label</th>\n",
       "    </tr>\n",
       "    <tr>\n",
       "      <th>status_id</th>\n",
       "      <th></th>\n",
       "      <th></th>\n",
       "      <th></th>\n",
       "    </tr>\n",
       "  </thead>\n",
       "  <tbody>\n",
       "    <tr>\n",
       "      <th>131459315949_10152751596575950</th>\n",
       "      <td>opinion Hillary Clinton won opponents terrible...</td>\n",
       "      <td>Negative</td>\n",
       "      <td>clinton</td>\n",
       "    </tr>\n",
       "    <tr>\n",
       "      <th>131459315949_10152754227800950</th>\n",
       "      <td>Donald Trump attend Republican presidential de...</td>\n",
       "      <td>Neutral</td>\n",
       "      <td>trump</td>\n",
       "    </tr>\n",
       "    <tr>\n",
       "      <th>131459315949_10152758428025950</th>\n",
       "      <td>Conservatives criticized Donald Trump expressi...</td>\n",
       "      <td>Negative</td>\n",
       "      <td>trump</td>\n",
       "    </tr>\n",
       "    <tr>\n",
       "      <th>131459315949_10152766742570950</th>\n",
       "      <td>Hillary Clinton promised National Rifle Associ...</td>\n",
       "      <td>Neutral</td>\n",
       "      <td>clinton</td>\n",
       "    </tr>\n",
       "    <tr>\n",
       "      <th>131459315949_10152791196665950</th>\n",
       "      <td>crucial issues Canadian election referendum Pr...</td>\n",
       "      <td>Positive</td>\n",
       "      <td>other</td>\n",
       "    </tr>\n",
       "  </tbody>\n",
       "</table>\n",
       "</div>"
      ],
      "text/plain": [
       "                                                                          content  \\\n",
       "status_id                                                                           \n",
       "131459315949_10152751596575950  opinion Hillary Clinton won opponents terrible...   \n",
       "131459315949_10152754227800950  Donald Trump attend Republican presidential de...   \n",
       "131459315949_10152758428025950  Conservatives criticized Donald Trump expressi...   \n",
       "131459315949_10152766742570950  Hillary Clinton promised National Rifle Associ...   \n",
       "131459315949_10152791196665950  crucial issues Canadian election referendum Pr...   \n",
       "\n",
       "                               sentiment candidate_label  \n",
       "status_id                                                 \n",
       "131459315949_10152751596575950  Negative         clinton  \n",
       "131459315949_10152754227800950   Neutral           trump  \n",
       "131459315949_10152758428025950  Negative           trump  \n",
       "131459315949_10152766742570950   Neutral         clinton  \n",
       "131459315949_10152791196665950  Positive           other  "
      ]
     },
     "execution_count": 22,
     "metadata": {},
     "output_type": "execute_result"
    }
   ],
   "source": [
    "#We're done making changes, assign out current work to the final df\n",
    "final_df = labeled_df_without_candidate_name\n",
    "final_df.head()"
   ]
  },
  {
   "cell_type": "code",
   "execution_count": 23,
   "metadata": {
    "collapsed": false
   },
   "outputs": [
    {
     "data": {
      "text/html": [
       "<div>\n",
       "<table border=\"1\" class=\"dataframe\">\n",
       "  <thead>\n",
       "    <tr style=\"text-align: right;\">\n",
       "      <th></th>\n",
       "      <th>content</th>\n",
       "      <th>sentiment</th>\n",
       "      <th>candidate_label</th>\n",
       "    </tr>\n",
       "    <tr>\n",
       "      <th>status_id</th>\n",
       "      <th></th>\n",
       "      <th></th>\n",
       "      <th></th>\n",
       "    </tr>\n",
       "  </thead>\n",
       "  <tbody>\n",
       "    <tr>\n",
       "      <th>131459315949_10152754227800950</th>\n",
       "      <td>Donald Trump attend Republican presidential de...</td>\n",
       "      <td>Neutral</td>\n",
       "      <td>trump</td>\n",
       "    </tr>\n",
       "    <tr>\n",
       "      <th>131459315949_10152758428025950</th>\n",
       "      <td>Conservatives criticized Donald Trump expressi...</td>\n",
       "      <td>Negative</td>\n",
       "      <td>trump</td>\n",
       "    </tr>\n",
       "    <tr>\n",
       "      <th>131459315949_10152871191975950</th>\n",
       "      <td>Donald Trump legality closing mosques looked</td>\n",
       "      <td>Neutral</td>\n",
       "      <td>trump</td>\n",
       "    </tr>\n",
       "    <tr>\n",
       "      <th>131459315949_10152978451960950</th>\n",
       "      <td>Dr Ben Carson lead Republican presidential cam...</td>\n",
       "      <td>Positive</td>\n",
       "      <td>trump</td>\n",
       "    </tr>\n",
       "    <tr>\n",
       "      <th>131459315949_10153076683820950</th>\n",
       "      <td>fighting politically correct war Donald Trump ...</td>\n",
       "      <td>Neutral</td>\n",
       "      <td>trump</td>\n",
       "    </tr>\n",
       "  </tbody>\n",
       "</table>\n",
       "</div>"
      ],
      "text/plain": [
       "                                                                          content  \\\n",
       "status_id                                                                           \n",
       "131459315949_10152754227800950  Donald Trump attend Republican presidential de...   \n",
       "131459315949_10152758428025950  Conservatives criticized Donald Trump expressi...   \n",
       "131459315949_10152871191975950       Donald Trump legality closing mosques looked   \n",
       "131459315949_10152978451960950  Dr Ben Carson lead Republican presidential cam...   \n",
       "131459315949_10153076683820950  fighting politically correct war Donald Trump ...   \n",
       "\n",
       "                               sentiment candidate_label  \n",
       "status_id                                                 \n",
       "131459315949_10152754227800950   Neutral           trump  \n",
       "131459315949_10152758428025950  Negative           trump  \n",
       "131459315949_10152871191975950   Neutral           trump  \n",
       "131459315949_10152978451960950  Positive           trump  \n",
       "131459315949_10153076683820950   Neutral           trump  "
      ]
     },
     "execution_count": 23,
     "metadata": {},
     "output_type": "execute_result"
    }
   ],
   "source": [
    "trump_df = final_df[final_df.candidate_label == 'trump']\n",
    "trump_df.head()"
   ]
  },
  {
   "cell_type": "code",
   "execution_count": 24,
   "metadata": {
    "collapsed": false
   },
   "outputs": [
    {
     "data": {
      "text/html": [
       "<div>\n",
       "<table border=\"1\" class=\"dataframe\">\n",
       "  <thead>\n",
       "    <tr style=\"text-align: right;\">\n",
       "      <th></th>\n",
       "      <th>content</th>\n",
       "      <th>sentiment</th>\n",
       "      <th>candidate_label</th>\n",
       "    </tr>\n",
       "    <tr>\n",
       "      <th>status_id</th>\n",
       "      <th></th>\n",
       "      <th></th>\n",
       "      <th></th>\n",
       "    </tr>\n",
       "  </thead>\n",
       "  <tbody>\n",
       "    <tr>\n",
       "      <th>131459315949_10152751596575950</th>\n",
       "      <td>opinion Hillary Clinton won opponents terrible...</td>\n",
       "      <td>Negative</td>\n",
       "      <td>clinton</td>\n",
       "    </tr>\n",
       "    <tr>\n",
       "      <th>131459315949_10152766742570950</th>\n",
       "      <td>Hillary Clinton promised National Rifle Associ...</td>\n",
       "      <td>Neutral</td>\n",
       "      <td>clinton</td>\n",
       "    </tr>\n",
       "    <tr>\n",
       "      <th>131459315949_10152957933900950</th>\n",
       "      <td>Katy Perry performed rally Hillary Clinton Sat...</td>\n",
       "      <td>Positive</td>\n",
       "      <td>clinton</td>\n",
       "    </tr>\n",
       "    <tr>\n",
       "      <th>131459315949_10153018635795950</th>\n",
       "      <td>Politics Alert poll percent Hillary Clinton br...</td>\n",
       "      <td>Positive</td>\n",
       "      <td>clinton</td>\n",
       "    </tr>\n",
       "    <tr>\n",
       "      <th>131459315949_10153173878100950</th>\n",
       "      <td>voters mobbing Bernie Sanders events Iowa Hill...</td>\n",
       "      <td>Neutral</td>\n",
       "      <td>clinton</td>\n",
       "    </tr>\n",
       "  </tbody>\n",
       "</table>\n",
       "</div>"
      ],
      "text/plain": [
       "                                                                          content  \\\n",
       "status_id                                                                           \n",
       "131459315949_10152751596575950  opinion Hillary Clinton won opponents terrible...   \n",
       "131459315949_10152766742570950  Hillary Clinton promised National Rifle Associ...   \n",
       "131459315949_10152957933900950  Katy Perry performed rally Hillary Clinton Sat...   \n",
       "131459315949_10153018635795950  Politics Alert poll percent Hillary Clinton br...   \n",
       "131459315949_10153173878100950  voters mobbing Bernie Sanders events Iowa Hill...   \n",
       "\n",
       "                               sentiment candidate_label  \n",
       "status_id                                                 \n",
       "131459315949_10152751596575950  Negative         clinton  \n",
       "131459315949_10152766742570950   Neutral         clinton  \n",
       "131459315949_10152957933900950  Positive         clinton  \n",
       "131459315949_10153018635795950  Positive         clinton  \n",
       "131459315949_10153173878100950   Neutral         clinton  "
      ]
     },
     "execution_count": 24,
     "metadata": {},
     "output_type": "execute_result"
    }
   ],
   "source": [
    "clinton_df = final_df[final_df.candidate_label == 'clinton']\n",
    "clinton_df.head()"
   ]
  },
  {
   "cell_type": "code",
   "execution_count": 25,
   "metadata": {
    "collapsed": false
   },
   "outputs": [
    {
     "data": {
      "text/html": [
       "<div>\n",
       "<table border=\"1\" class=\"dataframe\">\n",
       "  <thead>\n",
       "    <tr style=\"text-align: right;\">\n",
       "      <th></th>\n",
       "      <th>content</th>\n",
       "      <th>sentiment</th>\n",
       "      <th>candidate_label</th>\n",
       "    </tr>\n",
       "    <tr>\n",
       "      <th>status_id</th>\n",
       "      <th></th>\n",
       "      <th></th>\n",
       "      <th></th>\n",
       "    </tr>\n",
       "  </thead>\n",
       "  <tbody>\n",
       "    <tr>\n",
       "      <th>131459315949_10152791196665950</th>\n",
       "      <td>crucial issues Canadian election referendum Pr...</td>\n",
       "      <td>Positive</td>\n",
       "      <td>other</td>\n",
       "    </tr>\n",
       "    <tr>\n",
       "      <th>131459315949_10152983500645950</th>\n",
       "      <td>election June percent country vote opposition ...</td>\n",
       "      <td>Positive</td>\n",
       "      <td>other</td>\n",
       "    </tr>\n",
       "    <tr>\n",
       "      <th>131459315949_10153139941305950</th>\n",
       "      <td>Donald Trump referenced male anatomy describe ...</td>\n",
       "      <td>Negative</td>\n",
       "      <td>other</td>\n",
       "    </tr>\n",
       "    <tr>\n",
       "      <th>131459315949_10153248450690950</th>\n",
       "      <td>taste Hillary Clinton rally full Demi Lovato l...</td>\n",
       "      <td>Neutral</td>\n",
       "      <td>other</td>\n",
       "    </tr>\n",
       "    <tr>\n",
       "      <th>131459315949_10153257668255950</th>\n",
       "      <td>stake year election Well things fate planet Re...</td>\n",
       "      <td>Neutral</td>\n",
       "      <td>other</td>\n",
       "    </tr>\n",
       "  </tbody>\n",
       "</table>\n",
       "</div>"
      ],
      "text/plain": [
       "                                                                          content  \\\n",
       "status_id                                                                           \n",
       "131459315949_10152791196665950  crucial issues Canadian election referendum Pr...   \n",
       "131459315949_10152983500645950  election June percent country vote opposition ...   \n",
       "131459315949_10153139941305950  Donald Trump referenced male anatomy describe ...   \n",
       "131459315949_10153248450690950  taste Hillary Clinton rally full Demi Lovato l...   \n",
       "131459315949_10153257668255950  stake year election Well things fate planet Re...   \n",
       "\n",
       "                               sentiment candidate_label  \n",
       "status_id                                                 \n",
       "131459315949_10152791196665950  Positive           other  \n",
       "131459315949_10152983500645950  Positive           other  \n",
       "131459315949_10153139941305950  Negative           other  \n",
       "131459315949_10153248450690950   Neutral           other  \n",
       "131459315949_10153257668255950   Neutral           other  "
      ]
     },
     "execution_count": 25,
     "metadata": {},
     "output_type": "execute_result"
    }
   ],
   "source": [
    "other_df = final_df[final_df.candidate_label == 'other']\n",
    "other_df.head()"
   ]
  },
  {
   "cell_type": "code",
   "execution_count": 26,
   "metadata": {
    "collapsed": false
   },
   "outputs": [
    {
     "name": "stdout",
     "output_type": "stream",
     "text": [
      "847\n",
      "423\n",
      "424\n"
     ]
    }
   ],
   "source": [
    "#Creating Tuple Arr from all Posts\n",
    "tuple_arr = list(zip(final_df.content,final_df.sentiment))\n",
    "size = len(tuple_arr)\n",
    "halfway_pt = size/2\n",
    "\n",
    "print size\n",
    "\n",
    "train = tuple_arr[:halfway_pt]\n",
    "test = tuple_arr[halfway_pt:]\n",
    "print len(train)\n",
    "print len(test)"
   ]
  },
  {
   "cell_type": "code",
   "execution_count": 27,
   "metadata": {
    "collapsed": false
   },
   "outputs": [
    {
     "name": "stdout",
     "output_type": "stream",
     "text": [
      "491\n",
      "245\n",
      "246\n"
     ]
    }
   ],
   "source": [
    "#Creating Tuple Arr from trump Posts\n",
    "trump_tuple_arr = list(zip(trump_df.content,trump_df.sentiment))\n",
    "size = len(trump_tuple_arr)\n",
    "trump_halfway_pt = size/2\n",
    "\n",
    "print size\n",
    "\n",
    "trump_train = trump_tuple_arr[:trump_halfway_pt]\n",
    "trump_test = trump_tuple_arr[trump_halfway_pt:]\n",
    "print len(trump_train)\n",
    "print len(trump_test)"
   ]
  },
  {
   "cell_type": "code",
   "execution_count": 28,
   "metadata": {
    "collapsed": false
   },
   "outputs": [
    {
     "name": "stdout",
     "output_type": "stream",
     "text": [
      "188\n",
      "94\n",
      "94\n"
     ]
    }
   ],
   "source": [
    "#Creating Tuple Arr from Clinton Posts\n",
    "clinton_tuple_arr = list(zip(clinton_df.content,clinton_df.sentiment))\n",
    "size = len(clinton_tuple_arr)\n",
    "clinton_halfway_pt = size/2\n",
    "\n",
    "print size\n",
    "\n",
    "clinton_train = clinton_tuple_arr[:clinton_halfway_pt]\n",
    "clinton_test = clinton_tuple_arr[clinton_halfway_pt:]\n",
    "print len(clinton_train)\n",
    "print len(clinton_test)"
   ]
  },
  {
   "cell_type": "code",
   "execution_count": 29,
   "metadata": {
    "collapsed": false
   },
   "outputs": [
    {
     "name": "stdout",
     "output_type": "stream",
     "text": [
      "168\n",
      "84\n",
      "84\n"
     ]
    }
   ],
   "source": [
    "#Creating Tuple Arr from Other Posts\n",
    "other_tuple_arr = list(zip(other_df.content,other_df.sentiment))\n",
    "size = len(other_tuple_arr)\n",
    "other_halfway_pt = size/2\n",
    "\n",
    "print size\n",
    "\n",
    "other_train = other_tuple_arr[:other_halfway_pt]\n",
    "other_test = other_tuple_arr[other_halfway_pt:]\n",
    "print len(other_train)\n",
    "print len(other_test)"
   ]
  },
  {
   "cell_type": "markdown",
   "metadata": {},
   "source": [
    "## Train the Classifiers"
   ]
  },
  {
   "cell_type": "code",
   "execution_count": 30,
   "metadata": {
    "collapsed": false
   },
   "outputs": [
    {
     "name": "stdout",
     "output_type": "stream",
     "text": [
      "Done Training All Post Naive Bayes Classifier!\n"
     ]
    }
   ],
   "source": [
    "all_naivebayes_classifier = NaiveBayesClassifier(train)\n",
    "print 'Done Training All Post Naive Bayes Classifier!'"
   ]
  },
  {
   "cell_type": "code",
   "execution_count": 31,
   "metadata": {
    "collapsed": false
   },
   "outputs": [
    {
     "name": "stdout",
     "output_type": "stream",
     "text": [
      "Done Training ALL post Decision Tree Classifier!\n"
     ]
    }
   ],
   "source": [
    "all_decisiontree_classifier = DecisionTreeClassifier(train)\n",
    "print 'Done Training ALL post Decision Tree Classifier!'"
   ]
  },
  {
   "cell_type": "code",
   "execution_count": 32,
   "metadata": {
    "collapsed": false
   },
   "outputs": [
    {
     "name": "stdout",
     "output_type": "stream",
     "text": [
      "Done Training ALL Max Ent Classifier!\n"
     ]
    }
   ],
   "source": [
    "all_maxent_classifier = MaxEntClassifier(train)\n",
    "print 'Done Training ALL Max Ent Classifier!'"
   ]
  },
  {
   "cell_type": "code",
   "execution_count": 33,
   "metadata": {
    "collapsed": false
   },
   "outputs": [
    {
     "name": "stdout",
     "output_type": "stream",
     "text": [
      "Done Training other Naive Bayes Classifier!\n"
     ]
    }
   ],
   "source": [
    "trump_naivebayes_classifier = NaiveBayesClassifier(trump_train)\n",
    "print 'Done Training other Naive Bayes Classifier!'"
   ]
  },
  {
   "cell_type": "code",
   "execution_count": 34,
   "metadata": {
    "collapsed": false
   },
   "outputs": [
    {
     "name": "stdout",
     "output_type": "stream",
     "text": [
      "Done Training Clinton Naive Bayes Classifier!\n"
     ]
    }
   ],
   "source": [
    "clinton_naivebayes_classifier = NaiveBayesClassifier(clinton_train)\n",
    "print 'Done Training Clinton Naive Bayes Classifier!'"
   ]
  },
  {
   "cell_type": "code",
   "execution_count": 35,
   "metadata": {
    "collapsed": false
   },
   "outputs": [
    {
     "name": "stdout",
     "output_type": "stream",
     "text": [
      "Done Training Other Naive Bayes Classifier!\n"
     ]
    }
   ],
   "source": [
    "other_naivebayes_classifier = NaiveBayesClassifier(other_train)\n",
    "print 'Done Training Other Naive Bayes Classifier!'"
   ]
  },
  {
   "cell_type": "code",
   "execution_count": 36,
   "metadata": {
    "collapsed": false
   },
   "outputs": [
    {
     "name": "stdout",
     "output_type": "stream",
     "text": [
      "Done Training other Decision Tree Classifier!\n"
     ]
    }
   ],
   "source": [
    "trump_decisiontree_classifier = DecisionTreeClassifier(trump_train)\n",
    "print 'Done Training other Decision Tree Classifier!'"
   ]
  },
  {
   "cell_type": "code",
   "execution_count": 37,
   "metadata": {
    "collapsed": false
   },
   "outputs": [
    {
     "name": "stdout",
     "output_type": "stream",
     "text": [
      "Done Training Clinton Decision Tree Classifier!\n"
     ]
    }
   ],
   "source": [
    "clinton_decisiontree_classifier = DecisionTreeClassifier(clinton_train)\n",
    "print 'Done Training Clinton Decision Tree Classifier!'"
   ]
  },
  {
   "cell_type": "code",
   "execution_count": 38,
   "metadata": {
    "collapsed": false
   },
   "outputs": [
    {
     "name": "stdout",
     "output_type": "stream",
     "text": [
      "Done Training Other Decision Tree Classifier!\n"
     ]
    }
   ],
   "source": [
    "other_decisiontree_classifier = DecisionTreeClassifier(other_train)\n",
    "print 'Done Training Other Decision Tree Classifier!'"
   ]
  },
  {
   "cell_type": "code",
   "execution_count": 39,
   "metadata": {
    "collapsed": false
   },
   "outputs": [],
   "source": [
    "#positivenaivebayes_classifier = PositiveNaiveBayesClassifier(other_train)\n",
    "#print 'Done Training Positive Naive Bayes Classifier!'"
   ]
  },
  {
   "cell_type": "code",
   "execution_count": 40,
   "metadata": {
    "collapsed": false
   },
   "outputs": [
    {
     "name": "stdout",
     "output_type": "stream",
     "text": [
      "Done Training other Max Ent Classifier!\n"
     ]
    }
   ],
   "source": [
    "trump_maxent_classifier = MaxEntClassifier(trump_train)\n",
    "print 'Done Training other Max Ent Classifier!'"
   ]
  },
  {
   "cell_type": "code",
   "execution_count": 41,
   "metadata": {
    "collapsed": false
   },
   "outputs": [
    {
     "name": "stdout",
     "output_type": "stream",
     "text": [
      "Done Training Clinton Max Ent Classifier!\n"
     ]
    }
   ],
   "source": [
    "clinton_maxent_classifier = MaxEntClassifier(clinton_train)\n",
    "print 'Done Training Clinton Max Ent Classifier!'"
   ]
  },
  {
   "cell_type": "code",
   "execution_count": 42,
   "metadata": {
    "collapsed": false
   },
   "outputs": [
    {
     "name": "stdout",
     "output_type": "stream",
     "text": [
      "Done Training Other Max Ent Classifier!\n"
     ]
    }
   ],
   "source": [
    "other_maxent_classifier = MaxEntClassifier(other_train)\n",
    "print 'Done Training Other Max Ent Classifier!'"
   ]
  },
  {
   "cell_type": "markdown",
   "metadata": {},
   "source": [
    "## Classify the Dataframe"
   ]
  },
  {
   "cell_type": "code",
   "execution_count": 43,
   "metadata": {
    "collapsed": false
   },
   "outputs": [
    {
     "name": "stdout",
     "output_type": "stream",
     "text": [
      "  ==> Training (100 iterations)\n",
      "\n",
      "      Iteration    Log Likelihood    Accuracy\n",
      "      ---------------------------------------\n",
      "             1          -1.09861        0.314\n",
      "         Final               nan        0.314\n",
      "Done Classifying the final Dataframe\n"
     ]
    }
   ],
   "source": [
    "#Classify the final DataFrame\n",
    "final_df[\"naive_bayes_classification\"] = final_df.content.apply(lambda row: all_naivebayes_classifier.classify(row))\n",
    "final_df[\"decisiontree_classification\"] = final_df.content.apply(lambda row: all_decisiontree_classifier.classify(row))\n",
    "final_df[\"maxent_classification\"] = final_df.content.apply(lambda row: all_maxent_classifier.classify(row))\n",
    "print \"Done Classifying the final Dataframe\""
   ]
  },
  {
   "cell_type": "code",
   "execution_count": 44,
   "metadata": {
    "collapsed": false
   },
   "outputs": [
    {
     "name": "stderr",
     "output_type": "stream",
     "text": [
      "/Users/Jared/anaconda2/lib/python2.7/site-packages/ipykernel/__main__.py:2: SettingWithCopyWarning: \n",
      "A value is trying to be set on a copy of a slice from a DataFrame.\n",
      "Try using .loc[row_indexer,col_indexer] = value instead\n",
      "\n",
      "See the caveats in the documentation: http://pandas.pydata.org/pandas-docs/stable/indexing.html#indexing-view-versus-copy\n",
      "  from ipykernel import kernelapp as app\n",
      "/Users/Jared/anaconda2/lib/python2.7/site-packages/ipykernel/__main__.py:3: SettingWithCopyWarning: \n",
      "A value is trying to be set on a copy of a slice from a DataFrame.\n",
      "Try using .loc[row_indexer,col_indexer] = value instead\n",
      "\n",
      "See the caveats in the documentation: http://pandas.pydata.org/pandas-docs/stable/indexing.html#indexing-view-versus-copy\n",
      "  app.launch_new_instance()\n"
     ]
    },
    {
     "name": "stdout",
     "output_type": "stream",
     "text": [
      "  ==> Training (100 iterations)\n",
      "\n",
      "      Iteration    Log Likelihood    Accuracy\n",
      "      ---------------------------------------\n",
      "             1          -1.09861        0.278\n",
      "         Final               nan        0.278\n",
      "Done Classifying the Trump Dataframe\n"
     ]
    },
    {
     "name": "stderr",
     "output_type": "stream",
     "text": [
      "/Users/Jared/anaconda2/lib/python2.7/site-packages/ipykernel/__main__.py:4: SettingWithCopyWarning: \n",
      "A value is trying to be set on a copy of a slice from a DataFrame.\n",
      "Try using .loc[row_indexer,col_indexer] = value instead\n",
      "\n",
      "See the caveats in the documentation: http://pandas.pydata.org/pandas-docs/stable/indexing.html#indexing-view-versus-copy\n"
     ]
    }
   ],
   "source": [
    "#Classify the Trump DataFrame\n",
    "trump_df[\"naive_bayes_classification\"] = trump_df.content.apply(lambda row: trump_naivebayes_classifier.classify(row))\n",
    "trump_df[\"decisiontree_classification\"] = trump_df.content.apply(lambda row: trump_decisiontree_classifier.classify(row))\n",
    "trump_df[\"maxent_classification\"] = trump_df.content.apply(lambda row: trump_maxent_classifier.classify(row))\n",
    "print \"Done Classifying the Trump Dataframe\""
   ]
  },
  {
   "cell_type": "code",
   "execution_count": 45,
   "metadata": {
    "collapsed": false
   },
   "outputs": [
    {
     "name": "stderr",
     "output_type": "stream",
     "text": [
      "/Users/Jared/anaconda2/lib/python2.7/site-packages/ipykernel/__main__.py:2: SettingWithCopyWarning: \n",
      "A value is trying to be set on a copy of a slice from a DataFrame.\n",
      "Try using .loc[row_indexer,col_indexer] = value instead\n",
      "\n",
      "See the caveats in the documentation: http://pandas.pydata.org/pandas-docs/stable/indexing.html#indexing-view-versus-copy\n",
      "  from ipykernel import kernelapp as app\n",
      "/Users/Jared/anaconda2/lib/python2.7/site-packages/ipykernel/__main__.py:3: SettingWithCopyWarning: \n",
      "A value is trying to be set on a copy of a slice from a DataFrame.\n",
      "Try using .loc[row_indexer,col_indexer] = value instead\n",
      "\n",
      "See the caveats in the documentation: http://pandas.pydata.org/pandas-docs/stable/indexing.html#indexing-view-versus-copy\n",
      "  app.launch_new_instance()\n"
     ]
    },
    {
     "name": "stdout",
     "output_type": "stream",
     "text": [
      "  ==> Training (100 iterations)\n",
      "\n",
      "      Iteration    Log Likelihood    Accuracy\n",
      "      ---------------------------------------\n",
      "             1          -1.09861        0.447\n",
      "             2          -0.15938        0.989\n",
      "             3          -0.04926        0.989\n",
      "             4          -0.02533        0.989\n",
      "             5          -0.01771        0.989\n",
      "             6          -0.01461        0.989\n",
      "             7          -0.01308        0.989\n",
      "             8          -0.01222        0.989\n",
      "             9          -0.01170        0.989\n",
      "            10          -0.01137        0.989\n",
      "            11          -0.01115        0.989\n",
      "            12          -0.01100        0.989\n",
      "            13          -0.01090        0.989\n",
      "            14          -0.01083        0.989\n",
      "            15          -0.01079        0.989\n",
      "            16          -0.01076        0.989\n",
      "            17          -0.01074        0.989\n",
      "            18          -0.01072        0.989\n",
      "            19          -0.01072        0.989\n",
      "            20          -0.01071        0.989\n",
      "            21          -0.01070        0.989\n",
      "            22          -0.01070        0.989\n",
      "            23          -0.01070        0.989\n",
      "            24          -0.01070        0.989\n",
      "            25          -0.01070        0.989\n",
      "            26          -0.01070        0.989\n",
      "            27          -0.01070        0.989\n",
      "            28          -0.01070        0.989\n",
      "            29          -0.01070        0.989\n",
      "            30          -0.01070        0.989\n",
      "            31          -0.01070        0.989\n",
      "            32          -0.01070        0.989\n",
      "            33          -0.01070        0.989\n",
      "            34          -0.01070        0.989\n",
      "            35          -0.01070        0.989\n",
      "            36          -0.01070        0.989\n",
      "            37          -0.01070        0.989\n",
      "            38          -0.01070        0.989\n",
      "            39          -0.01070        0.989\n",
      "            40          -0.01070        0.989\n",
      "            41          -0.01070        0.989\n",
      "            42          -0.01070        0.989\n",
      "            43          -0.01070        0.989\n",
      "            44          -0.01070        0.989\n",
      "            45          -0.01070        0.989\n",
      "            46          -0.01070        0.989\n",
      "            47          -0.01070        0.989\n",
      "            48          -0.01070        0.989\n",
      "            49          -0.01070        0.989\n",
      "            50          -0.01070        0.989\n",
      "            51          -0.01070        0.989\n",
      "            52          -0.01070        0.989\n",
      "            53          -0.01070        0.989\n",
      "            54          -0.01070        0.989\n",
      "            55          -0.01070        0.989\n",
      "            56          -0.01070        0.989\n",
      "            57          -0.01070        0.989\n",
      "            58          -0.01070        0.989\n",
      "            59          -0.01070        0.989\n",
      "            60          -0.01070        0.989\n",
      "            61          -0.01070        0.989\n",
      "            62          -0.01070        0.989\n",
      "            63          -0.01070        0.989\n",
      "            64          -0.01070        0.989\n",
      "            65          -0.01070        0.989\n",
      "            66          -0.01070        0.989\n",
      "            67          -0.01070        0.989\n",
      "            68          -0.01070        0.989\n",
      "            69          -0.01070        0.989\n",
      "            70          -0.01070        0.989\n",
      "            71          -0.01070        0.989\n",
      "            72          -0.01070        0.989\n",
      "            73          -0.01070        0.989\n",
      "            74          -0.01070        0.989\n",
      "            75          -0.01070        0.989\n",
      "            76          -0.01070        0.989\n",
      "            77          -0.01070        0.989\n",
      "            78          -0.01070        0.989\n",
      "            79          -0.01070        0.989\n",
      "            80          -0.01070        0.989\n",
      "            81          -0.01070        0.989\n",
      "            82          -0.01070        0.989\n",
      "            83          -0.01070        0.989\n",
      "            84          -0.01070        0.989\n",
      "            85          -0.01070        0.989\n",
      "            86          -0.01070        0.989\n",
      "            87          -0.01070        0.989\n",
      "            88          -0.01070        0.989\n",
      "            89          -0.01070        0.989\n",
      "            90          -0.01070        0.989\n",
      "            91          -0.01070        0.989\n",
      "            92          -0.01070        0.989\n",
      "            93          -0.01070        0.989\n",
      "            94          -0.01070        0.989\n",
      "            95          -0.01070        0.989\n",
      "            96          -0.01070        0.989\n",
      "            97          -0.01070        0.989\n",
      "            98          -0.01070        0.989\n",
      "            99          -0.01070        0.989\n",
      "         Final          -0.01070        0.989\n",
      "Done Classifying the Clinton Dataframe\n"
     ]
    },
    {
     "name": "stderr",
     "output_type": "stream",
     "text": [
      "/Users/Jared/anaconda2/lib/python2.7/site-packages/ipykernel/__main__.py:4: SettingWithCopyWarning: \n",
      "A value is trying to be set on a copy of a slice from a DataFrame.\n",
      "Try using .loc[row_indexer,col_indexer] = value instead\n",
      "\n",
      "See the caveats in the documentation: http://pandas.pydata.org/pandas-docs/stable/indexing.html#indexing-view-versus-copy\n"
     ]
    }
   ],
   "source": [
    "#Classify the Clinton DataFrame with Naive Bayes\n",
    "clinton_df[\"naive_bayes_classification\"] = clinton_df.content.apply(lambda row: clinton_naivebayes_classifier.classify(row))\n",
    "clinton_df[\"decisiontree_classification\"] = clinton_df.content.apply(lambda row: clinton_decisiontree_classifier.classify(row))\n",
    "clinton_df[\"maxent_classifier\"] = clinton_df.content.apply(lambda row: clinton_maxent_classifier.classify(row))\n",
    "clinton_df.head()\n",
    "print \"Done Classifying the Clinton Dataframe\""
   ]
  },
  {
   "cell_type": "code",
   "execution_count": 46,
   "metadata": {
    "collapsed": false
   },
   "outputs": [
    {
     "name": "stderr",
     "output_type": "stream",
     "text": [
      "/Users/Jared/anaconda2/lib/python2.7/site-packages/ipykernel/__main__.py:2: SettingWithCopyWarning: \n",
      "A value is trying to be set on a copy of a slice from a DataFrame.\n",
      "Try using .loc[row_indexer,col_indexer] = value instead\n",
      "\n",
      "See the caveats in the documentation: http://pandas.pydata.org/pandas-docs/stable/indexing.html#indexing-view-versus-copy\n",
      "  from ipykernel import kernelapp as app\n",
      "/Users/Jared/anaconda2/lib/python2.7/site-packages/ipykernel/__main__.py:3: SettingWithCopyWarning: \n",
      "A value is trying to be set on a copy of a slice from a DataFrame.\n",
      "Try using .loc[row_indexer,col_indexer] = value instead\n",
      "\n",
      "See the caveats in the documentation: http://pandas.pydata.org/pandas-docs/stable/indexing.html#indexing-view-versus-copy\n",
      "  app.launch_new_instance()\n"
     ]
    },
    {
     "name": "stdout",
     "output_type": "stream",
     "text": [
      "  ==> Training (100 iterations)\n",
      "\n",
      "      Iteration    Log Likelihood    Accuracy\n",
      "      ---------------------------------------\n",
      "             1          -1.09861        0.286\n",
      "             2          -0.26371        1.000\n",
      "             3          -0.09363        1.000\n",
      "             4          -0.04424        1.000\n",
      "             5          -0.02544        1.000\n",
      "             6          -0.01707        1.000\n",
      "             7          -0.01293        1.000\n",
      "             8          -0.01069        1.000\n",
      "             9          -0.00940        1.000\n",
      "            10          -0.00861        1.000\n",
      "            11          -0.00811        1.000\n",
      "            12          -0.00777        1.000\n",
      "            13          -0.00754        1.000\n",
      "            14          -0.00738        1.000\n",
      "            15          -0.00726        1.000\n",
      "            16          -0.00718        1.000\n",
      "            17          -0.00712        1.000\n",
      "            18          -0.00708        1.000\n",
      "            19          -0.00705        1.000\n",
      "            20          -0.00703        1.000\n",
      "            21          -0.00701        1.000\n",
      "            22          -0.00700        1.000\n",
      "            23          -0.00699        1.000\n",
      "            24          -0.00698        1.000\n",
      "            25          -0.00697        1.000\n",
      "            26          -0.00697        1.000\n",
      "            27          -0.00697        1.000\n",
      "            28          -0.00697        1.000\n",
      "            29          -0.00696        1.000\n",
      "            30          -0.00696        1.000\n",
      "            31          -0.00696        1.000\n",
      "            32          -0.00696        1.000\n",
      "            33          -0.00696        1.000\n",
      "            34          -0.00696        1.000\n",
      "            35          -0.00696        1.000\n",
      "            36          -0.00696        1.000\n",
      "            37          -0.00696        1.000\n",
      "            38          -0.00696        1.000\n",
      "            39          -0.00696        1.000\n",
      "            40          -0.00696        1.000\n",
      "            41          -0.00696        1.000\n",
      "            42          -0.00696        1.000\n",
      "            43          -0.00696        1.000\n",
      "            44          -0.00696        1.000\n",
      "            45          -0.00696        1.000\n",
      "            46          -0.00696        1.000\n",
      "            47          -0.00696        1.000\n",
      "            48          -0.00696        1.000\n",
      "            49          -0.00696        1.000\n",
      "            50          -0.00696        1.000\n",
      "            51          -0.00696        1.000\n",
      "            52          -0.00696        1.000\n",
      "            53          -0.00696        1.000\n",
      "            54          -0.00696        1.000\n",
      "            55          -0.00696        1.000\n",
      "            56          -0.00696        1.000\n",
      "            57          -0.00696        1.000\n",
      "            58          -0.00696        1.000\n",
      "            59          -0.00696        1.000\n",
      "            60          -0.00696        1.000\n",
      "            61          -0.00696        1.000\n",
      "            62          -0.00696        1.000\n",
      "            63          -0.00696        1.000\n",
      "            64          -0.00696        1.000\n",
      "            65          -0.00696        1.000\n",
      "            66          -0.00696        1.000\n",
      "            67          -0.00696        1.000\n",
      "            68          -0.00696        1.000\n",
      "            69          -0.00696        1.000\n",
      "            70          -0.00696        1.000\n",
      "            71          -0.00696        1.000\n",
      "            72          -0.00696        1.000\n",
      "            73          -0.00696        1.000\n",
      "            74          -0.00696        1.000\n",
      "            75          -0.00696        1.000\n",
      "            76          -0.00696        1.000\n",
      "            77          -0.00696        1.000\n",
      "            78          -0.00696        1.000\n",
      "            79          -0.00696        1.000\n",
      "            80          -0.00696        1.000\n",
      "            81          -0.00696        1.000\n",
      "            82          -0.00696        1.000\n",
      "            83          -0.00696        1.000\n",
      "            84          -0.00696        1.000\n",
      "            85          -0.00696        1.000\n",
      "            86          -0.00696        1.000\n",
      "            87          -0.00696        1.000\n",
      "            88          -0.00696        1.000\n",
      "            89          -0.00696        1.000\n",
      "            90          -0.00696        1.000\n",
      "            91          -0.00696        1.000\n",
      "            92          -0.00696        1.000\n",
      "            93          -0.00696        1.000\n",
      "            94          -0.00696        1.000\n",
      "            95          -0.00696        1.000\n",
      "            96          -0.00696        1.000\n",
      "            97          -0.00696        1.000\n",
      "            98          -0.00696        1.000\n",
      "            99          -0.00696        1.000\n",
      "         Final          -0.00696        1.000\n",
      "Done Classifying the Other Dataframe\n"
     ]
    },
    {
     "name": "stderr",
     "output_type": "stream",
     "text": [
      "/Users/Jared/anaconda2/lib/python2.7/site-packages/ipykernel/__main__.py:4: SettingWithCopyWarning: \n",
      "A value is trying to be set on a copy of a slice from a DataFrame.\n",
      "Try using .loc[row_indexer,col_indexer] = value instead\n",
      "\n",
      "See the caveats in the documentation: http://pandas.pydata.org/pandas-docs/stable/indexing.html#indexing-view-versus-copy\n"
     ]
    }
   ],
   "source": [
    "#Classify the Other DataFrame\n",
    "other_df[\"naive_bayes_classification\"] = other_df.content.apply(lambda row: other_naivebayes_classifier.classify(row))\n",
    "other_df[\"decisiontree_classification\"] = other_df.content.apply(lambda row: other_decisiontree_classifier.classify(row))\n",
    "other_df[\"maxent_classifier\"] = other_df.content.apply(lambda row: other_maxent_classifier.classify(row))\n",
    "other_df.head()\n",
    "print \"Done Classifying the Other Dataframe\""
   ]
  },
  {
   "cell_type": "markdown",
   "metadata": {},
   "source": [
    "## Running the Multi-Model Classifier"
   ]
  },
  {
   "cell_type": "code",
   "execution_count": 47,
   "metadata": {
    "collapsed": false
   },
   "outputs": [
    {
     "data": {
      "text/html": [
       "<div>\n",
       "<table border=\"1\" class=\"dataframe\">\n",
       "  <thead>\n",
       "    <tr style=\"text-align: right;\">\n",
       "      <th></th>\n",
       "      <th>content</th>\n",
       "      <th>sentiment</th>\n",
       "      <th>candidate_label</th>\n",
       "      <th>naive_bayes_classification</th>\n",
       "      <th>decisiontree_classification</th>\n",
       "      <th>maxent_classification</th>\n",
       "      <th>multi_model_classification</th>\n",
       "    </tr>\n",
       "    <tr>\n",
       "      <th>status_id</th>\n",
       "      <th></th>\n",
       "      <th></th>\n",
       "      <th></th>\n",
       "      <th></th>\n",
       "      <th></th>\n",
       "      <th></th>\n",
       "      <th></th>\n",
       "    </tr>\n",
       "  </thead>\n",
       "  <tbody>\n",
       "    <tr>\n",
       "      <th>131459315949_10152751596575950</th>\n",
       "      <td>opinion Hillary Clinton won opponents terrible...</td>\n",
       "      <td>Negative</td>\n",
       "      <td>clinton</td>\n",
       "      <td>Negative</td>\n",
       "      <td>Negative</td>\n",
       "      <td>Positive</td>\n",
       "      <td>Negative</td>\n",
       "    </tr>\n",
       "    <tr>\n",
       "      <th>131459315949_10152754227800950</th>\n",
       "      <td>Donald Trump attend Republican presidential de...</td>\n",
       "      <td>Neutral</td>\n",
       "      <td>trump</td>\n",
       "      <td>Neutral</td>\n",
       "      <td>Neutral</td>\n",
       "      <td>Positive</td>\n",
       "      <td>Neutral</td>\n",
       "    </tr>\n",
       "    <tr>\n",
       "      <th>131459315949_10152758428025950</th>\n",
       "      <td>Conservatives criticized Donald Trump expressi...</td>\n",
       "      <td>Negative</td>\n",
       "      <td>trump</td>\n",
       "      <td>Negative</td>\n",
       "      <td>Negative</td>\n",
       "      <td>Positive</td>\n",
       "      <td>Negative</td>\n",
       "    </tr>\n",
       "    <tr>\n",
       "      <th>131459315949_10152766742570950</th>\n",
       "      <td>Hillary Clinton promised National Rifle Associ...</td>\n",
       "      <td>Neutral</td>\n",
       "      <td>clinton</td>\n",
       "      <td>Neutral</td>\n",
       "      <td>Neutral</td>\n",
       "      <td>Positive</td>\n",
       "      <td>Neutral</td>\n",
       "    </tr>\n",
       "    <tr>\n",
       "      <th>131459315949_10152791196665950</th>\n",
       "      <td>crucial issues Canadian election referendum Pr...</td>\n",
       "      <td>Positive</td>\n",
       "      <td>other</td>\n",
       "      <td>Positive</td>\n",
       "      <td>Positive</td>\n",
       "      <td>Positive</td>\n",
       "      <td>Positive</td>\n",
       "    </tr>\n",
       "  </tbody>\n",
       "</table>\n",
       "</div>"
      ],
      "text/plain": [
       "                                                                          content  \\\n",
       "status_id                                                                           \n",
       "131459315949_10152751596575950  opinion Hillary Clinton won opponents terrible...   \n",
       "131459315949_10152754227800950  Donald Trump attend Republican presidential de...   \n",
       "131459315949_10152758428025950  Conservatives criticized Donald Trump expressi...   \n",
       "131459315949_10152766742570950  Hillary Clinton promised National Rifle Associ...   \n",
       "131459315949_10152791196665950  crucial issues Canadian election referendum Pr...   \n",
       "\n",
       "                               sentiment candidate_label  \\\n",
       "status_id                                                  \n",
       "131459315949_10152751596575950  Negative         clinton   \n",
       "131459315949_10152754227800950   Neutral           trump   \n",
       "131459315949_10152758428025950  Negative           trump   \n",
       "131459315949_10152766742570950   Neutral         clinton   \n",
       "131459315949_10152791196665950  Positive           other   \n",
       "\n",
       "                               naive_bayes_classification  \\\n",
       "status_id                                                   \n",
       "131459315949_10152751596575950                   Negative   \n",
       "131459315949_10152754227800950                    Neutral   \n",
       "131459315949_10152758428025950                   Negative   \n",
       "131459315949_10152766742570950                    Neutral   \n",
       "131459315949_10152791196665950                   Positive   \n",
       "\n",
       "                               decisiontree_classification  \\\n",
       "status_id                                                    \n",
       "131459315949_10152751596575950                    Negative   \n",
       "131459315949_10152754227800950                     Neutral   \n",
       "131459315949_10152758428025950                    Negative   \n",
       "131459315949_10152766742570950                     Neutral   \n",
       "131459315949_10152791196665950                    Positive   \n",
       "\n",
       "                               maxent_classification  \\\n",
       "status_id                                              \n",
       "131459315949_10152751596575950              Positive   \n",
       "131459315949_10152754227800950              Positive   \n",
       "131459315949_10152758428025950              Positive   \n",
       "131459315949_10152766742570950              Positive   \n",
       "131459315949_10152791196665950              Positive   \n",
       "\n",
       "                               multi_model_classification  \n",
       "status_id                                                  \n",
       "131459315949_10152751596575950                   Negative  \n",
       "131459315949_10152754227800950                    Neutral  \n",
       "131459315949_10152758428025950                   Negative  \n",
       "131459315949_10152766742570950                    Neutral  \n",
       "131459315949_10152791196665950                   Positive  "
      ]
     },
     "execution_count": 47,
     "metadata": {},
     "output_type": "execute_result"
    }
   ],
   "source": [
    "final_df[\"multi_model_classification\"] = final_df.naive_bayes_classification+final_df.decisiontree_classification+final_df.maxent_classification\n",
    "final_df[\"multi_model_classification\"] = final_df.multi_model_classification.apply(choose_sentiment)\n",
    "final_df[\"multi_model_classification\"] = final_df.apply(lambda x: x[\"naive_bayes_classification\"] if x[\"multi_model_classification\"] == \"Inconclusive\" else x[\"multi_model_classification\"],axis=1)\n",
    "final_df.head()"
   ]
  },
  {
   "cell_type": "code",
   "execution_count": 48,
   "metadata": {
    "collapsed": false
   },
   "outputs": [
    {
     "name": "stderr",
     "output_type": "stream",
     "text": [
      "/Users/Jared/anaconda2/lib/python2.7/site-packages/ipykernel/__main__.py:1: SettingWithCopyWarning: \n",
      "A value is trying to be set on a copy of a slice from a DataFrame.\n",
      "Try using .loc[row_indexer,col_indexer] = value instead\n",
      "\n",
      "See the caveats in the documentation: http://pandas.pydata.org/pandas-docs/stable/indexing.html#indexing-view-versus-copy\n",
      "  if __name__ == '__main__':\n",
      "/Users/Jared/anaconda2/lib/python2.7/site-packages/ipykernel/__main__.py:2: SettingWithCopyWarning: \n",
      "A value is trying to be set on a copy of a slice from a DataFrame.\n",
      "Try using .loc[row_indexer,col_indexer] = value instead\n",
      "\n",
      "See the caveats in the documentation: http://pandas.pydata.org/pandas-docs/stable/indexing.html#indexing-view-versus-copy\n",
      "  from ipykernel import kernelapp as app\n",
      "/Users/Jared/anaconda2/lib/python2.7/site-packages/ipykernel/__main__.py:3: SettingWithCopyWarning: \n",
      "A value is trying to be set on a copy of a slice from a DataFrame.\n",
      "Try using .loc[row_indexer,col_indexer] = value instead\n",
      "\n",
      "See the caveats in the documentation: http://pandas.pydata.org/pandas-docs/stable/indexing.html#indexing-view-versus-copy\n",
      "  app.launch_new_instance()\n"
     ]
    },
    {
     "data": {
      "text/html": [
       "<div>\n",
       "<table border=\"1\" class=\"dataframe\">\n",
       "  <thead>\n",
       "    <tr style=\"text-align: right;\">\n",
       "      <th></th>\n",
       "      <th>content</th>\n",
       "      <th>sentiment</th>\n",
       "      <th>candidate_label</th>\n",
       "      <th>naive_bayes_classification</th>\n",
       "      <th>decisiontree_classification</th>\n",
       "      <th>maxent_classification</th>\n",
       "      <th>multi_model_classification</th>\n",
       "    </tr>\n",
       "    <tr>\n",
       "      <th>status_id</th>\n",
       "      <th></th>\n",
       "      <th></th>\n",
       "      <th></th>\n",
       "      <th></th>\n",
       "      <th></th>\n",
       "      <th></th>\n",
       "      <th></th>\n",
       "    </tr>\n",
       "  </thead>\n",
       "  <tbody>\n",
       "    <tr>\n",
       "      <th>131459315949_10152754227800950</th>\n",
       "      <td>Donald Trump attend Republican presidential de...</td>\n",
       "      <td>Neutral</td>\n",
       "      <td>trump</td>\n",
       "      <td>Neutral</td>\n",
       "      <td>Neutral</td>\n",
       "      <td>Positive</td>\n",
       "      <td>Neutral</td>\n",
       "    </tr>\n",
       "    <tr>\n",
       "      <th>131459315949_10152758428025950</th>\n",
       "      <td>Conservatives criticized Donald Trump expressi...</td>\n",
       "      <td>Negative</td>\n",
       "      <td>trump</td>\n",
       "      <td>Negative</td>\n",
       "      <td>Negative</td>\n",
       "      <td>Positive</td>\n",
       "      <td>Negative</td>\n",
       "    </tr>\n",
       "    <tr>\n",
       "      <th>131459315949_10152871191975950</th>\n",
       "      <td>Donald Trump legality closing mosques looked</td>\n",
       "      <td>Neutral</td>\n",
       "      <td>trump</td>\n",
       "      <td>Neutral</td>\n",
       "      <td>Neutral</td>\n",
       "      <td>Positive</td>\n",
       "      <td>Neutral</td>\n",
       "    </tr>\n",
       "    <tr>\n",
       "      <th>131459315949_10152978451960950</th>\n",
       "      <td>Dr Ben Carson lead Republican presidential cam...</td>\n",
       "      <td>Positive</td>\n",
       "      <td>trump</td>\n",
       "      <td>Positive</td>\n",
       "      <td>Negative</td>\n",
       "      <td>Positive</td>\n",
       "      <td>Positive</td>\n",
       "    </tr>\n",
       "    <tr>\n",
       "      <th>131459315949_10153076683820950</th>\n",
       "      <td>fighting politically correct war Donald Trump ...</td>\n",
       "      <td>Neutral</td>\n",
       "      <td>trump</td>\n",
       "      <td>Neutral</td>\n",
       "      <td>Neutral</td>\n",
       "      <td>Positive</td>\n",
       "      <td>Neutral</td>\n",
       "    </tr>\n",
       "  </tbody>\n",
       "</table>\n",
       "</div>"
      ],
      "text/plain": [
       "                                                                          content  \\\n",
       "status_id                                                                           \n",
       "131459315949_10152754227800950  Donald Trump attend Republican presidential de...   \n",
       "131459315949_10152758428025950  Conservatives criticized Donald Trump expressi...   \n",
       "131459315949_10152871191975950       Donald Trump legality closing mosques looked   \n",
       "131459315949_10152978451960950  Dr Ben Carson lead Republican presidential cam...   \n",
       "131459315949_10153076683820950  fighting politically correct war Donald Trump ...   \n",
       "\n",
       "                               sentiment candidate_label  \\\n",
       "status_id                                                  \n",
       "131459315949_10152754227800950   Neutral           trump   \n",
       "131459315949_10152758428025950  Negative           trump   \n",
       "131459315949_10152871191975950   Neutral           trump   \n",
       "131459315949_10152978451960950  Positive           trump   \n",
       "131459315949_10153076683820950   Neutral           trump   \n",
       "\n",
       "                               naive_bayes_classification  \\\n",
       "status_id                                                   \n",
       "131459315949_10152754227800950                    Neutral   \n",
       "131459315949_10152758428025950                   Negative   \n",
       "131459315949_10152871191975950                    Neutral   \n",
       "131459315949_10152978451960950                   Positive   \n",
       "131459315949_10153076683820950                    Neutral   \n",
       "\n",
       "                               decisiontree_classification  \\\n",
       "status_id                                                    \n",
       "131459315949_10152754227800950                     Neutral   \n",
       "131459315949_10152758428025950                    Negative   \n",
       "131459315949_10152871191975950                     Neutral   \n",
       "131459315949_10152978451960950                    Negative   \n",
       "131459315949_10153076683820950                     Neutral   \n",
       "\n",
       "                               maxent_classification  \\\n",
       "status_id                                              \n",
       "131459315949_10152754227800950              Positive   \n",
       "131459315949_10152758428025950              Positive   \n",
       "131459315949_10152871191975950              Positive   \n",
       "131459315949_10152978451960950              Positive   \n",
       "131459315949_10153076683820950              Positive   \n",
       "\n",
       "                               multi_model_classification  \n",
       "status_id                                                  \n",
       "131459315949_10152754227800950                    Neutral  \n",
       "131459315949_10152758428025950                   Negative  \n",
       "131459315949_10152871191975950                    Neutral  \n",
       "131459315949_10152978451960950                   Positive  \n",
       "131459315949_10153076683820950                    Neutral  "
      ]
     },
     "execution_count": 48,
     "metadata": {},
     "output_type": "execute_result"
    }
   ],
   "source": [
    "trump_df[\"multi_model_classification\"] = trump_df.naive_bayes_classification+trump_df.decisiontree_classification+trump_df.maxent_classification\n",
    "trump_df[\"multi_model_classification\"] = trump_df.multi_model_classification.apply(choose_sentiment)\n",
    "trump_df[\"multi_model_classification\"] = trump_df.apply(lambda x: x[\"naive_bayes_classification\"] if x[\"multi_model_classification\"] == \"Inconclusive\" else x[\"multi_model_classification\"],axis=1)\n",
    "trump_df.head()"
   ]
  },
  {
   "cell_type": "code",
   "execution_count": 49,
   "metadata": {
    "collapsed": false
   },
   "outputs": [
    {
     "name": "stderr",
     "output_type": "stream",
     "text": [
      "/Users/Jared/anaconda2/lib/python2.7/site-packages/ipykernel/__main__.py:1: SettingWithCopyWarning: \n",
      "A value is trying to be set on a copy of a slice from a DataFrame.\n",
      "Try using .loc[row_indexer,col_indexer] = value instead\n",
      "\n",
      "See the caveats in the documentation: http://pandas.pydata.org/pandas-docs/stable/indexing.html#indexing-view-versus-copy\n",
      "  if __name__ == '__main__':\n",
      "/Users/Jared/anaconda2/lib/python2.7/site-packages/ipykernel/__main__.py:2: SettingWithCopyWarning: \n",
      "A value is trying to be set on a copy of a slice from a DataFrame.\n",
      "Try using .loc[row_indexer,col_indexer] = value instead\n",
      "\n",
      "See the caveats in the documentation: http://pandas.pydata.org/pandas-docs/stable/indexing.html#indexing-view-versus-copy\n",
      "  from ipykernel import kernelapp as app\n",
      "/Users/Jared/anaconda2/lib/python2.7/site-packages/ipykernel/__main__.py:3: SettingWithCopyWarning: \n",
      "A value is trying to be set on a copy of a slice from a DataFrame.\n",
      "Try using .loc[row_indexer,col_indexer] = value instead\n",
      "\n",
      "See the caveats in the documentation: http://pandas.pydata.org/pandas-docs/stable/indexing.html#indexing-view-versus-copy\n",
      "  app.launch_new_instance()\n"
     ]
    },
    {
     "data": {
      "text/html": [
       "<div>\n",
       "<table border=\"1\" class=\"dataframe\">\n",
       "  <thead>\n",
       "    <tr style=\"text-align: right;\">\n",
       "      <th></th>\n",
       "      <th>content</th>\n",
       "      <th>sentiment</th>\n",
       "      <th>candidate_label</th>\n",
       "      <th>naive_bayes_classification</th>\n",
       "      <th>decisiontree_classification</th>\n",
       "      <th>maxent_classifier</th>\n",
       "      <th>multi_model_classification</th>\n",
       "    </tr>\n",
       "    <tr>\n",
       "      <th>status_id</th>\n",
       "      <th></th>\n",
       "      <th></th>\n",
       "      <th></th>\n",
       "      <th></th>\n",
       "      <th></th>\n",
       "      <th></th>\n",
       "      <th></th>\n",
       "    </tr>\n",
       "  </thead>\n",
       "  <tbody>\n",
       "    <tr>\n",
       "      <th>131459315949_10152751596575950</th>\n",
       "      <td>opinion Hillary Clinton won opponents terrible...</td>\n",
       "      <td>Negative</td>\n",
       "      <td>clinton</td>\n",
       "      <td>Neutral</td>\n",
       "      <td>Negative</td>\n",
       "      <td>Negative</td>\n",
       "      <td>Negative</td>\n",
       "    </tr>\n",
       "    <tr>\n",
       "      <th>131459315949_10152766742570950</th>\n",
       "      <td>Hillary Clinton promised National Rifle Associ...</td>\n",
       "      <td>Neutral</td>\n",
       "      <td>clinton</td>\n",
       "      <td>Neutral</td>\n",
       "      <td>Neutral</td>\n",
       "      <td>Neutral</td>\n",
       "      <td>Neutral</td>\n",
       "    </tr>\n",
       "    <tr>\n",
       "      <th>131459315949_10152957933900950</th>\n",
       "      <td>Katy Perry performed rally Hillary Clinton Sat...</td>\n",
       "      <td>Positive</td>\n",
       "      <td>clinton</td>\n",
       "      <td>Positive</td>\n",
       "      <td>Positive</td>\n",
       "      <td>Positive</td>\n",
       "      <td>Positive</td>\n",
       "    </tr>\n",
       "    <tr>\n",
       "      <th>131459315949_10153018635795950</th>\n",
       "      <td>Politics Alert poll percent Hillary Clinton br...</td>\n",
       "      <td>Positive</td>\n",
       "      <td>clinton</td>\n",
       "      <td>Positive</td>\n",
       "      <td>Positive</td>\n",
       "      <td>Positive</td>\n",
       "      <td>Positive</td>\n",
       "    </tr>\n",
       "    <tr>\n",
       "      <th>131459315949_10153173878100950</th>\n",
       "      <td>voters mobbing Bernie Sanders events Iowa Hill...</td>\n",
       "      <td>Neutral</td>\n",
       "      <td>clinton</td>\n",
       "      <td>Neutral</td>\n",
       "      <td>Neutral</td>\n",
       "      <td>Neutral</td>\n",
       "      <td>Neutral</td>\n",
       "    </tr>\n",
       "  </tbody>\n",
       "</table>\n",
       "</div>"
      ],
      "text/plain": [
       "                                                                          content  \\\n",
       "status_id                                                                           \n",
       "131459315949_10152751596575950  opinion Hillary Clinton won opponents terrible...   \n",
       "131459315949_10152766742570950  Hillary Clinton promised National Rifle Associ...   \n",
       "131459315949_10152957933900950  Katy Perry performed rally Hillary Clinton Sat...   \n",
       "131459315949_10153018635795950  Politics Alert poll percent Hillary Clinton br...   \n",
       "131459315949_10153173878100950  voters mobbing Bernie Sanders events Iowa Hill...   \n",
       "\n",
       "                               sentiment candidate_label  \\\n",
       "status_id                                                  \n",
       "131459315949_10152751596575950  Negative         clinton   \n",
       "131459315949_10152766742570950   Neutral         clinton   \n",
       "131459315949_10152957933900950  Positive         clinton   \n",
       "131459315949_10153018635795950  Positive         clinton   \n",
       "131459315949_10153173878100950   Neutral         clinton   \n",
       "\n",
       "                               naive_bayes_classification  \\\n",
       "status_id                                                   \n",
       "131459315949_10152751596575950                    Neutral   \n",
       "131459315949_10152766742570950                    Neutral   \n",
       "131459315949_10152957933900950                   Positive   \n",
       "131459315949_10153018635795950                   Positive   \n",
       "131459315949_10153173878100950                    Neutral   \n",
       "\n",
       "                               decisiontree_classification maxent_classifier  \\\n",
       "status_id                                                                      \n",
       "131459315949_10152751596575950                    Negative          Negative   \n",
       "131459315949_10152766742570950                     Neutral           Neutral   \n",
       "131459315949_10152957933900950                    Positive          Positive   \n",
       "131459315949_10153018635795950                    Positive          Positive   \n",
       "131459315949_10153173878100950                     Neutral           Neutral   \n",
       "\n",
       "                               multi_model_classification  \n",
       "status_id                                                  \n",
       "131459315949_10152751596575950                   Negative  \n",
       "131459315949_10152766742570950                    Neutral  \n",
       "131459315949_10152957933900950                   Positive  \n",
       "131459315949_10153018635795950                   Positive  \n",
       "131459315949_10153173878100950                    Neutral  "
      ]
     },
     "execution_count": 49,
     "metadata": {},
     "output_type": "execute_result"
    }
   ],
   "source": [
    "clinton_df[\"multi_model_classification\"] = clinton_df.naive_bayes_classification+clinton_df.decisiontree_classification+clinton_df.maxent_classifier\n",
    "clinton_df[\"multi_model_classification\"] = clinton_df.multi_model_classification.apply(choose_sentiment)\n",
    "clinton_df[\"multi_model_classification\"] = clinton_df.apply(lambda x: x[\"naive_bayes_classification\"] if x[\"multi_model_classification\"] == \"Inconclusive\" else x[\"multi_model_classification\"],axis=1)\n",
    "clinton_df.head()"
   ]
  },
  {
   "cell_type": "code",
   "execution_count": 50,
   "metadata": {
    "collapsed": false
   },
   "outputs": [
    {
     "name": "stderr",
     "output_type": "stream",
     "text": [
      "/Users/Jared/anaconda2/lib/python2.7/site-packages/ipykernel/__main__.py:1: SettingWithCopyWarning: \n",
      "A value is trying to be set on a copy of a slice from a DataFrame.\n",
      "Try using .loc[row_indexer,col_indexer] = value instead\n",
      "\n",
      "See the caveats in the documentation: http://pandas.pydata.org/pandas-docs/stable/indexing.html#indexing-view-versus-copy\n",
      "  if __name__ == '__main__':\n",
      "/Users/Jared/anaconda2/lib/python2.7/site-packages/ipykernel/__main__.py:2: SettingWithCopyWarning: \n",
      "A value is trying to be set on a copy of a slice from a DataFrame.\n",
      "Try using .loc[row_indexer,col_indexer] = value instead\n",
      "\n",
      "See the caveats in the documentation: http://pandas.pydata.org/pandas-docs/stable/indexing.html#indexing-view-versus-copy\n",
      "  from ipykernel import kernelapp as app\n",
      "/Users/Jared/anaconda2/lib/python2.7/site-packages/ipykernel/__main__.py:3: SettingWithCopyWarning: \n",
      "A value is trying to be set on a copy of a slice from a DataFrame.\n",
      "Try using .loc[row_indexer,col_indexer] = value instead\n",
      "\n",
      "See the caveats in the documentation: http://pandas.pydata.org/pandas-docs/stable/indexing.html#indexing-view-versus-copy\n",
      "  app.launch_new_instance()\n"
     ]
    },
    {
     "data": {
      "text/html": [
       "<div>\n",
       "<table border=\"1\" class=\"dataframe\">\n",
       "  <thead>\n",
       "    <tr style=\"text-align: right;\">\n",
       "      <th></th>\n",
       "      <th>content</th>\n",
       "      <th>sentiment</th>\n",
       "      <th>candidate_label</th>\n",
       "      <th>naive_bayes_classification</th>\n",
       "      <th>decisiontree_classification</th>\n",
       "      <th>maxent_classifier</th>\n",
       "      <th>multi_model_classification</th>\n",
       "    </tr>\n",
       "    <tr>\n",
       "      <th>status_id</th>\n",
       "      <th></th>\n",
       "      <th></th>\n",
       "      <th></th>\n",
       "      <th></th>\n",
       "      <th></th>\n",
       "      <th></th>\n",
       "      <th></th>\n",
       "    </tr>\n",
       "  </thead>\n",
       "  <tbody>\n",
       "    <tr>\n",
       "      <th>131459315949_10152791196665950</th>\n",
       "      <td>crucial issues Canadian election referendum Pr...</td>\n",
       "      <td>Positive</td>\n",
       "      <td>other</td>\n",
       "      <td>Positive</td>\n",
       "      <td>Positive</td>\n",
       "      <td>Positive</td>\n",
       "      <td>Positive</td>\n",
       "    </tr>\n",
       "    <tr>\n",
       "      <th>131459315949_10152983500645950</th>\n",
       "      <td>election June percent country vote opposition ...</td>\n",
       "      <td>Positive</td>\n",
       "      <td>other</td>\n",
       "      <td>Positive</td>\n",
       "      <td>Positive</td>\n",
       "      <td>Positive</td>\n",
       "      <td>Positive</td>\n",
       "    </tr>\n",
       "    <tr>\n",
       "      <th>131459315949_10153139941305950</th>\n",
       "      <td>Donald Trump referenced male anatomy describe ...</td>\n",
       "      <td>Negative</td>\n",
       "      <td>other</td>\n",
       "      <td>Negative</td>\n",
       "      <td>Negative</td>\n",
       "      <td>Negative</td>\n",
       "      <td>Negative</td>\n",
       "    </tr>\n",
       "    <tr>\n",
       "      <th>131459315949_10153248450690950</th>\n",
       "      <td>taste Hillary Clinton rally full Demi Lovato l...</td>\n",
       "      <td>Neutral</td>\n",
       "      <td>other</td>\n",
       "      <td>Neutral</td>\n",
       "      <td>Neutral</td>\n",
       "      <td>Neutral</td>\n",
       "      <td>Neutral</td>\n",
       "    </tr>\n",
       "    <tr>\n",
       "      <th>131459315949_10153257668255950</th>\n",
       "      <td>stake year election Well things fate planet Re...</td>\n",
       "      <td>Neutral</td>\n",
       "      <td>other</td>\n",
       "      <td>Neutral</td>\n",
       "      <td>Neutral</td>\n",
       "      <td>Neutral</td>\n",
       "      <td>Neutral</td>\n",
       "    </tr>\n",
       "  </tbody>\n",
       "</table>\n",
       "</div>"
      ],
      "text/plain": [
       "                                                                          content  \\\n",
       "status_id                                                                           \n",
       "131459315949_10152791196665950  crucial issues Canadian election referendum Pr...   \n",
       "131459315949_10152983500645950  election June percent country vote opposition ...   \n",
       "131459315949_10153139941305950  Donald Trump referenced male anatomy describe ...   \n",
       "131459315949_10153248450690950  taste Hillary Clinton rally full Demi Lovato l...   \n",
       "131459315949_10153257668255950  stake year election Well things fate planet Re...   \n",
       "\n",
       "                               sentiment candidate_label  \\\n",
       "status_id                                                  \n",
       "131459315949_10152791196665950  Positive           other   \n",
       "131459315949_10152983500645950  Positive           other   \n",
       "131459315949_10153139941305950  Negative           other   \n",
       "131459315949_10153248450690950   Neutral           other   \n",
       "131459315949_10153257668255950   Neutral           other   \n",
       "\n",
       "                               naive_bayes_classification  \\\n",
       "status_id                                                   \n",
       "131459315949_10152791196665950                   Positive   \n",
       "131459315949_10152983500645950                   Positive   \n",
       "131459315949_10153139941305950                   Negative   \n",
       "131459315949_10153248450690950                    Neutral   \n",
       "131459315949_10153257668255950                    Neutral   \n",
       "\n",
       "                               decisiontree_classification maxent_classifier  \\\n",
       "status_id                                                                      \n",
       "131459315949_10152791196665950                    Positive          Positive   \n",
       "131459315949_10152983500645950                    Positive          Positive   \n",
       "131459315949_10153139941305950                    Negative          Negative   \n",
       "131459315949_10153248450690950                     Neutral           Neutral   \n",
       "131459315949_10153257668255950                     Neutral           Neutral   \n",
       "\n",
       "                               multi_model_classification  \n",
       "status_id                                                  \n",
       "131459315949_10152791196665950                   Positive  \n",
       "131459315949_10152983500645950                   Positive  \n",
       "131459315949_10153139941305950                   Negative  \n",
       "131459315949_10153248450690950                    Neutral  \n",
       "131459315949_10153257668255950                    Neutral  "
      ]
     },
     "execution_count": 50,
     "metadata": {},
     "output_type": "execute_result"
    }
   ],
   "source": [
    "other_df[\"multi_model_classification\"] = other_df.naive_bayes_classification+other_df.decisiontree_classification+other_df.maxent_classifier\n",
    "other_df[\"multi_model_classification\"] = other_df.multi_model_classification.apply(choose_sentiment)\n",
    "other_df[\"multi_model_classification\"] = other_df.apply(lambda x: x[\"naive_bayes_classification\"] if x[\"multi_model_classification\"] == \"Inconclusive\" else x[\"multi_model_classification\"],axis=1)\n",
    "other_df.head()"
   ]
  },
  {
   "cell_type": "markdown",
   "metadata": {},
   "source": [
    "## Testing Accuracy"
   ]
  },
  {
   "cell_type": "code",
   "execution_count": 71,
   "metadata": {
    "collapsed": false
   },
   "outputs": [],
   "source": [
    "def judge_accuracy(df,column_to_judge,correct_column):\n",
    "    num_of_correct = 0\n",
    "    for index,row in df.iterrows():\n",
    "        if row[column_to_judge] == row[correct_column]:\n",
    "            num_of_correct+=1\n",
    "    return float(num_of_correct)/len(df.index)"
   ]
  },
  {
   "cell_type": "code",
   "execution_count": 72,
   "metadata": {
    "collapsed": false
   },
   "outputs": [],
   "source": [
    "def judge_poor_prediction_accuracy(df,column_to_judge,correct_column):\n",
    "    num_of_poor_predictions = 0\n",
    "    for index,row in df.iterrows():\n",
    "        if ((row[column_to_judge] == 'Positive') and (row[correct_column] == 'Negative')) or ((row[column_to_judge] == 'Negative') and (row[correct_column] == 'Positive')):\n",
    "            num_of_poor_predictions+=1\n",
    "    return float(num_of_poor_predictions)/len(df.index)"
   ]
  },
  {
   "cell_type": "code",
   "execution_count": 53,
   "metadata": {
    "collapsed": false
   },
   "outputs": [
    {
     "name": "stdout",
     "output_type": "stream",
     "text": [
      "Final Accuracy, \n",
      "Naive Bayes Accuracy:  0.463356973995\n",
      "Decision Accuracy:  0.446808510638\n",
      "Maxent Accuracy:  0.302600472813\n",
      "Multi Model Accuracy:  0.45390070922\n"
     ]
    }
   ],
   "source": [
    "print \"Final Accuracy, \"\n",
    "print \"Naive Bayes Accuracy: \", judge_accuracy(final_df.tail(halfway_pt),'naive_bayes_classification','sentiment')\n",
    "print \"Decision Accuracy: \", judge_accuracy(final_df.tail(halfway_pt),'decisiontree_classification','sentiment')\n",
    "print \"Maxent Accuracy: \", judge_accuracy(final_df.tail(halfway_pt),'maxent_classification','sentiment')\n",
    "print \"Multi Model Accuracy: \", judge_accuracy(final_df.tail(halfway_pt),'multi_model_classification','sentiment')"
   ]
  },
  {
   "cell_type": "code",
   "execution_count": 54,
   "metadata": {
    "collapsed": false
   },
   "outputs": [
    {
     "name": "stdout",
     "output_type": "stream",
     "text": [
      "Final Poor Prediction Percent, \n",
      "Naive Bayes:  0.0780141843972\n",
      "Decision:  0.080378250591\n",
      "Maxent:  0.278959810875\n",
      "Multi Model:  0.096926713948\n"
     ]
    }
   ],
   "source": [
    "print \"Final Poor Prediction Percent, \"\n",
    "print \"Naive Bayes: \", judge_poor_prediction_accuracy(final_df.tail(halfway_pt),'naive_bayes_classification','sentiment')\n",
    "print \"Decision: \", judge_poor_prediction_accuracy(final_df.tail(halfway_pt),'decisiontree_classification','sentiment')\n",
    "print \"Maxent: \", judge_poor_prediction_accuracy(final_df.tail(halfway_pt),'maxent_classification','sentiment')\n",
    "print \"Multi Model: \", judge_poor_prediction_accuracy(final_df.tail(halfway_pt),'multi_model_classification','sentiment')"
   ]
  },
  {
   "cell_type": "code",
   "execution_count": 55,
   "metadata": {
    "collapsed": false
   },
   "outputs": [
    {
     "name": "stdout",
     "output_type": "stream",
     "text": [
      "Trump Accuracy, \n",
      "Naive Bayes Accuracy:  0.428571428571\n",
      "Decision Accuracy:  0.424489795918\n",
      "Maxent Accuracy:  0.285714285714\n",
      "Multi Model Accuracy:  0.416326530612\n"
     ]
    }
   ],
   "source": [
    "print \"Trump Accuracy, \"\n",
    "print \"Naive Bayes Accuracy: \", judge_accuracy(trump_df.tail(trump_halfway_pt),'naive_bayes_classification','sentiment')\n",
    "print \"Decision Accuracy: \", judge_accuracy(trump_df.tail(trump_halfway_pt),'decisiontree_classification','sentiment')\n",
    "print \"Maxent Accuracy: \", judge_accuracy(trump_df.tail(trump_halfway_pt),'maxent_classification','sentiment')\n",
    "print \"Multi Model Accuracy: \", judge_accuracy(trump_df.tail(trump_halfway_pt),'multi_model_classification','sentiment')"
   ]
  },
  {
   "cell_type": "code",
   "execution_count": 56,
   "metadata": {
    "collapsed": false
   },
   "outputs": [
    {
     "name": "stdout",
     "output_type": "stream",
     "text": [
      "Trump Poor Prediction Percent, \n",
      "Naive Bayes:  0.118367346939\n",
      "Decision:  0.0897959183673\n",
      "Maxent:  0.34693877551\n",
      "Multi Model:  0.118367346939\n"
     ]
    }
   ],
   "source": [
    "print \"Trump Poor Prediction Percent, \"\n",
    "print \"Naive Bayes: \", judge_poor_prediction_accuracy(trump_df.tail(trump_halfway_pt),'naive_bayes_classification','sentiment')\n",
    "print \"Decision: \", judge_poor_prediction_accuracy(trump_df.tail(trump_halfway_pt),'decisiontree_classification','sentiment')\n",
    "print \"Maxent: \", judge_poor_prediction_accuracy(trump_df.tail(trump_halfway_pt),'maxent_classification','sentiment')\n",
    "print \"Multi Model: \", judge_poor_prediction_accuracy(trump_df.tail(trump_halfway_pt),'multi_model_classification','sentiment')"
   ]
  },
  {
   "cell_type": "code",
   "execution_count": 57,
   "metadata": {
    "collapsed": false
   },
   "outputs": [
    {
     "name": "stdout",
     "output_type": "stream",
     "text": [
      "Clinton Accuracy\n",
      "Naive Bayes Accuracy:  0.553191489362\n",
      "Decision Accuracy:  0.5\n",
      "Maxent Accuracy:  0.5\n",
      "Multi Model Accuracy:  0.531914893617\n"
     ]
    }
   ],
   "source": [
    "print \"Clinton Accuracy\"\n",
    "print \"Naive Bayes Accuracy: \", judge_accuracy(clinton_df.tail(clinton_halfway_pt),'naive_bayes_classification','sentiment')\n",
    "print \"Decision Accuracy: \", judge_accuracy(clinton_df.tail(clinton_halfway_pt),'decisiontree_classification','sentiment')\n",
    "print \"Maxent Accuracy: \", judge_accuracy(clinton_df.tail(clinton_halfway_pt),'maxent_classifier','sentiment')\n",
    "print \"Multi Model Accuracy: \", judge_accuracy(clinton_df.tail(clinton_halfway_pt),'multi_model_classification','sentiment')"
   ]
  },
  {
   "cell_type": "code",
   "execution_count": 58,
   "metadata": {
    "collapsed": false
   },
   "outputs": [
    {
     "name": "stdout",
     "output_type": "stream",
     "text": [
      "Clinton Poor Prediction Percent\n",
      "Naive Bayes:  0.0851063829787\n",
      "Decision:  0.127659574468\n",
      "Maxent:  0.0957446808511\n",
      "Multi Model:  0.0851063829787\n"
     ]
    }
   ],
   "source": [
    "print \"Clinton Poor Prediction Percent\"\n",
    "print \"Naive Bayes: \", judge_poor_prediction_accuracy(clinton_df.tail(clinton_halfway_pt),'naive_bayes_classification','sentiment')\n",
    "print \"Decision: \", judge_poor_prediction_accuracy(clinton_df.tail(clinton_halfway_pt),'decisiontree_classification','sentiment')\n",
    "print \"Maxent: \", judge_poor_prediction_accuracy(clinton_df.tail(clinton_halfway_pt),'maxent_classifier','sentiment')\n",
    "print \"Multi Model: \", judge_poor_prediction_accuracy(clinton_df.tail(clinton_halfway_pt),'multi_model_classification','sentiment')"
   ]
  },
  {
   "cell_type": "code",
   "execution_count": 59,
   "metadata": {
    "collapsed": false
   },
   "outputs": [
    {
     "name": "stdout",
     "output_type": "stream",
     "text": [
      "Other Accuracy\n",
      "Naive Bayes Accuracy:  0.559523809524\n",
      "Decision Accuracy:  0.511904761905\n",
      "Maxent Accuracy:  0.535714285714\n",
      "Multi Model Accuracy:  0.547619047619\n"
     ]
    }
   ],
   "source": [
    "print \"Other Accuracy\"\n",
    "print \"Naive Bayes Accuracy: \", judge_accuracy(other_df.tail(other_halfway_pt),'naive_bayes_classification','sentiment')\n",
    "print \"Decision Accuracy: \", judge_accuracy(other_df.tail(other_halfway_pt),'decisiontree_classification','sentiment')\n",
    "print \"Maxent Accuracy: \", judge_accuracy(other_df.tail(other_halfway_pt),'maxent_classifier','sentiment')\n",
    "print \"Multi Model Accuracy: \", judge_accuracy(other_df.tail(other_halfway_pt),'multi_model_classification','sentiment')"
   ]
  },
  {
   "cell_type": "code",
   "execution_count": 60,
   "metadata": {
    "collapsed": false
   },
   "outputs": [
    {
     "name": "stdout",
     "output_type": "stream",
     "text": [
      "Other Poor Prediction Percent\n",
      "Naive Bayes:  0.0357142857143\n",
      "Decision:  0.0595238095238\n",
      "Maxent:  0.0833333333333\n",
      "Multi Model:  0.047619047619\n"
     ]
    }
   ],
   "source": [
    "print \"Other Poor Prediction Percent\"\n",
    "print \"Naive Bayes: \", judge_poor_prediction_accuracy(other_df.tail(other_halfway_pt),'naive_bayes_classification','sentiment')\n",
    "print \"Decision: \", judge_poor_prediction_accuracy(other_df.tail(other_halfway_pt),'decisiontree_classification','sentiment')\n",
    "print \"Maxent: \", judge_poor_prediction_accuracy(other_df.tail(other_halfway_pt),'maxent_classifier','sentiment')\n",
    "print \"Multi Model: \", judge_poor_prediction_accuracy(other_df.tail(other_halfway_pt),'multi_model_classification','sentiment')"
   ]
  },
  {
   "cell_type": "markdown",
   "metadata": {},
   "source": [
    "## Classifying Posts"
   ]
  },
  {
   "cell_type": "code",
   "execution_count": 73,
   "metadata": {
    "collapsed": true
   },
   "outputs": [],
   "source": [
    "def classify_posts(df,classifier,classification_column):\n",
    "    df[classification_column] = df.content.apply(lambda x: classifier.classify(x))\n",
    "    \n",
    "\n",
    "def judge_accuracy(df,column_to_judge,correct_column):\n",
    "    num_of_correct = 0\n",
    "    for index,row in df.iterrows():\n",
    "        if row[column_to_judge] == row[correct_column]:\n",
    "            num_of_correct+=1\n",
    "    return float(num_of_correct)/len(df.index)\n",
    "    \n",
    "    "
   ]
  },
  {
   "cell_type": "code",
   "execution_count": 74,
   "metadata": {
    "collapsed": true
   },
   "outputs": [],
   "source": [
    "cbs_df = pd.read_csv('../Facebook_RAW/CBSNews_facebook_statuses.csv')\n",
    "cnn_df = pd.read_csv('../Facebook_RAW/cnn_facebook_statuses.csv')\n",
    "fox_df = pd.read_csv('../Facebook_RAW/FoxNews_facebook_statuses.csv')\n",
    "msnbc_df = pd.read_csv('../Facebook_RAW/msnbc_facebook_statuses.csv')\n",
    "nyt_df = pd.read_csv('../Facebook_RAW/nytimes_facebook_statuses.csv')\n",
    "usatoday_df = pd.read_csv('../Facebook_RAW/usatoday_facebook_statuses.csv')\n",
    "wsj_df = pd.read_csv('../Facebook_RAW/wsj_facebook_statuses.csv')"
   ]
  },
  {
   "cell_type": "code",
   "execution_count": 75,
   "metadata": {
    "collapsed": false
   },
   "outputs": [
    {
     "data": {
      "text/html": [
       "<div>\n",
       "<table border=\"1\" class=\"dataframe\">\n",
       "  <thead>\n",
       "    <tr style=\"text-align: right;\">\n",
       "      <th></th>\n",
       "      <th>status_id</th>\n",
       "      <th>status_message</th>\n",
       "      <th>link_name</th>\n",
       "      <th>status_type</th>\n",
       "      <th>status_link</th>\n",
       "      <th>status_published</th>\n",
       "      <th>num_likes</th>\n",
       "      <th>num_comments</th>\n",
       "      <th>num_shares</th>\n",
       "    </tr>\n",
       "  </thead>\n",
       "  <tbody>\n",
       "    <tr>\n",
       "      <th>0</th>\n",
       "      <td>131459315949_10154079219290950</td>\n",
       "      <td>Management of the complex on the Upper West Si...</td>\n",
       "      <td>Three New York buildings to ditch Trump name</td>\n",
       "      <td>link</td>\n",
       "      <td>http://cbsn.ws/2f2NFK3</td>\n",
       "      <td>2016-11-15 22:18:03</td>\n",
       "      <td>625</td>\n",
       "      <td>178</td>\n",
       "      <td>102</td>\n",
       "    </tr>\n",
       "    <tr>\n",
       "      <th>1</th>\n",
       "      <td>131459315949_10154079127695950</td>\n",
       "      <td>Her company says they are “still making adjust...</td>\n",
       "      <td>Ivanka Trump criticized for promoting diamond ...</td>\n",
       "      <td>link</td>\n",
       "      <td>http://cbsn.ws/2fUeDRS</td>\n",
       "      <td>2016-11-15 21:33:03</td>\n",
       "      <td>399</td>\n",
       "      <td>820</td>\n",
       "      <td>187</td>\n",
       "    </tr>\n",
       "    <tr>\n",
       "      <th>2</th>\n",
       "      <td>131459315949_10154079007415950</td>\n",
       "      <td>In the days following the election, the ACLU N...</td>\n",
       "      <td>ACLU, Planned Parenthood are receiving \"unprec...</td>\n",
       "      <td>video</td>\n",
       "      <td>https://www.facebook.com/CBSNews/videos/101540...</td>\n",
       "      <td>2016-11-15 20:37:47</td>\n",
       "      <td>494</td>\n",
       "      <td>151</td>\n",
       "      <td>114</td>\n",
       "    </tr>\n",
       "    <tr>\n",
       "      <th>3</th>\n",
       "      <td>131459315949_10154078949670950</td>\n",
       "      <td>In this city, someone spray painted \"black liv...</td>\n",
       "      <td>More than 200 hate crimes reported since the e...</td>\n",
       "      <td>link</td>\n",
       "      <td>http://cbsn.ws/2fTvJz9</td>\n",
       "      <td>2016-11-15 20:01:06</td>\n",
       "      <td>269</td>\n",
       "      <td>391</td>\n",
       "      <td>427</td>\n",
       "    </tr>\n",
       "    <tr>\n",
       "      <th>4</th>\n",
       "      <td>131459315949_10154078822465950</td>\n",
       "      <td>The latest on the Trump transition team:\\n- Tr...</td>\n",
       "      <td>LIVE BLOG: Trump transition to the White House</td>\n",
       "      <td>link</td>\n",
       "      <td>http://cbsn.ws/2fTYJHl</td>\n",
       "      <td>2016-11-15 19:01:02</td>\n",
       "      <td>171</td>\n",
       "      <td>322</td>\n",
       "      <td>85</td>\n",
       "    </tr>\n",
       "  </tbody>\n",
       "</table>\n",
       "</div>"
      ],
      "text/plain": [
       "                        status_id  \\\n",
       "0  131459315949_10154079219290950   \n",
       "1  131459315949_10154079127695950   \n",
       "2  131459315949_10154079007415950   \n",
       "3  131459315949_10154078949670950   \n",
       "4  131459315949_10154078822465950   \n",
       "\n",
       "                                      status_message  \\\n",
       "0  Management of the complex on the Upper West Si...   \n",
       "1  Her company says they are “still making adjust...   \n",
       "2  In the days following the election, the ACLU N...   \n",
       "3  In this city, someone spray painted \"black liv...   \n",
       "4  The latest on the Trump transition team:\\n- Tr...   \n",
       "\n",
       "                                           link_name status_type  \\\n",
       "0       Three New York buildings to ditch Trump name        link   \n",
       "1  Ivanka Trump criticized for promoting diamond ...        link   \n",
       "2  ACLU, Planned Parenthood are receiving \"unprec...       video   \n",
       "3  More than 200 hate crimes reported since the e...        link   \n",
       "4     LIVE BLOG: Trump transition to the White House        link   \n",
       "\n",
       "                                         status_link     status_published  \\\n",
       "0                             http://cbsn.ws/2f2NFK3  2016-11-15 22:18:03   \n",
       "1                             http://cbsn.ws/2fUeDRS  2016-11-15 21:33:03   \n",
       "2  https://www.facebook.com/CBSNews/videos/101540...  2016-11-15 20:37:47   \n",
       "3                             http://cbsn.ws/2fTvJz9  2016-11-15 20:01:06   \n",
       "4                             http://cbsn.ws/2fTYJHl  2016-11-15 19:01:02   \n",
       "\n",
       "   num_likes  num_comments  num_shares  \n",
       "0        625           178         102  \n",
       "1        399           820         187  \n",
       "2        494           151         114  \n",
       "3        269           391         427  \n",
       "4        171           322          85  "
      ]
     },
     "execution_count": 75,
     "metadata": {},
     "output_type": "execute_result"
    }
   ],
   "source": [
    "cbs_df.head()"
   ]
  },
  {
   "cell_type": "code",
   "execution_count": 69,
   "metadata": {
    "collapsed": false
   },
   "outputs": [
    {
     "data": {
      "text/html": [
       "<div>\n",
       "<table border=\"1\" class=\"dataframe\">\n",
       "  <thead>\n",
       "    <tr style=\"text-align: right;\">\n",
       "      <th></th>\n",
       "      <th>content</th>\n",
       "      <th>sentiment</th>\n",
       "      <th>candidate_label</th>\n",
       "      <th>naive_bayes_classification</th>\n",
       "      <th>decisiontree_classification</th>\n",
       "      <th>maxent_classification</th>\n",
       "      <th>multi_model_classification</th>\n",
       "    </tr>\n",
       "    <tr>\n",
       "      <th>status_id</th>\n",
       "      <th></th>\n",
       "      <th></th>\n",
       "      <th></th>\n",
       "      <th></th>\n",
       "      <th></th>\n",
       "      <th></th>\n",
       "      <th></th>\n",
       "    </tr>\n",
       "  </thead>\n",
       "  <tbody>\n",
       "    <tr>\n",
       "      <th>131459315949_10152751596575950</th>\n",
       "      <td>opinion won opponents terrible Ryan Lizza Yorker</td>\n",
       "      <td>Negative</td>\n",
       "      <td>clinton</td>\n",
       "      <td>Negative</td>\n",
       "      <td>Negative</td>\n",
       "      <td>Positive</td>\n",
       "      <td>Negative</td>\n",
       "    </tr>\n",
       "    <tr>\n",
       "      <th>131459315949_10152754227800950</th>\n",
       "      <td>attend Republican presidential debate criteria...</td>\n",
       "      <td>Neutral</td>\n",
       "      <td>trump</td>\n",
       "      <td>Neutral</td>\n",
       "      <td>Neutral</td>\n",
       "      <td>Positive</td>\n",
       "      <td>Neutral</td>\n",
       "    </tr>\n",
       "    <tr>\n",
       "      <th>131459315949_10152758428025950</th>\n",
       "      <td>Conservatives criticized expressing liberal vi...</td>\n",
       "      <td>Negative</td>\n",
       "      <td>trump</td>\n",
       "      <td>Negative</td>\n",
       "      <td>Negative</td>\n",
       "      <td>Positive</td>\n",
       "      <td>Negative</td>\n",
       "    </tr>\n",
       "    <tr>\n",
       "      <th>131459315949_10152766742570950</th>\n",
       "      <td>promised National Rifle Association fight</td>\n",
       "      <td>Neutral</td>\n",
       "      <td>clinton</td>\n",
       "      <td>Neutral</td>\n",
       "      <td>Neutral</td>\n",
       "      <td>Positive</td>\n",
       "      <td>Neutral</td>\n",
       "    </tr>\n",
       "    <tr>\n",
       "      <th>131459315949_10152791196665950</th>\n",
       "      <td>crucial issues Canadian election referendum Pr...</td>\n",
       "      <td>Positive</td>\n",
       "      <td>other</td>\n",
       "      <td>Positive</td>\n",
       "      <td>Positive</td>\n",
       "      <td>Positive</td>\n",
       "      <td>Positive</td>\n",
       "    </tr>\n",
       "  </tbody>\n",
       "</table>\n",
       "</div>"
      ],
      "text/plain": [
       "                                                                          content  \\\n",
       "status_id                                                                           \n",
       "131459315949_10152751596575950   opinion won opponents terrible Ryan Lizza Yorker   \n",
       "131459315949_10152754227800950  attend Republican presidential debate criteria...   \n",
       "131459315949_10152758428025950  Conservatives criticized expressing liberal vi...   \n",
       "131459315949_10152766742570950          promised National Rifle Association fight   \n",
       "131459315949_10152791196665950  crucial issues Canadian election referendum Pr...   \n",
       "\n",
       "                               sentiment candidate_label  \\\n",
       "status_id                                                  \n",
       "131459315949_10152751596575950  Negative         clinton   \n",
       "131459315949_10152754227800950   Neutral           trump   \n",
       "131459315949_10152758428025950  Negative           trump   \n",
       "131459315949_10152766742570950   Neutral         clinton   \n",
       "131459315949_10152791196665950  Positive           other   \n",
       "\n",
       "                               naive_bayes_classification  \\\n",
       "status_id                                                   \n",
       "131459315949_10152751596575950                   Negative   \n",
       "131459315949_10152754227800950                    Neutral   \n",
       "131459315949_10152758428025950                   Negative   \n",
       "131459315949_10152766742570950                    Neutral   \n",
       "131459315949_10152791196665950                   Positive   \n",
       "\n",
       "                               decisiontree_classification  \\\n",
       "status_id                                                    \n",
       "131459315949_10152751596575950                    Negative   \n",
       "131459315949_10152754227800950                     Neutral   \n",
       "131459315949_10152758428025950                    Negative   \n",
       "131459315949_10152766742570950                     Neutral   \n",
       "131459315949_10152791196665950                    Positive   \n",
       "\n",
       "                               maxent_classification  \\\n",
       "status_id                                              \n",
       "131459315949_10152751596575950              Positive   \n",
       "131459315949_10152754227800950              Positive   \n",
       "131459315949_10152758428025950              Positive   \n",
       "131459315949_10152766742570950              Positive   \n",
       "131459315949_10152791196665950              Positive   \n",
       "\n",
       "                               multi_model_classification  \n",
       "status_id                                                  \n",
       "131459315949_10152751596575950                   Negative  \n",
       "131459315949_10152754227800950                    Neutral  \n",
       "131459315949_10152758428025950                   Negative  \n",
       "131459315949_10152766742570950                    Neutral  \n",
       "131459315949_10152791196665950                   Positive  "
      ]
     },
     "execution_count": 69,
     "metadata": {},
     "output_type": "execute_result"
    }
   ],
   "source": [
    "new_cbs_df = clean_df(cbs_df)\n",
    "new_cbs_df.head()"
   ]
  },
  {
   "cell_type": "markdown",
   "metadata": {},
   "source": [
    "## Cleaned Up Run "
   ]
  },
  {
   "cell_type": "markdown",
   "metadata": {},
   "source": [
    "## TextBlob Accuracy Test "
   ]
  },
  {
   "cell_type": "code",
   "execution_count": 43,
   "metadata": {
    "collapsed": false,
    "scrolled": true
   },
   "outputs": [
    {
     "name": "stdout",
     "output_type": "stream",
     "text": [
      "Calculating Trump Accuracy\n",
      "  ==> Training (100 iterations)\n",
      "\n",
      "      Iteration    Log Likelihood    Accuracy\n",
      "      ---------------------------------------\n",
      "             1          -1.09861        0.278\n",
      "         Final               nan        0.278\n",
      "Done Calculating Trump Accuracy\n",
      "Calculating Clinton Accuracy\n",
      "  ==> Training (100 iterations)\n",
      "\n",
      "      Iteration    Log Likelihood    Accuracy\n",
      "      ---------------------------------------\n",
      "             1          -1.09861        0.447\n",
      "             2          -0.16223        0.989\n",
      "             3          -0.05147        0.989\n",
      "             4          -0.02733        0.989\n",
      "             5          -0.01937        0.989\n",
      "             6          -0.01587        0.989\n",
      "             7          -0.01400        0.989\n",
      "             8          -0.01288        0.989\n",
      "             9          -0.01216        0.989\n",
      "            10          -0.01168        0.989\n",
      "            11          -0.01137        0.989\n",
      "            12          -0.01115        0.989\n",
      "            13          -0.01100        0.989\n",
      "            14          -0.01091        0.989\n",
      "            15          -0.01084        0.989\n",
      "            16          -0.01079        0.989\n",
      "            17          -0.01076        0.989\n",
      "            18          -0.01074        0.989\n",
      "            19          -0.01073        0.989\n",
      "            20          -0.01072        0.989\n",
      "            21          -0.01071        0.989\n",
      "            22          -0.01070        0.989\n",
      "            23          -0.01070        0.989\n",
      "            24          -0.01070        0.989\n",
      "            25          -0.01070        0.989\n",
      "            26          -0.01070        0.989\n",
      "            27          -0.01070        0.989\n",
      "            28          -0.01070        0.989\n",
      "            29          -0.01070        0.989\n",
      "            30          -0.01070        0.989\n",
      "            31          -0.01070        0.989\n",
      "            32          -0.01070        0.989\n",
      "            33          -0.01070        0.989\n",
      "            34          -0.01070        0.989\n",
      "            35          -0.01070        0.989\n",
      "            36          -0.01070        0.989\n",
      "            37          -0.01070        0.989\n",
      "            38          -0.01070        0.989\n",
      "            39          -0.01070        0.989\n",
      "            40          -0.01070        0.989\n",
      "            41          -0.01070        0.989\n",
      "            42          -0.01070        0.989\n",
      "            43          -0.01070        0.989\n",
      "            44          -0.01070        0.989\n",
      "            45          -0.01070        0.989\n",
      "            46          -0.01070        0.989\n",
      "            47          -0.01070        0.989\n",
      "            48          -0.01070        0.989\n",
      "            49          -0.01070        0.989\n",
      "            50          -0.01070        0.989\n",
      "            51          -0.01070        0.989\n",
      "            52          -0.01070        0.989\n",
      "            53          -0.01070        0.989\n",
      "            54          -0.01070        0.989\n",
      "            55          -0.01070        0.989\n",
      "            56          -0.01070        0.989\n",
      "            57          -0.01070        0.989\n",
      "            58          -0.01070        0.989\n",
      "            59          -0.01070        0.989\n",
      "            60          -0.01070        0.989\n",
      "            61          -0.01070        0.989\n",
      "            62          -0.01070        0.989\n",
      "            63          -0.01070        0.989\n",
      "            64          -0.01070        0.989\n",
      "            65          -0.01070        0.989\n",
      "            66          -0.01070        0.989\n",
      "            67          -0.01070        0.989\n",
      "            68          -0.01070        0.989\n",
      "            69          -0.01070        0.989\n",
      "            70          -0.01070        0.989\n",
      "            71          -0.01070        0.989\n",
      "            72          -0.01070        0.989\n",
      "            73          -0.01070        0.989\n",
      "            74          -0.01070        0.989\n",
      "            75          -0.01070        0.989\n",
      "            76          -0.01070        0.989\n",
      "            77          -0.01070        0.989\n",
      "            78          -0.01070        0.989\n",
      "            79          -0.01070        0.989\n",
      "            80          -0.01070        0.989\n",
      "            81          -0.01070        0.989\n",
      "            82          -0.01070        0.989\n",
      "            83          -0.01070        0.989\n",
      "            84          -0.01070        0.989\n",
      "            85          -0.01070        0.989\n",
      "            86          -0.01070        0.989\n",
      "            87          -0.01070        0.989\n",
      "            88          -0.01070        0.989\n",
      "            89          -0.01070        0.989\n",
      "            90          -0.01070        0.989\n",
      "            91          -0.01070        0.989\n",
      "            92          -0.01070        0.989\n",
      "            93          -0.01070        0.989\n",
      "            94          -0.01070        0.989\n",
      "            95          -0.01070        0.989\n",
      "            96          -0.01070        0.989\n",
      "            97          -0.01070        0.989\n",
      "            98          -0.01070        0.989\n",
      "            99          -0.01070        0.989\n",
      "         Final          -0.01070        0.989\n",
      "Done Calculating Clinton Accuracy\n",
      "Calculating Other Accuracy\n",
      "  ==> Training (100 iterations)\n",
      "\n",
      "      Iteration    Log Likelihood    Accuracy\n",
      "      ---------------------------------------\n",
      "             1          -1.09861        0.286\n",
      "             2          -0.27343        1.000\n",
      "             3          -0.09956        1.000\n",
      "             4          -0.04796        1.000\n",
      "             5          -0.02775        1.000\n",
      "             6          -0.01846        1.000\n",
      "             7          -0.01375        1.000\n",
      "             8          -0.01117        1.000\n",
      "             9          -0.00967        1.000\n",
      "            10          -0.00876        1.000\n",
      "            11          -0.00818        1.000\n",
      "            12          -0.00779        1.000\n",
      "            13          -0.00754        1.000\n",
      "            14          -0.00736        1.000\n",
      "            15          -0.00723        1.000\n",
      "            16          -0.00714        1.000\n",
      "            17          -0.00708        1.000\n",
      "            18          -0.00703        1.000\n",
      "            19          -0.00700        1.000\n",
      "            20          -0.00697        1.000\n",
      "            21          -0.00695        1.000\n",
      "            22          -0.00694        1.000\n",
      "            23          -0.00693        1.000\n",
      "            24          -0.00692        1.000\n",
      "            25          -0.00692        1.000\n",
      "            26          -0.00691        1.000\n",
      "            27          -0.00691        1.000\n",
      "            28          -0.00691        1.000\n",
      "            29          -0.00691        1.000\n",
      "            30          -0.00690        1.000\n",
      "            31          -0.00690        1.000\n",
      "            32          -0.00690        1.000\n",
      "            33          -0.00690        1.000\n",
      "            34          -0.00690        1.000\n",
      "            35          -0.00690        1.000\n",
      "            36          -0.00690        1.000\n",
      "            37          -0.00690        1.000\n",
      "            38          -0.00690        1.000\n",
      "            39          -0.00690        1.000\n",
      "            40          -0.00690        1.000\n",
      "            41          -0.00690        1.000\n",
      "            42          -0.00690        1.000\n",
      "            43          -0.00690        1.000\n",
      "            44          -0.00690        1.000\n",
      "            45          -0.00690        1.000\n",
      "            46          -0.00690        1.000\n",
      "            47          -0.00690        1.000\n",
      "            48          -0.00690        1.000\n",
      "            49          -0.00690        1.000\n",
      "            50          -0.00690        1.000\n",
      "            51          -0.00690        1.000\n",
      "            52          -0.00690        1.000\n",
      "            53          -0.00690        1.000\n",
      "            54          -0.00690        1.000\n",
      "            55          -0.00690        1.000\n",
      "            56          -0.00690        1.000\n",
      "            57          -0.00690        1.000\n",
      "            58          -0.00690        1.000\n",
      "            59          -0.00690        1.000\n",
      "            60          -0.00690        1.000\n",
      "            61          -0.00690        1.000\n",
      "            62          -0.00690        1.000\n",
      "            63          -0.00690        1.000\n",
      "            64          -0.00690        1.000\n",
      "            65          -0.00690        1.000\n",
      "            66          -0.00690        1.000\n",
      "            67          -0.00690        1.000\n",
      "            68          -0.00690        1.000\n",
      "            69          -0.00690        1.000\n",
      "            70          -0.00690        1.000\n",
      "            71          -0.00690        1.000\n",
      "            72          -0.00690        1.000\n",
      "            73          -0.00690        1.000\n",
      "            74          -0.00690        1.000\n",
      "            75          -0.00690        1.000\n",
      "            76          -0.00690        1.000\n",
      "            77          -0.00690        1.000\n",
      "            78          -0.00690        1.000\n",
      "            79          -0.00690        1.000\n",
      "            80          -0.00690        1.000\n",
      "            81          -0.00690        1.000\n",
      "            82          -0.00690        1.000\n",
      "            83          -0.00690        1.000\n",
      "            84          -0.00690        1.000\n",
      "            85          -0.00690        1.000\n",
      "            86          -0.00690        1.000\n",
      "            87          -0.00690        1.000\n",
      "            88          -0.00690        1.000\n",
      "            89          -0.00690        1.000\n",
      "            90          -0.00690        1.000\n",
      "            91          -0.00690        1.000\n",
      "            92          -0.00690        1.000\n",
      "            93          -0.00690        1.000\n",
      "            94          -0.00690        1.000\n",
      "            95          -0.00690        1.000\n",
      "            96          -0.00690        1.000\n",
      "            97          -0.00690        1.000\n",
      "            98          -0.00690        1.000\n",
      "            99          -0.00690        1.000\n",
      "         Final          -0.00690        1.000\n",
      "Done Calculating Other Accuracy\n"
     ]
    }
   ],
   "source": [
    "print \"Calculating other Accuracy\"\n",
    "other_naivebayes_classifier_accuracy = other_naivebayes_classifier.accuracy(other_test)\n",
    "other_decisiontree_classifier_accuracy = other_decisiontree_classifier.accuracy(other_test)\n",
    "#positivenaivebayes_classifier_accuracy = positivenaivebayes_classifier.accuracy(test)\n",
    "other_maxent_classifier_accuracy = other_maxent_classifier.accuracy(other_test)\n",
    "print \"Done Calculating other Accuracy\"\n",
    "\n",
    "print \"Calculating Clinton Accuracy\"\n",
    "#nltk_classifier_accuracy = nltk_classifier.accuracy(test)\n",
    "clinton_naivebayes_classifier_accuracy = clinton_naivebayes_classifier.accuracy(clinton_test)\n",
    "clinton_decisiontree_classifier_accuracy = clinton_decisiontree_classifier.accuracy(clinton_test)\n",
    "#positivenaivebayes_classifier_accuracy = positivenaivebayes_classifier.accuracy(test)\n",
    "clinton_maxent_classifier_accuracy = clinton_maxent_classifier.accuracy(clinton_test)\n",
    "print \"Done Calculating Clinton Accuracy\"\n",
    "\n",
    "print \"Calculating Other Accuracy\"\n",
    "#nltk_classifier_accuracy = nltk_classifier.accuracy(test)\n",
    "other_naivebayes_classifier_accuracy = other_naivebayes_classifier.accuracy(other_test)\n",
    "other_decisiontree_classifier_accuracy = other_decisiontree_classifier.accuracy(other_test)\n",
    "#positivenaivebayes_classifier_accuracy = positivenaivebayes_classifier.accuracy(test)\n",
    "other_maxent_classifier_accuracy = other_maxent_classifier.accuracy(other_test)\n",
    "print \"Done Calculating Other Accuracy\""
   ]
  },
  {
   "cell_type": "code",
   "execution_count": 44,
   "metadata": {
    "collapsed": false
   },
   "outputs": [
    {
     "name": "stdout",
     "output_type": "stream",
     "text": [
      "Trump Accuracy:\n",
      "Naive Bayes Accuracy:  0.443089430894\n",
      "Decision Tree Accuracy:  0.422764227642\n",
      "Maxent Accuracy:  0.284552845528\n",
      "Clinton Accuracy:\n",
      "Naive Bayes Accuracy:  0.553191489362\n",
      "Decision Tree Accuracy:  0.489361702128\n",
      "Maxent Accuracy:  0.521276595745\n",
      "Other Accuracy:\n",
      "Naive Bayes Accuracy:  0.535714285714\n",
      "Decision Tree Accuracy:  0.511904761905\n",
      "Maxent Accuracy:  0.535714285714\n"
     ]
    }
   ],
   "source": [
    "print \"other Accuracy:\"\n",
    "print \"Naive Bayes Accuracy: \", other_naivebayes_classifier_accuracy\n",
    "print \"Decision Tree Accuracy: \", other_decisiontree_classifier_accuracy\n",
    "print \"Maxent Accuracy: \", other_maxent_classifier_accuracy\n",
    "\n",
    "print \"Clinton Accuracy:\"\n",
    "print \"Naive Bayes Accuracy: \", clinton_naivebayes_classifier_accuracy\n",
    "print \"Decision Tree Accuracy: \", clinton_decisiontree_classifier_accuracy\n",
    "print \"Maxent Accuracy: \", clinton_maxent_classifier_accuracy\n",
    "\n",
    "print \"Other Accuracy:\"\n",
    "print \"Naive Bayes Accuracy: \", other_naivebayes_classifier_accuracy\n",
    "print \"Decision Tree Accuracy: \", other_decisiontree_classifier_accuracy\n",
    "print \"Maxent Accuracy: \", other_maxent_classifier_accuracy"
   ]
  }
 ],
 "metadata": {
  "anaconda-cloud": {},
  "kernelspec": {
   "display_name": "Python [conda root]",
   "language": "python",
   "name": "conda-root-py"
  },
  "language_info": {
   "codemirror_mode": {
    "name": "ipython",
    "version": 2
   },
   "file_extension": ".py",
   "mimetype": "text/x-python",
   "name": "python",
   "nbconvert_exporter": "python",
   "pygments_lexer": "ipython2",
   "version": "2.7.12"
  }
 },
 "nbformat": 4,
 "nbformat_minor": 1
}
